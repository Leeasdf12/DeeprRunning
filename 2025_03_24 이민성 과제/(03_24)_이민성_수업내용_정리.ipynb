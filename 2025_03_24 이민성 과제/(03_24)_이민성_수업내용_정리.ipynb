{
  "nbformat": 4,
  "nbformat_minor": 0,
  "metadata": {
    "colab": {
      "provenance": []
    },
    "kernelspec": {
      "name": "python3",
      "display_name": "Python 3"
    },
    "language_info": {
      "name": "python"
    }
  },
  "cells": [
    {
      "cell_type": "markdown",
      "source": [
        "# 리스트\n",
        "\n",
        "* 다양한 자료형을 복합적으로 사용할 수 있는 것이 특징이다."
      ],
      "metadata": {
        "id": "XYGkueOyoVHI"
      }
    },
    {
      "cell_type": "code",
      "execution_count": null,
      "metadata": {
        "colab": {
          "base_uri": "https://localhost:8080/"
        },
        "id": "gt6IKcDldqu7",
        "outputId": "ed5079a5-5c83-43bf-dd39-579d89a683f7"
      },
      "outputs": [
        {
          "output_type": "stream",
          "name": "stdout",
          "text": [
            "[]\n",
            "[1, '문자열', -0.5, '안녕']\n",
            "[1, '문자열', -0.5, '안녕']\n"
          ]
        }
      ],
      "source": [
        "# 비어있는 리스트 생성 방법 2가지\n",
        "a = list()\n",
        "ㅁ = []\n",
        "\n",
        "# 다양한 자료형을 포함하는 리스트 선언\n",
        "b = [1, \"문자열\", -0.5, '안녕']\n",
        "\n",
        "# 리스트를 복사하는 방법\n",
        "c = list(b)\n",
        "\n",
        "# 리스트 출력\n",
        "print(a)\n",
        "print(b)\n",
        "print(c)"
      ]
    },
    {
      "cell_type": "markdown",
      "source": [
        "* 리스트를 생성할 수 있는 방법들이다."
      ],
      "metadata": {
        "id": "D9RR4l9qkZO3"
      }
    },
    {
      "cell_type": "markdown",
      "source": [
        "# 리스트 인덱싱\n",
        "\n",
        "* 리스트도 문자열과 유사하게 인덱싱 및 슬라이싱이 가능하다."
      ],
      "metadata": {
        "id": "wiqauO52lGAP"
      }
    },
    {
      "cell_type": "code",
      "source": [
        "# 리스트 요소 출력 확인\n",
        "a = [1, \"문자열\", -0.5, '안녕']\n",
        "print('a[0]:', a[0])\n",
        "print('a[1]:', a[1])\n",
        "print('a[2]:', a[2])\n",
        "print('a[3]:', a[3])\n",
        "\n",
        "# 리스트 요소를 문자열로 변환하여 출력\n",
        "b = [1, 2, [3, 4, 5]]\n",
        "print(\"b[0] \" + str(b[0]))\n",
        "print(\"b[1] \" + str(b[1]))\n",
        "print(\"b[2] \" + str(b[2]))\n",
        "\n",
        "# 중첩 리스트 접근 (다중 인덱싱)\n",
        "c = [1, 2, 3, ['python', ' is', 'good', ['a', 'b', 'c']]]\n",
        "print(c[3][3][1])"
      ],
      "metadata": {
        "colab": {
          "base_uri": "https://localhost:8080/"
        },
        "id": "4jsOmvj9lRea",
        "outputId": "ba532541-4f65-4fcb-e2cd-9093a4bdd0d6"
      },
      "execution_count": null,
      "outputs": [
        {
          "output_type": "stream",
          "name": "stdout",
          "text": [
            "a[0]:  1\n",
            "a[0]:  문자열\n",
            "a[0]:  -0.5\n",
            "a[0]:  안녕\n",
            "b[0]1\n",
            "b[1]2\n",
            "b[2][3, 4, 5]\n",
            "b\n"
          ]
        }
      ]
    },
    {
      "cell_type": "markdown",
      "source": [
        "* 리스트는 인덱스를 사용해 특정 요소에 접근 가능\n",
        "* 리스트 안에 리스트도 포함될 수 있으며, 중첩 리스트의 요소는 다중 인덱싱으로 접근 가능\n",
        "* 문자열과 함께 출력할 때는 str()을 사용해 형 변환이 요구될 때도 있음"
      ],
      "metadata": {
        "id": "zXc9mzcso75H"
      }
    },
    {
      "cell_type": "code",
      "source": [
        "# 중첩 리스트를 포함한 리스트 선언\n",
        "b = [1, 2, 3, ['python', 'is', 'good', ['a', 'b', 'c']]]\n",
        "\n",
        "# 리스트 슬라이싱 예제\n",
        "print(b[0:3])\n",
        "\n",
        "# 중첩 리스트에서 슬라이싱\n",
        "print(b[3][2:4])"
      ],
      "metadata": {
        "colab": {
          "base_uri": "https://localhost:8080/"
        },
        "id": "YpLYL0rimg4H",
        "outputId": "60a486cc-a761-4df7-f7a4-18fdaece11f4"
      },
      "execution_count": 45,
      "outputs": [
        {
          "output_type": "stream",
          "name": "stdout",
          "text": [
            "[1, 2, 3]\n",
            "['good', ['a', 'b', 'c']]\n"
          ]
        }
      ]
    },
    {
      "cell_type": "markdown",
      "source": [
        "* 문자열처럼 슬라이싱 가능"
      ],
      "metadata": {
        "id": "Cz29MIeLp6Ww"
      }
    },
    {
      "cell_type": "code",
      "source": [
        "a = [1,2,3]\n",
        "b = [4,5,6]\n",
        "\n",
        "# 리스트 덧셈\n",
        "c = a + b\n",
        "print('a + b = ', c)\n",
        "\n",
        "# 리스트 곱셈\n",
        "print('a * 3 = ', a*3)\n",
        "print('b * 4 = ',b*4)"
      ],
      "metadata": {
        "colab": {
          "base_uri": "https://localhost:8080/"
        },
        "id": "vDf_4NC7m2rv",
        "outputId": "271e62ef-effb-4945-9661-089499712a32"
      },
      "execution_count": null,
      "outputs": [
        {
          "output_type": "stream",
          "name": "stdout",
          "text": [
            "a + b =  [1, 2, 3, 4, 5, 6]\n",
            "a * 3 =  [1, 2, 3, 1, 2, 3, 1, 2, 3]\n",
            "b * 4 =  [4, 5, 6, 4, 5, 6, 4, 5, 6, 4, 5, 6]\n"
          ]
        }
      ]
    },
    {
      "cell_type": "markdown",
      "source": [
        "* 해당 코드처럼 리스트에 덧셈, 곱셈이 가능"
      ],
      "metadata": {
        "id": "CsATYtyFqKlv"
      }
    },
    {
      "cell_type": "code",
      "source": [
        "# 리스트 선언\n",
        "b = [1, 2, 3, ['python', 'is', 'good', ['a', 'b', 'c']]]\n",
        "\n",
        "# 리스트의 전체 길이 출력\n",
        "print(len(b))  # 최상위 리스트 요소 개수\n",
        "\n",
        "# 중첩 리스트의 길이 출력\n",
        "print(len(b[3]))  # b[3] 리스트의 요소 개수\n",
        "\n",
        "# 문자열 요소의 길이 출력\n",
        "print(len(b[3][0]))  # 'python' 문자열의 길이"
      ],
      "metadata": {
        "colab": {
          "base_uri": "https://localhost:8080/"
        },
        "id": "FwCYspXCnVaA",
        "outputId": "1f262c72-b501-4631-a27d-73c2bf04a893"
      },
      "execution_count": null,
      "outputs": [
        {
          "output_type": "stream",
          "name": "stdout",
          "text": [
            "4\n",
            "4\n",
            "6\n"
          ]
        }
      ]
    },
    {
      "cell_type": "markdown",
      "source": [
        "* 중첩 리스트의 요소는 다중 인덱싱을 사용해 접근 가능\n",
        "* 리스트의 요소가 문자열인 경우 문자열의 길이가 반환됨"
      ],
      "metadata": {
        "id": "okYg5FFNzhsB"
      }
    },
    {
      "cell_type": "markdown",
      "source": [
        "# 리스트 요소 삭제와 수정"
      ],
      "metadata": {
        "id": "y5uIjkybrTI4"
      }
    },
    {
      "cell_type": "code",
      "source": [
        "# 리스트 선언\n",
        "a = [1, 2, 3, 4, 6]\n",
        "print(a\n",
        "\n",
        "# 리스트 값 변경\n",
        "a[4] = 5\n",
        "print(a)\n",
        "\n",
        "# 리스트 요소 삭제\n",
        "del a[0]\n",
        "print(a)\n",
        "\n",
        "del a[2:]  #2번 인덱스부터 끝까지 삭제\n",
        "print(a)\n",
        "\n",
        "# 리스트에 요소 추가\n",
        "a.append(4)\n",
        "print(a)\n",
        "\n",
        "# 리스트를 추가 (중첩 리스트)\n",
        "a.append([5, 6, 7, 8])\n",
        "print(a)"
      ],
      "metadata": {
        "colab": {
          "base_uri": "https://localhost:8080/"
        },
        "id": "1UbpStiSqqrg",
        "outputId": "0ef3beff-4175-4de0-ccd4-955b7ec35788"
      },
      "execution_count": null,
      "outputs": [
        {
          "output_type": "stream",
          "name": "stdout",
          "text": [
            "[1, 2, 3, 4, 6]\n",
            "[1, 2, 3, 4, 5]\n",
            "[2, 3, 4, 5]\n",
            "[2, 3]\n",
            "[2, 3, 4]\n",
            "[2, 3, 4, [5, 6, 7, 8]]\n"
          ]
        }
      ]
    },
    {
      "cell_type": "markdown",
      "source": [
        "* del a[x]는 x번째 요솟값을 삭제\n",
        "* 슬라이싱 기법을 사용하여 리스트의 요소 여러 개를 한꺼번에 삭제 가능\n",
        "* append로 리스트에 요소를 추가할 수 있음"
      ],
      "metadata": {
        "id": "XefQXgF407lC"
      }
    },
    {
      "cell_type": "code",
      "source": [
        "# 정렬\n",
        "a = [1, 4, 3, 2]\n",
        "a.sort()\n",
        "print(a)"
      ],
      "metadata": {
        "colab": {
          "base_uri": "https://localhost:8080/"
        },
        "id": "jBVkHFZmra94",
        "outputId": "48044e92-aebf-453d-f30e-eb62f551589f"
      },
      "execution_count": null,
      "outputs": [
        {
          "output_type": "stream",
          "name": "stdout",
          "text": [
            "[1, 2, 3, 4]\n"
          ]
        }
      ]
    },
    {
      "cell_type": "markdown",
      "source": [
        "* 리스트 정렬 - sort"
      ],
      "metadata": {
        "id": "iiYcuYZW1Zm6"
      }
    },
    {
      "cell_type": "code",
      "source": [
        "# 뒤집기\n",
        "a = ['a', 'c', 'b']\n",
        "a.reverse()\n",
        "print(a)\n"
      ],
      "metadata": {
        "colab": {
          "base_uri": "https://localhost:8080/"
        },
        "id": "xIv44SYHriwB",
        "outputId": "26353c20-9d4a-45c1-e052-62980077b257"
      },
      "execution_count": null,
      "outputs": [
        {
          "output_type": "stream",
          "name": "stdout",
          "text": [
            "['b', 'c', 'a']\n"
          ]
        }
      ]
    },
    {
      "cell_type": "markdown",
      "source": [
        "* 리스트 뒤집기 - reverse\n",
        "* 현재 리스트를 그대로 뒤집어서 정렬 X"
      ],
      "metadata": {
        "id": "PWoS7NtC1jey"
      }
    },
    {
      "cell_type": "code",
      "source": [
        "# 인덱스값(위칫값)\n",
        "a = [1, 2, 3]\n",
        "print(a.index(3))\n",
        "print(a.index(1))"
      ],
      "metadata": {
        "colab": {
          "base_uri": "https://localhost:8080/"
        },
        "id": "jsHjElslrv3h",
        "outputId": "a1222937-62d4-450d-e0c1-7535c0522125"
      },
      "execution_count": null,
      "outputs": [
        {
          "output_type": "stream",
          "name": "stdout",
          "text": [
            "2\n",
            "0\n"
          ]
        }
      ]
    },
    {
      "cell_type": "markdown",
      "source": [
        "* 인덱스 값(위칫값) - index\n",
        "* 리스트안에 값의 위치를 찾아줌 (없으면 에러)"
      ],
      "metadata": {
        "id": "ReFulK2q4I5L"
      }
    },
    {
      "cell_type": "code",
      "source": [
        "# 요소 삽입\n",
        "a = [1, 2, 3]\n",
        "print(a)\n",
        "a.insert(0, 4)\n",
        "print(a)"
      ],
      "metadata": {
        "colab": {
          "base_uri": "https://localhost:8080/"
        },
        "id": "hxo0uBV7r_SY",
        "outputId": "ab0ea67e-10fe-4d0f-f3cb-862ddd4890db"
      },
      "execution_count": null,
      "outputs": [
        {
          "output_type": "stream",
          "name": "stdout",
          "text": [
            "[1, 2, 3]\n",
            "[4, 1, 2, 3]\n"
          ]
        }
      ]
    },
    {
      "cell_type": "markdown",
      "source": [
        "* 리스트에 요소 삽입 - insert\n",
        "* 위 코드 기준 0번째에 4를 삽입한다."
      ],
      "metadata": {
        "id": "GCyrI-Um1X7S"
      }
    },
    {
      "cell_type": "code",
      "source": [
        "# 요소 제거\n",
        "a = [1, 2, 3, 1, 2, 3]\n",
        "print(a)\n",
        "a.remove(3) #델리트는 위치로 지우지만 리무브는 값으로 맨앞에 하나 지움 (없는건 에러)\n",
        "print(a)"
      ],
      "metadata": {
        "colab": {
          "base_uri": "https://localhost:8080/"
        },
        "id": "vUD7BGXRsUtY",
        "outputId": "81612665-6727-477e-cc99-4b562711a31b"
      },
      "execution_count": null,
      "outputs": [
        {
          "output_type": "stream",
          "name": "stdout",
          "text": [
            "[1, 2, 3, 1, 2, 3]\n",
            "[1, 2, 1, 2, 3]\n"
          ]
        }
      ]
    },
    {
      "cell_type": "markdown",
      "source": [
        "* 리스트 요소 제거 - remove"
      ],
      "metadata": {
        "id": "UCXXWqIH4i1j"
      }
    },
    {
      "cell_type": "code",
      "source": [
        "# 요소 추출\n",
        "a = [1, 2, 3, 4, 5]\n",
        "print(a)\n",
        "\n",
        "b = a.pop(2)\n",
        "print(a)\n",
        "print(b)"
      ],
      "metadata": {
        "colab": {
          "base_uri": "https://localhost:8080/"
        },
        "id": "M8yIQPlIspig",
        "outputId": "c7cfb576-ceb2-492c-eec2-51d57f33dbde"
      },
      "execution_count": null,
      "outputs": [
        {
          "output_type": "stream",
          "name": "stdout",
          "text": [
            "[1, 2, 3, 4, 5]\n",
            "[1, 2, 4, 5]\n",
            "3\n"
          ]
        }
      ]
    },
    {
      "cell_type": "markdown",
      "source": [
        "* 리스트 요소 끄집어 내기 - pop\n",
        "* pop()은 리스트의 맨 마지막 요소를 리턴하고 그 요소는 삭제\n",
        "* 다른 변수로 추출해낼때 용이"
      ],
      "metadata": {
        "id": "JhmKjGQv4m3i"
      }
    },
    {
      "cell_type": "code",
      "source": [
        "# 개수 세기\n",
        "a = [1, 2, 3, 1]\n",
        "print(a.count(1)) #리스트안에 1이라는 숫자의 갯수"
      ],
      "metadata": {
        "colab": {
          "base_uri": "https://localhost:8080/"
        },
        "id": "pm6WTGy2tLlh",
        "outputId": "ff7d6f52-9959-4df5-b0d1-c3b50aab4678"
      },
      "execution_count": null,
      "outputs": [
        {
          "output_type": "stream",
          "name": "stdout",
          "text": [
            "2\n"
          ]
        }
      ]
    },
    {
      "cell_type": "markdown",
      "source": [
        "* 리스트에 포함된 요소 x의 개수 세기 - count"
      ],
      "metadata": {
        "id": "PCKlR1c74zhq"
      }
    },
    {
      "cell_type": "markdown",
      "source": [
        "# 튜플\n",
        "\n",
        "* 리스트와 마찬가지로 모든 자료형을 담을 수 있지만, 튜플은 한 번 생성하면 변경 불가능"
      ],
      "metadata": {
        "id": "sVgyEiiZtieR"
      }
    },
    {
      "cell_type": "code",
      "source": [
        "# 튜플 생성 예제\n",
        "t1 = ()\n",
        "t2 = (1,)\n",
        "t3 = (1, 2, 3)\n",
        "t4 = 1, 2, 3\n",
        "t5 = ('a', 'b', ('ab', 'cd'))\n",
        "\n",
        "print(t1)\n",
        "print(t2)\n",
        "print(t3)\n",
        "print(t4)\n",
        "print(t5)"
      ],
      "metadata": {
        "colab": {
          "base_uri": "https://localhost:8080/"
        },
        "id": "-8OqVjGitsZB",
        "outputId": "ecfaf720-2d99-420f-f856-ef461236b2d6"
      },
      "execution_count": null,
      "outputs": [
        {
          "output_type": "stream",
          "name": "stdout",
          "text": [
            "()\n",
            "(1,)\n",
            "(1, 2, 3)\n",
            "(1, 2, 3)\n",
            "('a', 'b', ('ab', 'cd'))\n"
          ]
        }
      ]
    },
    {
      "cell_type": "markdown",
      "source": [
        "* 소괄호(()) 로 생성\n",
        "* t2 = (1,)처럼 단지 1개의 요소만을 가질 때는 요소 뒤에 쉼표(,)를 반드시 붙여야 함\n",
        "* t4 처럼 소괄호를 생략해도 됨\n",
        "* 튜플안에 값을 변경시 에러 발생\n"
      ],
      "metadata": {
        "id": "MwOQxm8V5dfs"
      }
    },
    {
      "cell_type": "markdown",
      "source": [
        "#불 자료형(BOOL)"
      ],
      "metadata": {
        "id": "Av8gjk7GuK6w"
      }
    },
    {
      "cell_type": "code",
      "source": [
        "a = True\n",
        "b = False\n",
        "\n",
        "# 변수 타입 출력\n",
        "print(type(a))\n",
        "print(type(b))\n",
        "\n",
        "# bool() 함수로 데이터의 참/거짓 판별\n",
        "print(bool([1, 2, 3]))\n",
        "print(bool([]))\n",
        "print(0)\n",
        "print(bool(3))"
      ],
      "metadata": {
        "colab": {
          "base_uri": "https://localhost:8080/"
        },
        "id": "dFw6j0ViuJrZ",
        "outputId": "dd05faeb-3022-4d07-9ae6-1f10dceb1f62"
      },
      "execution_count": null,
      "outputs": [
        {
          "output_type": "stream",
          "name": "stdout",
          "text": [
            "<class 'bool'>\n",
            "<class 'bool'>\n",
            "True\n",
            "False\n",
            "0\n",
            "True\n"
          ]
        }
      ]
    },
    {
      "cell_type": "markdown",
      "source": [
        "* type 변수로 자료형 확인\n",
        "* 값이 없거나 0이면 False\n",
        "* 값이 있으면 True로 리턴"
      ],
      "metadata": {
        "id": "v5T7rrxQ6aw0"
      }
    },
    {
      "cell_type": "markdown",
      "source": [
        "#비교 연산자\n"
      ],
      "metadata": {
        "id": "5a0gBduiuVmZ"
      }
    },
    {
      "cell_type": "code",
      "source": [
        "a = 10\n",
        "b = 5\n",
        "\n",
        "# 비교 연산자 예제\n",
        "print(a == b)  # False (같은지 비교)\n",
        "print(a != b)  # True  (다른지 비교)\n",
        "print(a > b)   # True  (초과)\n",
        "print(a < b)   # False (미만)\n",
        "print(a >= b)  # True  (이상)\n",
        "print(a <= b)  # False (이하)"
      ],
      "metadata": {
        "colab": {
          "base_uri": "https://localhost:8080/"
        },
        "id": "eBkkVG-PuVDR",
        "outputId": "ec3ba9f4-ff14-431c-8c17-5ee62b261aa8"
      },
      "execution_count": null,
      "outputs": [
        {
          "output_type": "stream",
          "name": "stdout",
          "text": [
            "False\n",
            "True\n",
            "True\n",
            "False\n",
            "True\n",
            "False\n"
          ]
        }
      ]
    },
    {
      "cell_type": "markdown",
      "source": [
        "#논리 연산자"
      ],
      "metadata": {
        "id": "j4BilYm_ub4B"
      }
    },
    {
      "cell_type": "code",
      "source": [
        "x = True\n",
        "y = False\n",
        "\n",
        "# 논리 연산자 예제\n",
        "print(x and y)  # False (둘 다 True여야 True)\n",
        "print(x or y)   # True  (하나라도 True면 True)\n",
        "print(not x)    # False (논리값을 반대로 변환)\n",
        "print(not y)    # True  (논리값을 반대로 변환)"
      ],
      "metadata": {
        "id": "M4V7a3r9ufop"
      },
      "execution_count": null,
      "outputs": []
    },
    {
      "cell_type": "markdown",
      "source": [
        "# 딕셔너리\n",
        "\n",
        "* Key와 Value를 한쌍으로 가지는 자료형\n",
        "* 순차적으로 접근하지 않고, 오직 Key를 통해서 Value값에 접근.\n",
        "* 순서가 없기 떄문에, 인덱싱 및 슬라이싱이 불가능.\n",
        "* Key값은 고유한 값으로, 중복되는 Key값을 사용하면 안됨."
      ],
      "metadata": {
        "id": "kj-4cq2eum6B"
      }
    },
    {
      "cell_type": "code",
      "source": [
        "# 딕셔너리 생성\n",
        "dic = {'사과': 'apple', '바나나': 'banana', '메론': 'melon', '복숭아': 'peach'}\n",
        "\n",
        "# 딕셔너리 출력\n",
        "print(dic)\n",
        "\n",
        "# 특정 키의 값 가져오기\n",
        "print(dic['사과'])  # apple\n",
        "print(dic['바나나'])  # banana"
      ],
      "metadata": {
        "colab": {
          "base_uri": "https://localhost:8080/"
        },
        "id": "PQJeV3q3uoph",
        "outputId": "4a064df5-e863-4bf1-eb8f-691d8a4987a4"
      },
      "execution_count": null,
      "outputs": [
        {
          "output_type": "stream",
          "name": "stdout",
          "text": [
            "{'사과': 'apple', '바나나': 'banana', '메론': 'melon', '복숭아': 'peach'}\n",
            "apple\n",
            "banana\n"
          ]
        }
      ]
    },
    {
      "cell_type": "markdown",
      "source": [
        "# 딕셔너리 추가 및 삭제"
      ],
      "metadata": {
        "id": "4ZV6t1YwvIgS"
      }
    },
    {
      "cell_type": "code",
      "source": [
        "# 딕셔너리 선언\n",
        "dic = {1:'one', 2:'two'}\n",
        "print(dic)\n",
        "\n",
        "# 새로운 키-값 추가\n",
        "dic[3] = '쓰리'\n",
        "print(dic)\n",
        "\n",
        "# 중복 키에 값 추가\n",
        "dic[3] = 'three'\n",
        "print(dic)\n",
        "\n",
        "# 특정 키 삭제\n",
        "del dic[2]\n",
        "print(dic)\n",
        "\n",
        "print(dic[1])\n",
        "\n",
        "# 키가 중복될 경우 마지막 값이 적용\n",
        "test_dic = {1:'one', 2:'two', 2:'둘', 3:'three',3:'셋', 4:'four'}\n",
        "print(test_dic)"
      ],
      "metadata": {
        "colab": {
          "base_uri": "https://localhost:8080/"
        },
        "id": "a9TkNBlHvMUd",
        "outputId": "e2f0e448-9b75-4806-c805-c7e9d7680fdc"
      },
      "execution_count": null,
      "outputs": [
        {
          "output_type": "stream",
          "name": "stdout",
          "text": [
            "{1: 'one', 2: 'two'}\n",
            "{1: 'one', 2: 'two', 3: '쓰리'}\n",
            "{1: 'one', 2: 'two', 3: 'three'}\n",
            "{1: 'one', 3: 'three'}\n",
            "one\n",
            "{1: 'one', 2: '둘', 3: '셋', 4: 'four'}\n"
          ]
        }
      ]
    },
    {
      "cell_type": "markdown",
      "source": [
        "* 딕셔너리를 추가할때 기존에 존재하는 키 값에 넣을 경우 맨 마지막에 넣은 값으로 저장\n",
        "* 딕셔너리를 삭제할때 해당 키 값의 인덱스로 삭제 가능"
      ],
      "metadata": {
        "id": "1OVvLX1d7o1s"
      }
    },
    {
      "cell_type": "markdown",
      "source": [
        "# 딕셔너리 관련 함수"
      ],
      "metadata": {
        "id": "BsLiyTk5wDwK"
      }
    },
    {
      "cell_type": "code",
      "source": [
        "dic = {'사과': 'apple', '바나나': 'banana', '메론': 'melon', '복숭아': 'peach'}\n",
        "print(dic.keys()) # 키 목록 출력\n",
        "print(dic.values()) # 값 목록 출력\n",
        "print(dic.items()) # (키, 값) 튜플 목록 출력\n",
        "\n",
        "print(dic.get('바나나')) # '바나나'의 값 가져오기\n",
        "print(dic['바나나']) # get 생략 가능\n",
        "\n",
        "print('사과' in dic)\n",
        "print('수박' in dic)\n",
        "\n",
        "\n",
        "dic.clear() # 딕셔너리 클리어\n",
        "print(dic)"
      ],
      "metadata": {
        "colab": {
          "base_uri": "https://localhost:8080/"
        },
        "id": "f9FoWvS1wG3p",
        "outputId": "73130ac5-f9f4-4fdb-ae11-2ea1bee76b4e"
      },
      "execution_count": null,
      "outputs": [
        {
          "output_type": "stream",
          "name": "stdout",
          "text": [
            "dict_keys(['사과', '바나나', '메론', '복숭아'])\n",
            "dict_values(['apple', 'banana', 'melon', 'peach'])\n",
            "dict_items([('사과', 'apple'), ('바나나', 'banana'), ('메론', 'melon'), ('복숭아', 'peach')])\n",
            "banana\n",
            "banana\n",
            "True\n",
            "False\n",
            "{}\n"
          ]
        }
      ]
    },
    {
      "cell_type": "markdown",
      "source": [
        "* Key 리스트 만들기 - keys\n",
        "* Value 리스트 만들기 - values\n",
        "* Key, Value 쌍 얻기 - items\n",
        "* Key로 Value 얻기 - get\n",
        "* 해당 Key가 딕셔너리 안에 있는지 조사하기 - in\n",
        "* Key: Value 쌍 모두 지우기 - clear"
      ],
      "metadata": {
        "id": "DKpXmDIr8Goz"
      }
    },
    {
      "cell_type": "markdown",
      "source": [
        "#집합 자료형\n",
        "\n",
        "* 집합(set)과 관련된 것을 처리하기 위해 만든 자료형\n",
        "* **중복을 허용하지 않는다.**\n",
        "* 순서가 없다."
      ],
      "metadata": {
        "id": "0JIi6ggRxtbJ"
      }
    },
    {
      "cell_type": "code",
      "source": [
        "# 집합(set) 생성\n",
        "s1 = set([1,2,3,3,2])\n",
        "s2 = set('i am a boy')\n",
        "s3 = set([1,5,6])\n",
        "\n",
        "print(s1)\n",
        "print(s2)\n",
        "print(s3)\n",
        "\n",
        "# 집합을 리스트로 변환\n",
        "li = list(s1)\n",
        "print(li)\n",
        "print(li[0])"
      ],
      "metadata": {
        "colab": {
          "base_uri": "https://localhost:8080/"
        },
        "id": "cS8pnRixxsq6",
        "outputId": "e87ea383-dbad-4947-eefd-bb9ba6b74402"
      },
      "execution_count": null,
      "outputs": [
        {
          "output_type": "stream",
          "name": "stdout",
          "text": [
            "{1, 2, 3}\n",
            "{'o', ' ', 'a', 'i', 'y', 'm', 'b'}\n",
            "{1, 5, 6}\n",
            "[1, 2, 3]\n",
            "1\n"
          ]
        }
      ]
    },
    {
      "cell_type": "markdown",
      "source": [
        "* 집합으로 생성시 중복값은 사라짐\n",
        "* 문자열은 한 글자씩 분리 + 중복 제거\n",
        "* 문자열은 랜덤으로 저장됨\n",
        "* 리스트로 변환 시 중복값은 제거된 상태로 변환됨"
      ],
      "metadata": {
        "id": "0z9jeFo99A20"
      }
    },
    {
      "cell_type": "markdown",
      "source": [
        "#집합 연산"
      ],
      "metadata": {
        "id": "Dk88vnTMyo3q"
      }
    },
    {
      "cell_type": "code",
      "source": [
        "s1 = set([1,2,3,3,2])\n",
        "s2 = set('i am a boy')\n",
        "s3 = set([1,5,6])\n",
        "\n",
        "#교집합\n",
        "print(s1 & s3)\n",
        "\n",
        "#합집합\n",
        "print(s1 | s3)\n",
        "\n",
        "#차집합\n",
        "print(s1 - s3)"
      ],
      "metadata": {
        "colab": {
          "base_uri": "https://localhost:8080/"
        },
        "id": "rH8gvnrFyqdK",
        "outputId": "9bc0b618-235a-479f-d9ea-22b4e6cea083"
      },
      "execution_count": null,
      "outputs": [
        {
          "output_type": "stream",
          "name": "stdout",
          "text": [
            "{1}\n",
            "{1, 2, 3, 5, 6}\n",
            "{2, 3}\n"
          ]
        }
      ]
    },
    {
      "cell_type": "markdown",
      "source": [
        " * set 자료형을 정말 유용하게 사용하는 경우는 교집합, 합집합, 차집합을 구할 때임\n",
        " * 교집합(&), 합집합(|), 차집합(-)"
      ],
      "metadata": {
        "id": "RX3UCcXF93RF"
      }
    },
    {
      "cell_type": "markdown",
      "source": [
        "# 집합 관련 함수"
      ],
      "metadata": {
        "id": "JaXLroSezH3B"
      }
    },
    {
      "cell_type": "code",
      "source": [
        "s1 = set([1, 2, 3])\n",
        "s1.add(4) #값 1개 추가\n",
        "print(s1)\n",
        "\n",
        "s1.update([5, 6, 7]) #값 여러개 추가\n",
        "print(s1)\n",
        "\n",
        "s1.remove(2) #특정 값 제거\n",
        "print(s1)"
      ],
      "metadata": {
        "colab": {
          "base_uri": "https://localhost:8080/"
        },
        "id": "ufxocRx_-fpc",
        "outputId": "36a82af2-ca7d-4478-8200-c538757e5f9e"
      },
      "execution_count": null,
      "outputs": [
        {
          "output_type": "stream",
          "name": "stdout",
          "text": [
            "{1, 2, 3, 4}\n",
            "{1, 2, 3, 4, 5, 6, 7}\n",
            "{1, 3, 4, 5, 6, 7}\n"
          ]
        }
      ]
    },
    {
      "cell_type": "markdown",
      "source": [
        "* 리스트뿐만 아니라 튜플, 문자열도 넣을 수 있음\n",
        "* 제거하려는 값이 집합에 없으면 오류가 발생"
      ],
      "metadata": {
        "id": "3psNCT_g-fWU"
      }
    },
    {
      "cell_type": "markdown",
      "source": [
        "# 조건문 (if문)\n",
        "* 특정 조건을 평가하고, 그 조건에 따라 다른 코드를 실행\n",
        "* 참(True), 거짓(False)을 판단하여 조건에 맞는 문장을 수행하는것이 조건문"
      ],
      "metadata": {
        "id": "_NTTFc1hVXJo"
      }
    },
    {
      "cell_type": "code",
      "source": [
        "# 사용자의 문자 입력 받기\n",
        "character = input(\"문자를 입력하세요: \")\n",
        "\n",
        "# 입력한 문자가 'a' 인지 판별\n",
        "if character == 'a':\n",
        "  print(\"입력한 문자는 'a'입니다.\")\n",
        "else:\n",
        "  print(\"입력한 문자는 'a'가 아닙니다.\")"
      ],
      "metadata": {
        "colab": {
          "base_uri": "https://localhost:8080/"
        },
        "id": "04ArBtAlWMhg",
        "outputId": "bad8861c-d534-497a-928d-6ed783cf957d"
      },
      "execution_count": 47,
      "outputs": [
        {
          "output_type": "stream",
          "name": "stdout",
          "text": [
            "문자를 입력하세요: b\n",
            "입력한 문자는 'a'가 아닙니다.\n"
          ]
        }
      ]
    },
    {
      "cell_type": "markdown",
      "source": [
        "* **if문의 기본 구조**  \n",
        "if 조건문:  \n",
        "    수행할_문장1  \n",
        "    수행할_문장2  \n",
        "    ...  \n",
        "else:  \n",
        "    수행할_문장A  \n",
        "    수행할_문장B  \n",
        "    ...  \n",
        "* **if문은 들여쓰기로 if문에서 수행할 문장을 구분한다.**\n",
        "* **else 문은 if문 조건을 충족하지 못했을 경우 수행한다.**\n",
        "\n"
      ],
      "metadata": {
        "id": "6mZ3M2BhyXc1"
      }
    },
    {
      "cell_type": "code",
      "source": [
        "# 수학점수와 영어점수가 모두 60점 이상이면 합격을 토옵\n",
        "# and연산자: true, ture -> true\n",
        "\n",
        "math = 70\n",
        "eng = 50\n",
        "\n",
        "# 하나라도 False라면, 조건문이 수행되지 않음\n",
        "if math>=60 and eng>=60:\n",
        "  print(\"합격입니다.\")\n",
        "else:\n",
        "  print(\"불합격입니다.\")"
      ],
      "metadata": {
        "colab": {
          "base_uri": "https://localhost:8080/"
        },
        "id": "CVCYjOVvYMBJ",
        "outputId": "c2b985cb-3366-4058-ef28-545b046d6c6e"
      },
      "execution_count": 48,
      "outputs": [
        {
          "output_type": "stream",
          "name": "stdout",
          "text": [
            "불합격입니다.\n"
          ]
        }
      ]
    },
    {
      "cell_type": "markdown",
      "source": [
        "* **and, or, not**\n",
        "\n",
        "1.   and(x or y) :\tx와 y 둘 중 하나만 참이어도 참이다.\n",
        "2.   or(x and y) : \tx와 y 모두 참이어야 참이다.\n",
        "3.   not(not x)\t: x가 거짓이면 참이다.\n",
        "\n",
        "\n",
        "\n",
        "\n",
        "\n"
      ],
      "metadata": {
        "id": "xh5b0zJXy_8O"
      }
    },
    {
      "cell_type": "markdown",
      "source": [
        "# IN 연산자"
      ],
      "metadata": {
        "id": "7P7zvUKJY40Q"
      }
    },
    {
      "cell_type": "code",
      "source": [
        "list1 = [1, 2, 3, 4, 5]\n",
        "tuple1 = (2, 3, 4, 5)\n",
        "\n",
        "# in : ~~가 ~~안에 있니? -> True, False\n",
        "print(1 in list1)\n",
        "print(1 in tuple1)"
      ],
      "metadata": {
        "colab": {
          "base_uri": "https://localhost:8080/"
        },
        "id": "xzX0g1nAYk18",
        "outputId": "3992bdbc-c075-4a70-f0bf-237e855c4aec"
      },
      "execution_count": 49,
      "outputs": [
        {
          "output_type": "stream",
          "name": "stdout",
          "text": [
            "True\n",
            "False\n"
          ]
        }
      ]
    },
    {
      "cell_type": "markdown",
      "source": [
        " * 파이썬에서 있는 조건문이다.\n",
        " * in 연산자를 통해 해당 내용이 리스트,튜플,문자열 안에 있는지 확인 할 수 있고, 결과 값으로 True, False를 반환한다."
      ],
      "metadata": {
        "id": "wmSN1uUvze_u"
      }
    },
    {
      "cell_type": "markdown",
      "source": [
        "# *만약 주머니에 돈이 있으면 택시를 타고, 없으면 걸어가라고 명령*\n",
        "\n",
        "pocket = ['phone','wallet','money','IDcard']"
      ],
      "metadata": {
        "id": "9wGd73XDY8pp"
      }
    },
    {
      "cell_type": "code",
      "source": [
        "pocket = ['phone','wallet','money','IDcard']\n",
        "\n",
        "# in을 활용한 방법\n",
        "if 'money' in pocket:\n",
        "  print(\"택시를 타세요\")\n",
        "else:\n",
        "  print(\"걸어가세요\")\n",
        "\n",
        "# not in을 활용한 방법\n",
        "if 'money' not in pocket:\n",
        "  print(\"걸어가세요\")\n",
        "else:\n",
        "  print(\"택시를 타세요\")"
      ],
      "metadata": {
        "colab": {
          "base_uri": "https://localhost:8080/"
        },
        "id": "DR2GaVWQZKgg",
        "outputId": "bcc99944-d61b-4f1a-86d3-cb1054d04276"
      },
      "execution_count": 52,
      "outputs": [
        {
          "output_type": "stream",
          "name": "stdout",
          "text": [
            "택시를 타세요\n",
            "택시를 타세요\n"
          ]
        }
      ]
    },
    {
      "cell_type": "markdown",
      "source": [
        "# *만약 주머니에 돈이 있거나 카드가 있으면 택시를 타고, 없으면 걸어가라고 명령*\n",
        "\n",
        "pocket = ['phone','IDcard','money','card']"
      ],
      "metadata": {
        "id": "k28t0g_HbC0R"
      }
    },
    {
      "cell_type": "code",
      "source": [
        "pocket = ['phone','IDcard','money','card']\n",
        "\n",
        "# if, elif, else 활용\n",
        "if 'money' in pocket:\n",
        "  print(\"택시를 타세요\")\n",
        "elif 'card' in pocket:\n",
        "  print(\"택시를 타세요\")\n",
        "else:\n",
        "  print(\"걸어가세요\")\n",
        "\n",
        "\n",
        "# 논리 연산자 활용\n",
        "if ('money' in pocket) or ('card' in pocket):\n",
        "  print(\"택시를 타세요\")\n",
        "else:\n",
        "  print(\"걸어가세요\")"
      ],
      "metadata": {
        "colab": {
          "base_uri": "https://localhost:8080/"
        },
        "id": "DV-vER7taR2J",
        "outputId": "eae760e8-07c9-4030-8975-416addf22b02"
      },
      "execution_count": 53,
      "outputs": [
        {
          "output_type": "stream",
          "name": "stdout",
          "text": [
            "택시를 타세요\n",
            "택시를 타세요\n"
          ]
        }
      ]
    }
  ]
}
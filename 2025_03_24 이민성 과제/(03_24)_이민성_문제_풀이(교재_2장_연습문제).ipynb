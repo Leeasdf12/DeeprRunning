{
  "nbformat": 4,
  "nbformat_minor": 0,
  "metadata": {
    "colab": {
      "provenance": []
    },
    "kernelspec": {
      "name": "python3",
      "display_name": "Python 3"
    },
    "language_info": {
      "name": "python"
    }
  },
  "cells": [
    {
      "cell_type": "markdown",
      "source": [
        "# 점수에 따른 등급 부여 문제\n",
        "\n",
        "학생들에게 점수에 따라서 등급을 부여하려고 한다.\n",
        "90점 이상일 경우 A등급.\n",
        "80점 이상일 경우 B등급.\n",
        "70점 이상일 경우 C등급.\n",
        "70점 미만일 경우에는 D등급을 부여하는 코드를 작성하시오."
      ],
      "metadata": {
        "id": "BCSH81YeinKy"
      }
    },
    {
      "cell_type": "code",
      "source": [
        "num = int(input(\"점수를 입력하세요: \"))\n",
        "\n",
        "if num >= 90:\n",
        "  print('A 등급')\n",
        "elif num >= 80:\n",
        "  print('B 등급')\n",
        "elif num >= 70:\n",
        "  print('C 등급')\n",
        "elif num < 70:\n",
        "  print('D 등급')\n",
        "else:\n",
        "  print(\"올바른 점수를 입력하세요.\")"
      ],
      "metadata": {
        "colab": {
          "base_uri": "https://localhost:8080/"
        },
        "id": "9E8ThRwMjCoq",
        "outputId": "50532c0e-4a28-469d-9af9-9f4bc83aa170"
      },
      "execution_count": 5,
      "outputs": [
        {
          "output_type": "stream",
          "name": "stdout",
          "text": [
            "점수를 입력하세요: 55\n",
            "D 등급\n"
          ]
        }
      ]
    },
    {
      "cell_type": "markdown",
      "source": [
        "# 더 큰 숫자 출력 문제\n",
        "\n",
        "사용자에게 정수 값을 2개 입력받아, 더큰 숫자를 출력하고, 만약 같은 숫자라면 같습니다.라는 문장을 출력하시오."
      ],
      "metadata": {
        "id": "d9cLpeJFioDx"
      }
    },
    {
      "cell_type": "code",
      "source": [
        "num1 = int(input(\"첫번째 정수를 입력하세요: \"))\n",
        "num2 = int(input(\"두번째 정수를 입력하세요: \"))\n",
        "\n",
        "if num1 > num2:\n",
        "  print(\"더 큰 숫자는 %d 입니다.\" % num1)\n",
        "elif num1 < num2:\n",
        "  print(\"더 큰 숫자는 %d 입니다.\" % num2)\n",
        "else:\n",
        "  print(\"두 정수의 크기는 %d 로 같습니다\" % num2)"
      ],
      "metadata": {
        "id": "RexZPBYVkTFS"
      },
      "execution_count": null,
      "outputs": []
    },
    {
      "cell_type": "markdown",
      "source": [
        "# 숫자에 따른 단위 부여 문제\n",
        "\n",
        "숫자가 1000 이상이면, 백단위를 생략하고 K를 붙인다.\n",
        "숫자가 1000000 이상이면, 십만 단위를 생각하고 M을 붙인다.\n",
        "1,000 -> K\n",
        "1,000,000 -> M\n",
        "1,000,000,000 -> G\n",
        "\n",
        "*   입력: 25000\n",
        "*   출력: 25K\n",
        "\n",
        "*   입력: 123500000\n",
        "*   출력: 123M"
      ],
      "metadata": {
        "id": "_b6n-00GiqFS"
      }
    },
    {
      "cell_type": "code",
      "source": [
        "num = int(input(\"첫번째 정수를 입력하세요: \"))\n",
        "if num > 1000 and num < 1000000 and num < 1000000000:\n",
        "  num = num / 1000\n",
        "  print(\"출력값 %dk\" % num)\n",
        "elif num > 1000000 and num < 1000000000:\n",
        "  num = num / 1000000\n",
        "  print(\"출력값 %dM\" % num)\n",
        "elif num > 1000000000:\n",
        "  num = num / 1000000000\n",
        "  print(\"출력값 %dG\" % num)\n",
        "else:\n",
        "  print(\"출력값 %d\" % num)\n"
      ],
      "metadata": {
        "colab": {
          "base_uri": "https://localhost:8080/"
        },
        "id": "lWh6YpSJk22a",
        "outputId": "2bdfb837-7ced-40cc-e630-c47df67d2140"
      },
      "execution_count": 66,
      "outputs": [
        {
          "output_type": "stream",
          "name": "stdout",
          "text": [
            "첫번째 정수를 입력하세요: 100023132132\n",
            "출력값 100G\n"
          ]
        }
      ]
    },
    {
      "cell_type": "code",
      "source": [
        "num = int(input(\"첫번째 정수를 입력하세요: \"))\n",
        "\n",
        "if num > 1000000000:\n",
        "  num = num / 1000000000\n",
        "  print(\"출력값 %dG\" % num)\n",
        "elif num > 1000000:\n",
        "  num = num / 1000000\n",
        "  print(\"출력값 %dM\" % num)\n",
        "elif num > 1000:\n",
        "  num = num / 1000\n",
        "  print(\"출력값 %dk\" % num)\n",
        "else:\n",
        "  print(\"출력값 %d\" % num)"
      ],
      "metadata": {
        "colab": {
          "base_uri": "https://localhost:8080/"
        },
        "id": "D_UAdvHu2dvm",
        "outputId": "8524c8a1-f8d0-47da-d660-fd55024c66af"
      },
      "execution_count": 72,
      "outputs": [
        {
          "output_type": "stream",
          "name": "stdout",
          "text": [
            "첫번째 정수를 입력하세요: 12345678912\n",
            "출력값 12G\n"
          ]
        }
      ]
    },
    {
      "cell_type": "markdown",
      "source": [
        "# **점프 투 파이썬 2장 연습문제**"
      ],
      "metadata": {
        "id": "BkKeKv8Wl6XL"
      }
    },
    {
      "cell_type": "markdown",
      "source": [
        "# Q1. 평균 점수 구하기\n",
        "홍길동 씨의 과목별 점수는 다음과 가다. 홍길동 씨의 평균 점수를 구해 보자\n",
        "\n",
        "*   국어 : 80\n",
        "*   영어 : 75\n",
        "*   수학 : 55"
      ],
      "metadata": {
        "id": "s3Q7wYJLmbeK"
      }
    },
    {
      "cell_type": "code",
      "source": [
        "kor = 80\n",
        "eng = 75\n",
        "math = 55\n",
        "avg = (kor + eng + math) / 3\n",
        "\n",
        "print(\"홍길동씨의 평균 점수는  %d 입니다\" % avg)"
      ],
      "metadata": {
        "colab": {
          "base_uri": "https://localhost:8080/"
        },
        "id": "FEh20Dfdm2uL",
        "outputId": "4972eae5-b826-466a-fa54-597a44d68126"
      },
      "execution_count": 50,
      "outputs": [
        {
          "output_type": "stream",
          "name": "stdout",
          "text": [
            "홍길동씨의 평균 점수는  70 입니다\n"
          ]
        }
      ]
    },
    {
      "cell_type": "markdown",
      "source": [
        "# Q2.홀수, 짝수 판별하기\n",
        "자연수 13이 홀수인지, 짝수인지 판별할 수 있는 방법에 대해 말해 보자."
      ],
      "metadata": {
        "id": "f6FkQ2E-nV-j"
      }
    },
    {
      "cell_type": "code",
      "source": [
        "if(13 % 2):\n",
        "  print(\"13은 홀수입니다.\")\n",
        "else :\n",
        "  print(\"13은 짝수입니다.\")"
      ],
      "metadata": {
        "colab": {
          "base_uri": "https://localhost:8080/"
        },
        "id": "6JksdtBanc8D",
        "outputId": "5c4518b1-afd8-4413-d32d-f0fcf8e0088a"
      },
      "execution_count": 14,
      "outputs": [
        {
          "output_type": "stream",
          "name": "stdout",
          "text": [
            "13은 홀수입니다.\n"
          ]
        }
      ]
    },
    {
      "cell_type": "markdown",
      "source": [
        "# Q3.주민등록번호 나누기\n",
        "홍길동 씨의 주민등록번호는 881120-1068231이다. 홍길동 씨의 주민등록번호를 연원일(YYYYMMDD) 부분과 그 뒤의 숫자 부분으로 나누어 출력해 보자."
      ],
      "metadata": {
        "id": "9-z0Oe5FoUKT"
      }
    },
    {
      "cell_type": "code",
      "source": [
        "pin = '881120-1068231'\n",
        "yyyymmdd = '19'+ pin[:6]\n",
        "num = pin[7:]\n",
        "print(yyyymmdd)\n",
        "print(num)"
      ],
      "metadata": {
        "colab": {
          "base_uri": "https://localhost:8080/"
        },
        "id": "Z0ZOqPbBolCL",
        "outputId": "b58ef6b4-cc5f-4ce3-cf0b-e5f67b4805e0"
      },
      "execution_count": 25,
      "outputs": [
        {
          "output_type": "stream",
          "name": "stdout",
          "text": [
            "19881120\n",
            "1068231\n"
          ]
        }
      ]
    },
    {
      "cell_type": "markdown",
      "source": [
        "# Q4. 주민등록번호 인덱싱\n",
        "주민등록번호 뒷자리의 맨 첫 번째 숫자는 성별을 나타낸다. 주민등록번호에서 성별을 나타내는 숫자를 출력해 보자."
      ],
      "metadata": {
        "id": "FNGY-tQPpWeb"
      }
    },
    {
      "cell_type": "code",
      "source": [
        "pin = \"881120-1068234\"\n",
        "print(\"성별을 나타내는 숫자는 %c 입니다\" % pin[7])"
      ],
      "metadata": {
        "colab": {
          "base_uri": "https://localhost:8080/"
        },
        "id": "WxhhYOyOpf4r",
        "outputId": "92beb291-b38f-4ecf-e39e-c83789cf2042"
      },
      "execution_count": 30,
      "outputs": [
        {
          "output_type": "stream",
          "name": "stdout",
          "text": [
            "성별을 나타내는 숫자는 1 입니다\n"
          ]
        }
      ]
    },
    {
      "cell_type": "markdown",
      "source": [
        "# Q5. 문자열 바꾸기\n",
        "다음과 같은 문자열 a:b:c:d가 있다. 문자열의 replace 함수를 사용하여 a#b#c#d로 바꿔 출력해 보자"
      ],
      "metadata": {
        "id": "9oSUUYtTp-w7"
      }
    },
    {
      "cell_type": "code",
      "source": [
        "a = \"a:b:c:d\"\n",
        "b = a.replace(':','#')\n",
        "print(b)"
      ],
      "metadata": {
        "colab": {
          "base_uri": "https://localhost:8080/"
        },
        "id": "M0aTvjb6qIaD",
        "outputId": "6c102afa-e5df-4a92-fb98-782d74e57d7c"
      },
      "execution_count": 31,
      "outputs": [
        {
          "output_type": "stream",
          "name": "stdout",
          "text": [
            "a#b#c#d\n"
          ]
        }
      ]
    },
    {
      "cell_type": "markdown",
      "source": [
        "# Q6. 리스트 역순 정렬하기\n",
        "[1,3,5,4,2] 리스트를 [5,4,3,2,1]로 만들어 보자.\n"
      ],
      "metadata": {
        "id": "3JXvL_dDqwhE"
      }
    },
    {
      "cell_type": "code",
      "source": [
        "a = [1,3,5,4,2]\n",
        "a.sort()\n",
        "print(a)\n",
        "a.reverse()\n",
        "print(a)"
      ],
      "metadata": {
        "colab": {
          "base_uri": "https://localhost:8080/"
        },
        "id": "2KbA3qYure-c",
        "outputId": "4430cfad-b34a-4c83-f2d4-14556e5b9f7c"
      },
      "execution_count": 32,
      "outputs": [
        {
          "output_type": "stream",
          "name": "stdout",
          "text": [
            "[1, 2, 3, 4, 5]\n",
            "[5, 4, 3, 2, 1]\n"
          ]
        }
      ]
    },
    {
      "cell_type": "markdown",
      "source": [
        "# Q7. 리스트를 문자열로 만들기\n",
        "['Life', 'is', 'too', 'short'] 리스트를 Life is too short 문자열로 만들어 출력해 보자."
      ],
      "metadata": {
        "id": "k_2gvSPfq76r"
      }
    },
    {
      "cell_type": "code",
      "source": [
        "a = ['Life', 'is', 'too', 'short']\n",
        "result = \" \".join(a)\n",
        "print(result)"
      ],
      "metadata": {
        "colab": {
          "base_uri": "https://localhost:8080/"
        },
        "id": "FolccwrZr2Ts",
        "outputId": "bbfdc316-2c21-4fa4-d34c-0247d1d95afa"
      },
      "execution_count": 33,
      "outputs": [
        {
          "output_type": "stream",
          "name": "stdout",
          "text": [
            "Life is too short\n"
          ]
        }
      ]
    },
    {
      "cell_type": "markdown",
      "source": [
        "# Q8. 튜플 더하기\n",
        "(1,2,3) 튜플에 값 4를 추가하여 (1,2,3,4)를 만든 후 출력해 보자."
      ],
      "metadata": {
        "id": "xf4-ywT6sDZ0"
      }
    },
    {
      "cell_type": "code",
      "source": [
        "a = (1,2,3)\n",
        "a = a + (4,)\n",
        "print(a)"
      ],
      "metadata": {
        "colab": {
          "base_uri": "https://localhost:8080/"
        },
        "id": "cWv3jIMMsQfM",
        "outputId": "6325213f-a14c-4e4b-a690-089917869530"
      },
      "execution_count": 37,
      "outputs": [
        {
          "output_type": "stream",
          "name": "stdout",
          "text": [
            "(1, 2, 3, 4)\n"
          ]
        }
      ]
    },
    {
      "cell_type": "markdown",
      "source": [
        "# Q9. 딕셔너리의 키\n",
        "다음과 같은 딕셔너리 a가 있다.  \n",
        ">>> a = dict()  \n",
        ">>> a  \n",
        "{}    \n",
        "\n",
        "다음 중 오류가 발생하는 경우를 고르고, 그 이유를 설명해 보자.  \n",
        "a['name'] = 'python'  \n",
        "a[('a',)] = 'python'  \n",
        "a[[1]] = 'python'  \n",
        "a[250] = 'python'  \n",
        "* 정답 : 3번(a[[1]] = 'python') : 리스트는 딕셔너리에 키 값으로 올 수 없다."
      ],
      "metadata": {
        "id": "R46NI9SDse6M"
      }
    },
    {
      "cell_type": "code",
      "source": [
        "a = dict()\n",
        "a['name'] = 'python'\n",
        "print(a)\n",
        "a[('a',)] = 'python'\n",
        "print(a)\n",
        "a[[1]] = 'python'\n",
        "print(a)\n",
        "a[250] = 'python'\n",
        "print(a)"
      ],
      "metadata": {
        "colab": {
          "base_uri": "https://localhost:8080/",
          "height": 257
        },
        "id": "wIT3DgZfvlGV",
        "outputId": "62102aa1-fa2d-44d6-aaa6-5237467aa752"
      },
      "execution_count": 47,
      "outputs": [
        {
          "output_type": "stream",
          "name": "stdout",
          "text": [
            "{'name': 'python'}\n",
            "{'name': 'python', ('a',): 'python'}\n"
          ]
        },
        {
          "output_type": "error",
          "ename": "TypeError",
          "evalue": "unhashable type: 'list'",
          "traceback": [
            "\u001b[0;31m---------------------------------------------------------------------------\u001b[0m",
            "\u001b[0;31mTypeError\u001b[0m                                 Traceback (most recent call last)",
            "\u001b[0;32m<ipython-input-47-a48f63f5b052>\u001b[0m in \u001b[0;36m<cell line: 0>\u001b[0;34m()\u001b[0m\n\u001b[1;32m      4\u001b[0m \u001b[0ma\u001b[0m\u001b[0;34m[\u001b[0m\u001b[0;34m(\u001b[0m\u001b[0;34m'a'\u001b[0m\u001b[0;34m,\u001b[0m\u001b[0;34m)\u001b[0m\u001b[0;34m]\u001b[0m \u001b[0;34m=\u001b[0m \u001b[0;34m'python'\u001b[0m\u001b[0;34m\u001b[0m\u001b[0;34m\u001b[0m\u001b[0m\n\u001b[1;32m      5\u001b[0m \u001b[0mprint\u001b[0m\u001b[0;34m(\u001b[0m\u001b[0ma\u001b[0m\u001b[0;34m)\u001b[0m\u001b[0;34m\u001b[0m\u001b[0;34m\u001b[0m\u001b[0m\n\u001b[0;32m----> 6\u001b[0;31m \u001b[0ma\u001b[0m\u001b[0;34m[\u001b[0m\u001b[0;34m[\u001b[0m\u001b[0;36m1\u001b[0m\u001b[0;34m]\u001b[0m\u001b[0;34m]\u001b[0m \u001b[0;34m=\u001b[0m \u001b[0;34m'python'\u001b[0m\u001b[0;34m\u001b[0m\u001b[0;34m\u001b[0m\u001b[0m\n\u001b[0m\u001b[1;32m      7\u001b[0m \u001b[0mprint\u001b[0m\u001b[0;34m(\u001b[0m\u001b[0ma\u001b[0m\u001b[0;34m)\u001b[0m\u001b[0;34m\u001b[0m\u001b[0;34m\u001b[0m\u001b[0m\n\u001b[1;32m      8\u001b[0m \u001b[0ma\u001b[0m\u001b[0;34m[\u001b[0m\u001b[0;36m250\u001b[0m\u001b[0;34m]\u001b[0m \u001b[0;34m=\u001b[0m \u001b[0;34m'python'\u001b[0m\u001b[0;34m\u001b[0m\u001b[0;34m\u001b[0m\u001b[0m\n",
            "\u001b[0;31mTypeError\u001b[0m: unhashable type: 'list'"
          ]
        }
      ]
    },
    {
      "cell_type": "markdown",
      "source": [
        "# Q10. 딕셔너리 값 추출하기\n",
        "딕셔너리 a에서 'B'에 해당되는 값을 추출해 보자."
      ],
      "metadata": {
        "id": "Z4tiVRmltoc-"
      }
    },
    {
      "cell_type": "code",
      "source": [
        "a = {'A':90, 'B':80, 'C':70}\n",
        "result = a.pop('B')\n",
        "print(a)\n",
        "print(result)"
      ],
      "metadata": {
        "colab": {
          "base_uri": "https://localhost:8080/"
        },
        "id": "M-H4jpx9tuz8",
        "outputId": "c3151f18-cbd1-4d11-c2a0-8091329cb1f8"
      },
      "execution_count": 38,
      "outputs": [
        {
          "output_type": "stream",
          "name": "stdout",
          "text": [
            "{'A': 90, 'C': 70}\n",
            "80\n"
          ]
        }
      ]
    },
    {
      "cell_type": "markdown",
      "source": [
        "# Q11. 리스트에서 중복 제거하기\n",
        "a 리스트에서 중복 숫자를 제거해 보자."
      ],
      "metadata": {
        "id": "vuxNl29nuBlk"
      }
    },
    {
      "cell_type": "code",
      "source": [
        "a = [1, 1, 1, 2, 2, 3, 3, 3, 4, 4, 5]\n",
        "aSet = set(a)\n",
        "b = list(aSet)\n",
        "print(b)"
      ],
      "metadata": {
        "colab": {
          "base_uri": "https://localhost:8080/"
        },
        "id": "nw2J27n6uFSk",
        "outputId": "e2328287-2f5d-4603-9704-42b469871514"
      },
      "execution_count": 39,
      "outputs": [
        {
          "output_type": "stream",
          "name": "stdout",
          "text": [
            "[1, 2, 3, 4, 5]\n"
          ]
        }
      ]
    },
    {
      "cell_type": "markdown",
      "source": [
        "# Q12. 파이썬 변수\n",
        "파이썬은 다음처럼 동일한 값에 여러 개의 변수를 선언할 수 있다. 다음과 같이 a, b 변수를 선언한 후 a의 두 번째 요솟값을 변경하면 b 값은 어떻게 될까? 그리고 이런 결과가 오는 이유에 대해 설명해 보자"
      ],
      "metadata": {
        "id": "TzsmH37GuQl8"
      }
    },
    {
      "cell_type": "code",
      "source": [
        "a = b = [1, 2, 3]\n",
        "a[1] = 4\n",
        "print(b)"
      ],
      "metadata": {
        "colab": {
          "base_uri": "https://localhost:8080/"
        },
        "id": "gce6n4dhujV0",
        "outputId": "d695b406-a6ae-4784-b70f-d19a6ce7a22c"
      },
      "execution_count": 40,
      "outputs": [
        {
          "output_type": "stream",
          "name": "stdout",
          "text": [
            "[1, 4, 3]\n"
          ]
        }
      ]
    },
    {
      "cell_type": "markdown",
      "source": [
        "a = b = [1, 2, 3]은 하나의 리스트 객체를 공유하는 방식이므로 a의 요소를 변경하면 b도 함께 변경된다."
      ],
      "metadata": {
        "id": "zfxy5GuQuttN"
      }
    }
  ]
}
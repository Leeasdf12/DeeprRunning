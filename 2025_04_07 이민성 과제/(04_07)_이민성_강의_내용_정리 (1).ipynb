{
  "nbformat": 4,
  "nbformat_minor": 0,
  "metadata": {
    "colab": {
      "provenance": []
    },
    "kernelspec": {
      "name": "python3",
      "display_name": "Python 3"
    },
    "language_info": {
      "name": "python"
    }
  },
  "cells": [
    {
      "cell_type": "markdown",
      "source": [
        "# 함수\n",
        "독립적으로 정의되어  호출될 수 있는 코드 블록\n",
        "\n",
        "* 이미 정의된 내장함수 사용 가능 (print() 등)\n",
        "* def 키워드를 사용하여 정의\n",
        "* 함수를 호출하면 함수 내부의 코드가 실행됨\n",
        "* def 함수이름(매개변수):\n",
        "    실행할 코드\n",
        "    return 반환값\n",
        "* def 함수이름(매개변수1, 매개변수2, ...):\n",
        "    실행할 코드\n",
        "    return 반환값\n",
        "선언\n",
        "호출\n",
        "*함수는 함수 이름과 함꼐 필요한 인자를 전달하여 호출\n",
        "*함수 호출은 함수 내부 코드를 실행하고 결과를 반환\n",
        "결과"
      ],
      "metadata": {
        "id": "ed0MOUbmkmWo"
      }
    },
    {
      "cell_type": "markdown",
      "source": [
        "\n",
        "# 메서드\n",
        "특정 객체에서 호출되며, 그 객체의 상태를 변경하거나 동작을 수행\n",
        "* 특정 객체(클래스의 인스턴스)에 종속되어 사용됩니다.\n",
        "* 객체 이름 뒤에 점(.)을 붙이고 메서드의 이름을 써서 호출"
      ],
      "metadata": {
        "id": "wQKR_MG1l3kA"
      }
    },
    {
      "cell_type": "markdown",
      "source": [
        "장점\n",
        "* 코드 재사용성을 높여 개발 시간을 단축시킴\n",
        "* 코드의 가독성과 유지보수성을 향상시킴\n",
        "* 코드의 복잡성을 줄이고 관리를 용이하게 함\n",
        "\n",
        "단점\n",
        "* 함수와 메서드가 너무 많아지면 코드 관리가 어려워 질 수 있다\n",
        "* 함수와 메서드의 오류는 전체 프로그램에 영향을 미칠 수 있다\n",
        "* 복잡한 함수는 이해하기 어려워지고 디버깅이 어려울 수 있다."
      ],
      "metadata": {
        "id": "EHxnM5xpmPgA"
      }
    },
    {
      "cell_type": "markdown",
      "source": [
        "# 함수란\n",
        "* 함수는 '특정 작업'을 수행하는 코드의 묶음\n",
        "* 특정한 기능. 입력값을 가지고, '기능'에 맞는 출력값을 내어 놓는 것\n",
        "* 예시 : 자판기 버튼을 누르면 음료가 나오는 것처럼, 함수를 '호출'하면 결과가 나옴"
      ],
      "metadata": {
        "id": "sp3pT-xTnZHA"
      }
    },
    {
      "cell_type": "code",
      "source": [
        "# 함수 기본 구조\n",
        "# define -> 함수를 정의. 함수명():\n",
        "def say_hello():\n",
        "  print(\"Hello!\")\n",
        "\n",
        "# 함수 호출 (실행)\n",
        "say_hello()"
      ],
      "metadata": {
        "colab": {
          "base_uri": "https://localhost:8080/"
        },
        "id": "SdsimJXznpAI",
        "outputId": "fd00fdf8-8d7b-4094-aeca-e82813779f0f"
      },
      "execution_count": null,
      "outputs": [
        {
          "output_type": "stream",
          "name": "stdout",
          "text": [
            "Hello!\n"
          ]
        }
      ]
    },
    {
      "cell_type": "markdown",
      "source": [
        "# 함수에 입력값(매개 변수) 전달하기\n",
        "* 함수를 좀 더 유용하게 만들려면, 외부에서 값을 받아올 수 있음\n",
        "\n",
        "# 매개변수와 인자\n",
        "* 매개변수 (Parameter) : 함수 정의 시 괄호 안에 적는 변수\n",
        "* 인자 (Argument) : 함수를 호출할 때 괄호 안에 넣어주는 실제 값"
      ],
      "metadata": {
        "id": "1FrNId_Kn_TB"
      }
    },
    {
      "cell_type": "code",
      "source": [
        "def greet(name): #name은 매개변수\n",
        "  print(f\"Hello, {name}!\")\n",
        "\n",
        "greet(\"Alice\")  #\"Alice\"는 인자"
      ],
      "metadata": {
        "colab": {
          "base_uri": "https://localhost:8080/"
        },
        "id": "_D9QXGVfoXap",
        "outputId": "814297c7-6891-4eb5-fdd9-a11c15b0a579"
      },
      "execution_count": null,
      "outputs": [
        {
          "output_type": "stream",
          "name": "stdout",
          "text": [
            "Hello, {name}!\n"
          ]
        }
      ]
    },
    {
      "cell_type": "code",
      "source": [
        "def greet(name): #name은 매개변수\n",
        "  print(f\"Hello, {name}!\")\n",
        "\n",
        "text = input('이름: ')\n",
        "greet(text)"
      ],
      "metadata": {
        "colab": {
          "base_uri": "https://localhost:8080/"
        },
        "id": "VtzCgY8cpAo5",
        "outputId": "39c994bd-a0b7-4416-ebbf-e187bb9192ea"
      },
      "execution_count": null,
      "outputs": [
        {
          "output_type": "stream",
          "name": "stdout",
          "text": [
            "이름: ㅣㄷㄷ\n",
            "Hello, ㅣㄷㄷ!\n"
          ]
        }
      ]
    },
    {
      "cell_type": "markdown",
      "source": [
        "# 리턴값이 없는 함수"
      ],
      "metadata": {
        "id": "95J7apzVrQ-h"
      }
    },
    {
      "cell_type": "code",
      "source": [
        "def add(a, b):\n",
        "  print(a + b)\n",
        "  #return(a, b)\n",
        "\n",
        "result = add(3,4)\n",
        "\n",
        "print(result)\n"
      ],
      "metadata": {
        "colab": {
          "base_uri": "https://localhost:8080/"
        },
        "id": "i_awAN9Cq7JJ",
        "outputId": "ca4e757f-e43d-4ad1-cda7-c50e345d1826"
      },
      "execution_count": null,
      "outputs": [
        {
          "output_type": "stream",
          "name": "stdout",
          "text": [
            "7\n",
            "None\n"
          ]
        }
      ]
    },
    {
      "cell_type": "markdown",
      "source": [
        "* 호출을 했을때 print는 있어서 실행했지만 리턴으로 받아온 값아 없어서 None 출력"
      ],
      "metadata": {
        "id": "eZ58-jm66aY6"
      }
    },
    {
      "cell_type": "markdown",
      "source": [
        "# 여러 개의 값 반환하기\n",
        "* 함수는 한 번에 여러 개의 값을 돌려줄 수도 있다(튜플로 반환)"
      ],
      "metadata": {
        "id": "wKMuXVODrb1B"
      }
    },
    {
      "cell_type": "code",
      "source": [
        "def get_person():\n",
        "  name = 'Bob'\n",
        "  age = 22\n",
        "  return name, age\n",
        "\n",
        "n, a = get_person()\n",
        "print(n, a)"
      ],
      "metadata": {
        "colab": {
          "base_uri": "https://localhost:8080/"
        },
        "id": "-AEwGhtWrh2j",
        "outputId": "73ebf401-ca37-4ef2-a255-7691c81e0f93"
      },
      "execution_count": null,
      "outputs": [
        {
          "output_type": "stream",
          "name": "stdout",
          "text": [
            "Bob 22\n"
          ]
        }
      ]
    },
    {
      "cell_type": "markdown",
      "source": [
        "  * 여러 개의 자료를 ,로 이으면, 튜플로 변경이 됨\n",
        "  * 실제로 튜플이라는 하나의 값을 반환.\n",
        "  * 반환 값을 받을 때, 튜플을 각각 나누어 받는다면 여러 개의 값을 한번에 받은 효과"
      ],
      "metadata": {
        "id": "mta_qRfM6fsh"
      }
    },
    {
      "cell_type": "markdown",
      "source": [
        "# 매개변수 기본 값\n",
        "* 함수 매개변수에 기본값을 줄 수 있다\n",
        "* 값을 전달하지 않으면 기본값이 사용됨"
      ],
      "metadata": {
        "id": "FGj17rcEr_bC"
      }
    },
    {
      "cell_type": "code",
      "source": [
        "def greet(name='Guest'):\n",
        "  print(f\"Hello, {name}!\")\n",
        "\n",
        "greet() # 기본값 사용\n",
        "greet(\"Charlie\") # 직접 이름 전달\n",
        "\n",
        "def add(a, b):\n",
        "  return a+b"
      ],
      "metadata": {
        "colab": {
          "base_uri": "https://localhost:8080/"
        },
        "id": "M9vD1Z2FsF9J",
        "outputId": "349a4365-c2fb-4fdb-f1cf-8b0a3e7ecd41"
      },
      "execution_count": null,
      "outputs": [
        {
          "output_type": "stream",
          "name": "stdout",
          "text": [
            "Hello, Guest!\n",
            "Hello, Charlie!\n"
          ]
        }
      ]
    },
    {
      "cell_type": "markdown",
      "source": [
        "# 키워드 인자\n",
        "* 함수를 호출할 때 인자 이름을 써서 전달 가능\n",
        "* 순서가 바뀌어도 정확하게 매칭됨"
      ],
      "metadata": {
        "id": "tN8Z994Vs2hh"
      }
    },
    {
      "cell_type": "code",
      "source": [
        "def introduce(name, age):\n",
        "  print(f\"My name is {name}, and i'm {age} years old.\")\n",
        "\n",
        "introduce('yeonhwi', 30)\n",
        "introduce(age=20, name=\"David\")"
      ],
      "metadata": {
        "colab": {
          "base_uri": "https://localhost:8080/"
        },
        "id": "5hGJa875s7zq",
        "outputId": "e0e77219-1737-443f-dcf5-452e7865ca1b"
      },
      "execution_count": null,
      "outputs": [
        {
          "output_type": "stream",
          "name": "stdout",
          "text": [
            "My name is yeonhwi, and i'm 30 years old.\n",
            "My name is David, and i'm 20 years old.\n"
          ]
        }
      ]
    },
    {
      "cell_type": "markdown",
      "source": [
        "# 가변 인자(args, *kwargs)\n",
        "* 입력값 개수가 정해져 있지 않을 때 사용"
      ],
      "metadata": {
        "id": "r4F0cLrjtQbJ"
      }
    },
    {
      "cell_type": "code",
      "source": [
        "# *args\n",
        "\n",
        "def show_args(*args):\n",
        "  for arg in args:\n",
        "    print(arg)\n",
        "\n",
        "show_args('apple','banana','cherry')\n",
        "\n",
        "def show_kwargs(**kwargs):\n",
        "  for key, value in kwargs.items():\n",
        "    print(f\"{key}:{value}\")\n",
        "\n",
        "show_kwargs(name='Eve', age=28)"
      ],
      "metadata": {
        "id": "8BOyHc-QtY0r"
      },
      "execution_count": null,
      "outputs": []
    },
    {
      "cell_type": "markdown",
      "source": [
        "* *args -> 개수 상관없이 입력 가능 -> 코드를 범용적으로 구성해야 함.\n",
        "* kwargs는 잘 사용하지 않음. 이런게 있다 정도만 알기"
      ],
      "metadata": {
        "id": "MOnD6zEl6uKK"
      }
    },
    {
      "cell_type": "markdown",
      "source": [
        "# 모듈\n",
        "관련된 함수, 클래스, 변수 등을 하나의 파이로 모아 놓은 것\n",
        "* 모듈은 일반적인 파이썬 파일\n",
        "* 독립저인 모듈은 다른 모듈에 영향을 미치지 않고 개발 및 수정이 가능\n",
        "* 파이썬 파일에서 import 키워드를 사용하여 모듈 불러올 수 있음"
      ],
      "metadata": {
        "id": "JiKAttefxWtU"
      }
    },
    {
      "cell_type": "markdown",
      "source": [
        "# 패키지\n",
        "관련된 모듈을 하나의 디렉터리로 모아 놓은 것\n",
        "* 패키지 디렉터리에는 _init_.py 파일이 포함되어 있어야 하며, 이 파일은 해당 디렉터리가 패키지임을 알려줌\n",
        "* 패키지를 사용하면 코드의 구조화와 조직화가 용이\n",
        "* 모듈 간의 이름 충돌을 방지"
      ],
      "metadata": {
        "id": "4dw2flesymAE"
      }
    },
    {
      "cell_type": "markdown",
      "source": [
        "# 모듈과 패키지\n",
        "1. 모듈 (Module) 이란?\n",
        "  * 모듈은 하나의 .py파일이다.\n",
        "  * import를 활용하여 불러올 수 있다."
      ],
      "metadata": {
        "id": "y6WrWgRGcBq4"
      }
    },
    {
      "cell_type": "code",
      "source": [
        "def add(a, b):\n",
        "  return a + b"
      ],
      "metadata": {
        "id": "nMPc8yW0cNRZ"
      },
      "execution_count": 4,
      "outputs": []
    },
    {
      "cell_type": "markdown",
      "source": [
        "* 모듈로써 활용할 .py 파일안에 함수 선언"
      ],
      "metadata": {
        "id": "9kmSJ7a37UXa"
      }
    },
    {
      "cell_type": "code",
      "source": [
        "import my_module\n",
        "print(my_module.add(3, 5))"
      ],
      "metadata": {
        "colab": {
          "base_uri": "https://localhost:8080/",
          "height": 349
        },
        "id": "YM9wS8kvcRAY",
        "outputId": "69b32c40-edd2-4760-e48b-97eacf112358"
      },
      "execution_count": 5,
      "outputs": [
        {
          "output_type": "error",
          "ename": "ModuleNotFoundError",
          "evalue": "No module named 'my_module'",
          "traceback": [
            "\u001b[0;31m---------------------------------------------------------------------------\u001b[0m",
            "\u001b[0;31mModuleNotFoundError\u001b[0m                       Traceback (most recent call last)",
            "\u001b[0;32m<ipython-input-5-0891f0a16c13>\u001b[0m in \u001b[0;36m<cell line: 0>\u001b[0;34m()\u001b[0m\n\u001b[0;32m----> 1\u001b[0;31m \u001b[0;32mimport\u001b[0m \u001b[0mmy_module\u001b[0m\u001b[0;34m\u001b[0m\u001b[0;34m\u001b[0m\u001b[0m\n\u001b[0m\u001b[1;32m      2\u001b[0m \u001b[0mprint\u001b[0m\u001b[0;34m(\u001b[0m\u001b[0mmy_module\u001b[0m\u001b[0;34m.\u001b[0m\u001b[0madd\u001b[0m\u001b[0;34m(\u001b[0m\u001b[0;36m3\u001b[0m\u001b[0;34m,\u001b[0m \u001b[0;36m5\u001b[0m\u001b[0;34m)\u001b[0m\u001b[0;34m)\u001b[0m\u001b[0;34m\u001b[0m\u001b[0;34m\u001b[0m\u001b[0m\n",
            "\u001b[0;31mModuleNotFoundError\u001b[0m: No module named 'my_module'",
            "",
            "\u001b[0;31m---------------------------------------------------------------------------\u001b[0;32m\nNOTE: If your import is failing due to a missing package, you can\nmanually install dependencies using either !pip or !apt.\n\nTo view examples of installing some common dependencies, click the\n\"Open Examples\" button below.\n\u001b[0;31m---------------------------------------------------------------------------\u001b[0m\n"
          ],
          "errorDetails": {
            "actions": [
              {
                "action": "open_url",
                "actionText": "Open Examples",
                "url": "/notebooks/snippets/importing_libraries.ipynb"
              }
            ]
          }
        }
      ]
    },
    {
      "cell_type": "markdown",
      "source": [
        "* import로 호출해서 사용"
      ],
      "metadata": {
        "id": "g9Bifh187dMK"
      }
    },
    {
      "cell_type": "code",
      "source": [
        "from my_module import add\n",
        "print(add(3, 5))"
      ],
      "metadata": {
        "id": "w9smQvqNcYl4"
      },
      "execution_count": null,
      "outputs": []
    },
    {
      "cell_type": "markdown",
      "source": [
        "* from을 활용하여 add 함수만 불러올 수 있다."
      ],
      "metadata": {
        "id": "X_YYT5DF7h2i"
      }
    },
    {
      "cell_type": "markdown",
      "source": [
        "2. 패키지 (Package) 란?\n",
        "  * 패키지는 여러 모듈(.py 파일)을 모아 놓은 폴더이다.\n",
        "  * 폴더 안에 _init_.py 파일이 있으면 파이썬이 이 폴더를 패키지로 인식한다 (생략 가능).\n",
        ".을 통해서 안으로 들어간다고 보면 됨. as 땡땡은 이름 붙혀 주기\n",
        "as는 거의 무조건 써줘야 함. 너무 길기때문에 간단하게 줄일 수 있다."
      ],
      "metadata": {
        "id": "RUFTkJoOcn04"
      }
    },
    {
      "cell_type": "markdown",
      "source": [
        "# Random 모듈이란?\n",
        "* 무작위(랜덤) 값을 생성할 때 사용하는 파이썬 표준 라이브러리\n",
        "* 주로 난수 생성, 무작위 선택, 섞기 (shuffling) 등에 사용\n",
        "* import random 명령어를 통해 사용 가능"
      ],
      "metadata": {
        "id": "PDQjbz02dfI5"
      }
    },
    {
      "cell_type": "code",
      "source": [
        "import random as r"
      ],
      "metadata": {
        "id": "VHHx4Paqdsj4"
      },
      "execution_count": null,
      "outputs": []
    },
    {
      "cell_type": "markdown",
      "source": [
        "# 관련 함수\n",
        "* random.random() : 0~1 사이 실수 변환\n",
        "* random.randint() : a~b 사이 정수 변환\n",
        "* random.uniform() : a~b 사이 실수 변환\n",
        "* random.choice()  : 랜덤하게 하나의 원소를 선택\n",
        "* random.sample()  : 랜덤하게 여러 개의 원소를 선택\n",
        "* random.shuffle()  : 원소의 순서를 랜덤하게 바꿈"
      ],
      "metadata": {
        "id": "3jTWgsUld04o"
      }
    },
    {
      "cell_type": "code",
      "source": [
        "import random\n",
        "# 무작위에도 나름의 규칙이 있음 -> 1000만개가 넘음\n",
        "# seed -> 무작위를 위한 규칙. 동일한 규칙을 가지고 무작위 수 생성\n",
        "# 무작위지만, 다른 사람들과 공통된 값을 확인할 수 있다.\n",
        "\n",
        "print(random.random())\n",
        "print(random.random()*1000)\n",
        "print(random.randint(0, 10))\n",
        "\n",
        "list_a = [1, 2, 3, 4, 5, 6, 7, 8, 9, 0]\n",
        "print(random.choice(list_a))\n",
        "\n",
        "text = \"ajljfalsdjfldaskfjklv\"\n",
        "print(random.choice(text))\n",
        "\n",
        "print(random.sample(list_a, 3))\n",
        "print(random.sample(text, 5))\n",
        "\n",
        "print(list_a)\n",
        "random.shuffle(list_a)\n",
        "print(list_a)\n",
        "\n",
        "random.seed(42)\n",
        "print(random.randint(1, 100))"
      ],
      "metadata": {
        "colab": {
          "base_uri": "https://localhost:8080/"
        },
        "id": "Lha2ydp6eBuJ",
        "outputId": "74cccb22-f246-41ef-8717-55b9b78fc918"
      },
      "execution_count": 58,
      "outputs": [
        {
          "output_type": "stream",
          "name": "stdout",
          "text": [
            "0.11133106816568039\n",
            "741.5504997598329\n",
            "3\n",
            "4\n",
            "f\n",
            "[2, 9, 0]\n",
            "['k', 'a', 'j', 'a', 'l']\n",
            "[1, 2, 3, 4, 5, 6, 7, 8, 9, 0]\n",
            "[3, 6, 8, 9, 7, 2, 5, 1, 0, 4]\n",
            "82\n"
          ]
        }
      ]
    },
    {
      "cell_type": "markdown",
      "source": [
        "# 가위 바위 보 게임 만들기\n",
        "\n",
        "요구 사항\n",
        "  * random 모듈을 사용하여 컴퓨터가 \"가위\", \"바위\", \"보\"중 무작위 하나를 선택하게 만든다.\n",
        "  * 사용자로부터 \"가위\", \"바위\", \"보\"중 하나를 입력받는다.\n",
        "  * 사용자가 입력한 값이 \"가위\", \"바위\", \"보\"가 아닐 경우 \"올바른 문자를 입력해주세요.\"를 출력한다.\n",
        "  * 사용자와 컴퓨터의 선택을 비교하여 결과를 출력한다.\n",
        "    * 사용자의 승리, 패배, 무승부 출력"
      ],
      "metadata": {
        "id": "hmvZUkJ2fu3S"
      }
    },
    {
      "cell_type": "code",
      "source": [
        "import random\n",
        "\n",
        "rsp_bot = [\"가위\",\"바위\",\"보\"]\n",
        "rsp_bot_result = random.choice(rsp_bot)\n",
        "\n",
        "rsp = input(\"가위 바위 보 입력 : \")\n",
        "\n",
        "print(f\"컴퓨터의 수 : {rsp_bot_result}\")\n",
        "\n",
        "if rsp == \"가위\":\n",
        "  if rsp_bot_result == \"가위\": print(\"무승부\")\n",
        "  elif rsp_bot_result == \"바위\": print(\"패배\")\n",
        "  elif rsp_bot_result == \"보\": print(\"승리\")\n",
        "\n",
        "elif rsp ==\"바위\":\n",
        "  if rsp_bot_result == \"가위\": print(\"승리\")\n",
        "  elif rsp_bot_result == \"바위\": print(\"무승부\")\n",
        "  elif rsp_bot_result == \"보\": print(\"패배\")\n",
        "\n",
        "elif rsp ==\"보\":\n",
        "  if rsp_bot_result == \"가위\": print(\"패배\")\n",
        "  elif rsp_bot_result == \"바위\": print(\"승리\")\n",
        "  elif rsp_bot_result == \"보\": print(\"무승부\")\n",
        "\n",
        "else:\n",
        "  print(\"올바른 문자를 입력해주세요.\")\n"
      ],
      "metadata": {
        "colab": {
          "base_uri": "https://localhost:8080/"
        },
        "id": "bxGXru6hgLia",
        "outputId": "19bc3291-4c4c-4fec-d5a0-4f64592cc0b9"
      },
      "execution_count": 67,
      "outputs": [
        {
          "output_type": "stream",
          "name": "stdout",
          "text": [
            "가위 바위 보 입력 : 보\n",
            "컴퓨터의 수 : 가위\n",
            "패배\n"
          ]
        }
      ]
    },
    {
      "cell_type": "markdown",
      "source": [
        "# 로또 번호 추첨기 만들기\n",
        "\n",
        "요구사항\n",
        "  * random 모듈을 사용하여 로또 번호를 생성한다\n",
        "  * 로또 번호는 1부터 45 사이의 숫자 중 중복 없이 6개를 뽑는다.\n",
        "  * 6개의 번호를 오름차순으로 정렬하여 출력한다.  \n",
        "\n",
        "심화) random.sample() 사용 금지\n",
        "  * 보너스 번호 1개를 추가로 뽑아 함께 출력한다. (보너스 번호도 1~45 범위, 기존 6개 번호와 중복되지 않아야 한다.)\n",
        "  * 번호를 뽑는 과정을 단계별로 출력하여, 뽑힐 때마다 \"현재 뽑힌 번호: [번호 목록]\" 형식으로 보여준다.\n",
        "  * 사용자가 로또 번호를 몇 세트 뽑을지 입력 할 수 있게 한다. (예: \"몇 세트 생성할까요?)"
      ],
      "metadata": {
        "id": "_NlTiP8SkCnM"
      }
    },
    {
      "cell_type": "code",
      "source": [
        "import random\n",
        "\n",
        "lotto_list = []\n",
        "lotto_set = int(input(\"몇 세트 생성할까요 ? \"))\n",
        "set_count = 1\n",
        "\n",
        "while set_count <= lotto_set:\n",
        "  lotto = random.randint(1, 45)\n",
        "\n",
        "  if lotto not in lotto_list:\n",
        "    lotto_list.append(lotto)\n",
        "\n",
        "  print(f\"현재 뽑힌 번호 : {lotto_list}\")\n",
        "\n",
        "  if len(lotto_list) == 7:\n",
        "    set_count += 1\n",
        "    lotto_list.clear()\n",
        "    print(\"\")"
      ],
      "metadata": {
        "colab": {
          "base_uri": "https://localhost:8080/"
        },
        "id": "vtC275m_kfCz",
        "outputId": "4d21229e-e0ee-4c04-8f04-635238e7ae3d"
      },
      "execution_count": 3,
      "outputs": [
        {
          "output_type": "stream",
          "name": "stdout",
          "text": [
            "몇 세트 생성할까요 ? 2\n",
            "현재 뽑힌 번호 : [43]\n",
            "현재 뽑힌 번호 : [43, 24]\n",
            "현재 뽑힌 번호 : [43, 24, 16]\n",
            "현재 뽑힌 번호 : [43, 24, 16, 22]\n",
            "현재 뽑힌 번호 : [43, 24, 16, 22, 38]\n",
            "현재 뽑힌 번호 : [43, 24, 16, 22, 38, 34]\n",
            "현재 뽑힌 번호 : [43, 24, 16, 22, 38, 34, 14]\n",
            "\n",
            "현재 뽑힌 번호 : [23]\n",
            "현재 뽑힌 번호 : [23, 29]\n",
            "현재 뽑힌 번호 : [23, 29, 42]\n",
            "현재 뽑힌 번호 : [23, 29, 42, 43]\n",
            "현재 뽑힌 번호 : [23, 29, 42, 43, 11]\n",
            "현재 뽑힌 번호 : [23, 29, 42, 43, 11, 14]\n",
            "현재 뽑힌 번호 : [23, 29, 42, 43, 11, 14, 25]\n",
            "\n"
          ]
        }
      ]
    }
  ]
}
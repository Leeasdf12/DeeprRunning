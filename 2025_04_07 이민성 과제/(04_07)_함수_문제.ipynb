{
  "cells": [
    {
      "cell_type": "markdown",
      "id": "fe016d2d",
      "metadata": {
        "id": "fe016d2d"
      },
      "source": [
        "## 문제 1\n",
        "\n",
        "두 숫자를 입력받아 더한 결과를 반환하는 함수를 작성한다.\n",
        "\n",
        "- 함수 이름: `add_numbers`\n",
        "- 매개변수: 두 개의 숫자\n",
        "- 반환값: 두 숫자의 합\n",
        "\n",
        "### 예시\n",
        "입력: 3, 5  \n",
        "출력: 8\n",
        "\n",
        "### 추가 : 사칙연산 모두 구현\n"
      ]
    },
    {
      "cell_type": "code",
      "source": [
        "def add_number(a, b):\n",
        "  return (a + b)\n",
        "def sub_number(a, b):\n",
        "  return (a - b)\n",
        "def mul_number(a, b):\n",
        "  return (a * b)\n",
        "def div_number(a, b):\n",
        "  return (a / b)\n",
        "\n",
        "\n",
        "num1 = int(input(\"첫 번째 숫자 입력 : \"))\n",
        "num2 = int(input(\"두 번째 숫자 입력 : \"))\n",
        "\n",
        "result1 = add_number(num1, num2)\n",
        "result2 = sub_number(num1, num2)\n",
        "result3 = mul_number(num1, num2)\n",
        "result4 = div_number(num1, num2)\n",
        "\n",
        "print(f\"덧셈 : {result1}, 뺄셈 : {result2}, 곱셈 : {result3}, 나눗셈 : {result4}\")"
      ],
      "metadata": {
        "id": "IApbqyu470VN",
        "colab": {
          "base_uri": "https://localhost:8080/"
        },
        "outputId": "26533058-17bd-4219-b01b-87173f5a5acc"
      },
      "id": "IApbqyu470VN",
      "execution_count": 77,
      "outputs": [
        {
          "output_type": "stream",
          "name": "stdout",
          "text": [
            "첫 번째 숫자 입력 : 3\n",
            "두 번째 숫자 입력 : 5\n",
            "덧셈 : 8, 뺄셈 : -2, 곱셈 : 15, 나눗셈 : 0.6\n"
          ]
        }
      ]
    },
    {
      "cell_type": "markdown",
      "id": "96152b1c",
      "metadata": {
        "id": "96152b1c"
      },
      "source": [
        "## 문제 2\n",
        "\n",
        "정수를 입력받아 짝수인지 홀수인지 판별하는 함수를 작성한다.\n",
        "\n",
        "- 함수 이름: `check_even_odd`\n",
        "- 매개변수: 정수 하나\n",
        "- 반환값: 문자열 \"짝수입니다.\" 또는 \"홀수입니다.\"\n",
        "\n",
        "### 예시\n",
        "입력: 4  \n",
        "출력: 짝수입니다.\n",
        "\n",
        "입력: 7  \n",
        "출력: 홀수입니다.\n",
        "\n",
        "### 추가 : 짝수 / 홀수 구분하여 리스트에 저장\n"
      ]
    },
    {
      "cell_type": "code",
      "source": [
        "def check_even_odd(a):\n",
        "  if a % 2 == 0:\n",
        "    return \"짝수입니다.\"\n",
        "  else:\n",
        "    return \"홀수입니다.\"\n",
        "\n",
        "jjack_list = []\n",
        "hol_list = []\n",
        "\n",
        "num1 = int(input(\"정수 입력 : \"))\n",
        "result = check_even_odd(num1)\n",
        "\n",
        "if (result ==  \"짝수입니다.\"): jjack_list.append(num1)\n",
        "elif (result ==  \"홀수입니다.\"): hol_list.append(num1)\n",
        "\n",
        "print(result)\n",
        "print(f\"짝수 리스트 : {jjack_list}\")\n",
        "print(f\"홀수 리스트 : {hol_list}\")"
      ],
      "metadata": {
        "id": "fnqgIfrt7096",
        "colab": {
          "base_uri": "https://localhost:8080/"
        },
        "outputId": "2eb5bcb2-d773-47a4-9583-2b75d463c53e"
      },
      "id": "fnqgIfrt7096",
      "execution_count": 97,
      "outputs": [
        {
          "output_type": "stream",
          "name": "stdout",
          "text": [
            "정수 입력 : 7\n",
            "홀수입니다.\n",
            "짝수 리스트 : []\n",
            "홀수 리스트 : [7]\n"
          ]
        }
      ]
    },
    {
      "cell_type": "markdown",
      "id": "ae7d5276",
      "metadata": {
        "id": "ae7d5276"
      },
      "source": [
        "## 문제 3\n",
        "\n",
        "주어진 세 숫자 중 가장 큰 수를 반환하는 함수를 작성한다.\n",
        "\n",
        "- 함수 이름: `max_of_three`\n",
        "- 매개변수: 세 개의 숫자\n",
        "- 반환값: 가장 큰 숫자\n",
        "\n",
        "### 예시\n",
        "입력: 5, 8, 2  \n",
        "출력: 8\n",
        "\n",
        "### 추가 : 별도의 내장함수 사용하지 않고 구현"
      ]
    },
    {
      "cell_type": "code",
      "source": [
        "def max_of_three(a, b, c):\n",
        "  max_num = 0\n",
        "  if a > max_num: max_num = a\n",
        "  if b > max_num: max_num = b\n",
        "  if c > max_num: max_num = c\n",
        "  return max_num\n",
        "\n",
        "\n",
        "num1 = int(input(\"첫 번째 숫자 입력 : \"))\n",
        "num2 = int(input(\"두 번째 숫자 입력 : \"))\n",
        "num3 = int(input(\"세 번째 숫자 입력 : \"))\n",
        "result = max_of_three(num1, num2, num3)\n",
        "\n",
        "print(result)"
      ],
      "metadata": {
        "id": "wGMe22Zq713f",
        "colab": {
          "base_uri": "https://localhost:8080/"
        },
        "outputId": "d86e0f1d-ba9f-41fa-8053-79be9a853902"
      },
      "id": "wGMe22Zq713f",
      "execution_count": null,
      "outputs": [
        {
          "output_type": "stream",
          "name": "stdout",
          "text": [
            "첫 번째 숫자 입력 : 5\n",
            "두 번째 숫자 입력 : 8\n",
            "세 번째 숫자 입력 : 2\n",
            "8\n"
          ]
        }
      ]
    },
    {
      "cell_type": "markdown",
      "id": "77aaf063",
      "metadata": {
        "id": "77aaf063"
      },
      "source": [
        "## 문제 4\n",
        "\n",
        "문자열을 입력받아 그 문자열의 길이를 반환하는 함수를 작성한다.\n",
        "\n",
        "- 함수 이름: `string_length`\n",
        "- 매개변수: 문자열 하나\n",
        "- 반환값: 문자열의 길이 (정수형)\n",
        "\n",
        "### 예시\n",
        "입력: \"hello\"  \n",
        "출력: 5\n",
        "\n",
        "### 추가 : 별도의 내장함수 사용하지 않고 구현"
      ]
    },
    {
      "cell_type": "code",
      "source": [
        "def string_length(s):\n",
        "  length = 0\n",
        "  for c in s:\n",
        "    length += 1\n",
        "  return length\n",
        "\n",
        "\n",
        "str1 = input(\"문자열 입력 : \")\n",
        "\n",
        "result = string_length(str1)\n",
        "\n",
        "print(result)"
      ],
      "metadata": {
        "id": "rYp6wn6b72co",
        "colab": {
          "base_uri": "https://localhost:8080/"
        },
        "outputId": "767df26f-c6f0-463d-e742-42216375c12c"
      },
      "id": "rYp6wn6b72co",
      "execution_count": 25,
      "outputs": [
        {
          "output_type": "stream",
          "name": "stdout",
          "text": [
            "문자열 입력 : hello\n",
            "5\n"
          ]
        }
      ]
    },
    {
      "cell_type": "markdown",
      "id": "f27d5d25",
      "metadata": {
        "id": "f27d5d25"
      },
      "source": [
        "## 문제 5\n",
        "\n",
        "여러 개의 과목 점수를 입력받아 평균을 반환하는 함수를 작성한다.\n",
        "\n",
        "- 함수 이름: `average_score`\n",
        "- 매개변수: 여러 개의 점수(*args 사용)\n",
        "- 반환값: 평균 점수\n",
        "\n",
        "### 예시\n",
        "입력: 80, 90, 100  \n",
        "출력: 90.0\n"
      ]
    },
    {
      "cell_type": "code",
      "source": [
        "def average_score(*args):\n",
        "  sum = 0\n",
        "  count = 0\n",
        "  for i in args:\n",
        "    sum += i\n",
        "    count += 1\n",
        "  return (sum / count)\n",
        "\n",
        "\n",
        "num1 = int(input(\"첫 번째 과목 점수 입력 : \"))\n",
        "num2 = int(input(\"두 번째 과목 점수 입력 : \"))\n",
        "num3 = int(input(\"세 번째 과목 점수 입력 : \"))\n",
        "result = average_score(num1, num2, num3)\n",
        "\n",
        "print(result)"
      ],
      "metadata": {
        "id": "B6Fhhqte728V",
        "colab": {
          "base_uri": "https://localhost:8080/"
        },
        "outputId": "94a5691b-0323-4e6d-da74-1d48a37bcc98"
      },
      "id": "B6Fhhqte728V",
      "execution_count": null,
      "outputs": [
        {
          "output_type": "stream",
          "name": "stdout",
          "text": [
            "첫 번째 과목 점수 입력 : 80\n",
            "두 번째 과목 점수 입력 : 90\n",
            "세 번째 과목 점수 입력 : 100\n",
            "90.0\n"
          ]
        }
      ]
    },
    {
      "cell_type": "markdown",
      "id": "1253d109",
      "metadata": {
        "id": "1253d109"
      },
      "source": [
        "## 문제 6\n",
        "\n",
        "문자열 리스트를 입력받아, 각 문자열의 길이를 담은 리스트를 반환하는 함수를 작성한다.\n",
        "\n",
        "- 함수 이름: `lengths_of_strings`\n",
        "- 매개변수: 문자열 리스트 하나\n",
        "- 반환값: 정수 리스트\n",
        "\n",
        "### 예시\n",
        "입력: [\"apple\", \"banana\", \"kiwi\"]  \n",
        "출력: [5, 6, 4]\n",
        "\n",
        "### 추가 : 별도의 내장함수 사용하지 않고 구현"
      ]
    },
    {
      "cell_type": "code",
      "source": [
        "def lengths_of_strings(li):\n",
        "    str_len = []\n",
        "    for str2 in li:\n",
        "        length = 0\n",
        "        for c in str2:\n",
        "            length += 1\n",
        "        str_len +=  [length]\n",
        "    return str_len\n",
        "\n",
        "\n",
        "li_data = []\n",
        "for i in range(3):\n",
        "    str1 = input(\"리스트 값 입력 : \")\n",
        "    li_data += [str1]\n",
        "\n",
        "result = lengths_of_strings(li_data)\n",
        "\n",
        "print(result)"
      ],
      "metadata": {
        "colab": {
          "base_uri": "https://localhost:8080/"
        },
        "id": "HCkRkaBzyz2w",
        "outputId": "86fd9fe2-b670-407f-c1c8-300d6b3dcf89"
      },
      "id": "HCkRkaBzyz2w",
      "execution_count": 102,
      "outputs": [
        {
          "output_type": "stream",
          "name": "stdout",
          "text": [
            "리스트 값 입력 : apple\n",
            "리스트 값 입력 : banana\n",
            "리스트 값 입력 : kiwi\n",
            "[5, 6, 4]\n"
          ]
        }
      ]
    },
    {
      "cell_type": "markdown",
      "id": "dc187fcb",
      "metadata": {
        "id": "dc187fcb"
      },
      "source": [
        "## 문제 7\n",
        "\n",
        "문자열을 입력받아, 대문자는 소문자로, 소문자는 대문자로 변환하여 반환하는 함수를 작성한다.\n",
        "\n",
        "- 함수 이름: `swap_case`\n",
        "- 매개변수: 문자열 하나\n",
        "- 반환값: 변환된 문자열\n",
        "\n",
        "### 예시\n",
        "입력: \"HeLLo\"  \n",
        "출력: \"hEllO\"\n"
      ]
    },
    {
      "cell_type": "code",
      "source": [
        "def swap_case(s):\n",
        "  str_list = []\n",
        "  for i in s:\n",
        "    if i.isupper() == True:\n",
        "        str_list.append(i.lower())\n",
        "    else:\n",
        "        str_list.append(i.upper())\n",
        "  return str_list\n",
        "\n",
        "\n",
        "\n",
        "str1 = input(\"문자열 입력 : \")\n",
        "\n",
        "result = swap_case(str1)\n",
        "\n",
        "print(''.join(result))"
      ],
      "metadata": {
        "id": "MaH76BQs73qh",
        "colab": {
          "base_uri": "https://localhost:8080/"
        },
        "outputId": "83228617-f63b-4fc2-b512-f10c6fa1f3c8"
      },
      "id": "MaH76BQs73qh",
      "execution_count": 31,
      "outputs": [
        {
          "output_type": "stream",
          "name": "stdout",
          "text": [
            "문자열 입력 : Hello,New WORLD\n",
            "hELLO,nEW world\n"
          ]
        }
      ]
    },
    {
      "cell_type": "markdown",
      "id": "d1425b87",
      "metadata": {
        "id": "d1425b87"
      },
      "source": [
        "## 문제 8\n",
        "\n",
        "숫자 리스트를 입력받아, 0보다 큰 숫자만 골라서 새로운 리스트로 반환하는 함수를 작성한다.\n",
        "\n",
        "- 함수 이름: `filter_positive_numbers`\n",
        "- 매개변수: 숫자 리스트 하나\n",
        "- 반환값: 양수만 담긴 리스트\n",
        "\n",
        "### 예시\n",
        "입력: [-2, 0, 5, 9, -1]  \n",
        "출력: [5, 9]\n"
      ]
    },
    {
      "cell_type": "code",
      "source": [
        "def filter_positive_numbers(li):\n",
        "    num_list = []\n",
        "    for str2 in li:\n",
        "        if(str2 > 0):\n",
        "          num_list.append(str2)\n",
        "    return num_list\n",
        "\n",
        "\n",
        "li_data = []\n",
        "\n",
        "for i in range(5):\n",
        "  num = int(input(\"숫자 리스트 값 입력 : \"))\n",
        "  li_data.append(num)\n",
        "\n",
        "result = filter_positive_numbers(li_data)\n",
        "\n",
        "print(result)"
      ],
      "metadata": {
        "id": "rscR2j5Z74Z_",
        "colab": {
          "base_uri": "https://localhost:8080/"
        },
        "outputId": "28a435af-99c5-43ba-fbc0-1de46e9d0deb"
      },
      "id": "rscR2j5Z74Z_",
      "execution_count": 36,
      "outputs": [
        {
          "output_type": "stream",
          "name": "stdout",
          "text": [
            "숫자 리스트 값 입력 : -2\n",
            "숫자 리스트 값 입력 : 0\n",
            "숫자 리스트 값 입력 : 5\n",
            "숫자 리스트 값 입력 : 9\n",
            "숫자 리스트 값 입력 : -1\n",
            "[5, 9]\n"
          ]
        }
      ]
    },
    {
      "cell_type": "markdown",
      "id": "12d0d9b1",
      "metadata": {
        "id": "12d0d9b1"
      },
      "source": [
        "## 문제 9\n",
        "\n",
        "문자열을 입력받아, 단어별로 분리한 리스트를 반환하는 함수를 작성한다.\n",
        "\n",
        "- 함수 이름: `split_into_words`\n",
        "- 매개변수: 문자열 하나\n",
        "- 반환값: 단어 리스트\n",
        "\n",
        "### 예시\n",
        "입력: \"Python is fun\"  \n",
        "출력: [\"Python\", \"is\", \"fun\"]\n",
        "\n",
        "### 추가 : 별도의 내장함수 사용하지 않고 구현"
      ]
    },
    {
      "cell_type": "code",
      "source": [
        "def split_into_words(s):\n",
        "  str_list = []\n",
        "  str_first = 0\n",
        "  str_last = 0\n",
        "\n",
        "  for i in s:\n",
        "    if i == \" \":\n",
        "        str_list.append(s[str_first:str_last])\n",
        "        str_first = str_last + 1\n",
        "    str_last += 1\n",
        "\n",
        "  str_list.append(s[str_first:str_last])\n",
        "  return str_list\n",
        "\n",
        "\n",
        "str1 = input(\"문자열 입력 : \")\n",
        "\n",
        "result = split_into_words(str1)\n",
        "\n",
        "print(result)"
      ],
      "metadata": {
        "id": "HwZA0RfA74sI",
        "colab": {
          "base_uri": "https://localhost:8080/"
        },
        "outputId": "f88e5e67-1426-4511-8e4d-16c4f71f7b87"
      },
      "id": "HwZA0RfA74sI",
      "execution_count": 105,
      "outputs": [
        {
          "output_type": "stream",
          "name": "stdout",
          "text": [
            "문자열 입력 : python is fun\n",
            "['python', 'is', 'fun']\n"
          ]
        }
      ]
    },
    {
      "cell_type": "markdown",
      "id": "d00b8080",
      "metadata": {
        "id": "d00b8080"
      },
      "source": [
        "## 문제 10\n",
        "\n",
        "문자열과 부분 문자열을 입력받아, 부분 문자열이 몇 번 등장하는지 세는 함수를 작성한다.\n",
        "\n",
        "- 함수 이름: `count_substring`\n",
        "- 매개변수: 문자열 하나, 부분 문자열 하나\n",
        "- 반환값: 등장 횟수 (정수형)\n",
        "\n",
        "### 예시\n",
        "입력: (\"banana\", \"na\")  \n",
        "출력: 2\n"
      ]
    },
    {
      "cell_type": "code",
      "source": [
        "def count_substring(s1, s2):\n",
        "  count = 0\n",
        "  str_first = 0\n",
        "\n",
        "  while True:\n",
        "    if s1.find(s2, str_first) != -1:\n",
        "      count += 1\n",
        "      str_first = s1.find(s2, str_first) + 1\n",
        "    else:\n",
        "      break;\n",
        "\n",
        "  return count\n",
        "\n",
        "\n",
        "str1 = input(\"문자열 입력 : \")\n",
        "str2 = input(\"부분 문자열 입력 : \")\n",
        "\n",
        "result = count_substring(str1, str2)\n",
        "\n",
        "print(result)"
      ],
      "metadata": {
        "id": "PBlyeBjN749R",
        "colab": {
          "base_uri": "https://localhost:8080/"
        },
        "outputId": "ee09d898-9154-4fe4-c9e4-814e29f5bfc1"
      },
      "id": "PBlyeBjN749R",
      "execution_count": 108,
      "outputs": [
        {
          "output_type": "stream",
          "name": "stdout",
          "text": [
            "문자열 입력 : banaananaanaaa\n",
            "부분 문자열 입력 : naa\n",
            "3\n"
          ]
        }
      ]
    },
    {
      "cell_type": "markdown",
      "id": "3ba3f8fd",
      "metadata": {
        "id": "3ba3f8fd"
      },
      "source": [
        "## 문제 11\n",
        "\n",
        "정수 리스트를 입력받아, 리스트 안에서 중복된 숫자만 모아 리스트로 반환하는 함수를 작성한다.\n",
        "\n",
        "- 함수 이름: `find_duplicates`\n",
        "- 매개변수: 숫자 리스트 하나\n",
        "- 반환값: 중복 숫자 리스트\n",
        "\n",
        "### 예시\n",
        "입력: [1, 2, 3, 2, 4, 1]  \n",
        "출력: [1, 2]\n"
      ]
    },
    {
      "cell_type": "code",
      "source": [
        "def find_duplicates(li):\n",
        "    num_list = []\n",
        "    num_set = set()\n",
        "\n",
        "    for num in li:\n",
        "        if num in num_set:\n",
        "            if num not in num_list:\n",
        "                num_list.append(num)\n",
        "        else:\n",
        "            num_set.add(num)\n",
        "\n",
        "    return sorted(num_list)\n",
        "\n",
        "\n",
        "li_data = []\n",
        "\n",
        "for i in range(6):\n",
        "    num = int(input(\"숫자 리스트 값 입력 : \"))\n",
        "    li_data.append(num)\n",
        "\n",
        "result = find_duplicates(li_data)\n",
        "\n",
        "print(result)"
      ],
      "metadata": {
        "colab": {
          "base_uri": "https://localhost:8080/"
        },
        "id": "pjRUdyJTp7yN",
        "outputId": "caa9a0b3-4ce3-48ae-f116-8cc1b54ff030"
      },
      "id": "pjRUdyJTp7yN",
      "execution_count": 109,
      "outputs": [
        {
          "output_type": "stream",
          "name": "stdout",
          "text": [
            "숫자 리스트 값 입력 : 1\n",
            "숫자 리스트 값 입력 : 1\n",
            "숫자 리스트 값 입력 : 1\n",
            "숫자 리스트 값 입력 : 1\n",
            "숫자 리스트 값 입력 : 1\n",
            "숫자 리스트 값 입력 : 1\n",
            "[1]\n"
          ]
        }
      ]
    },
    {
      "cell_type": "markdown",
      "id": "3cd3e544",
      "metadata": {
        "id": "3cd3e544"
      },
      "source": [
        "## 문제 12\n",
        "\n",
        "두 개의 문자열을 입력받아, 두 문자열이 아나그램인지 판별하는 함수를 작성한다.\n",
        "\n",
        "아나그램: 같은 알파벳을 사용해서 순서만 바꾼 단어\n",
        "- 함수 이름: `is_anagram`\n",
        "- 매개변수: 문자열 두 개\n",
        "- 반환값: True 또는 False\n",
        "\n",
        "### 예시\n",
        "입력: (\"listen\", \"silent\")  \n",
        "출력: True\n",
        "\n",
        "입력: (\"hello\", \"world\")  \n",
        "출력: False\n"
      ]
    },
    {
      "cell_type": "code",
      "source": [
        "def is_anagram(str1, str2):\n",
        "  sort_bool = (sorted(str1) == sorted(str2))\n",
        "  if sort_bool == True and str1 != str2:\n",
        "    return True\n",
        "  else:\n",
        "    return False\n",
        "\n",
        "str1 = input(\"첫 번째 문자열 입력 : \")\n",
        "str2 = input(\"두 번째 문자열 입력 : \")\n",
        "\n",
        "result = is_anagram(str1, str2)\n",
        "\n",
        "print(result)"
      ],
      "metadata": {
        "id": "G93sOfDb76g_",
        "colab": {
          "base_uri": "https://localhost:8080/"
        },
        "outputId": "b766ba45-1d04-4790-dd96-70e5d2318d85"
      },
      "id": "G93sOfDb76g_",
      "execution_count": 110,
      "outputs": [
        {
          "output_type": "stream",
          "name": "stdout",
          "text": [
            "첫 번째 문자열 입력 : sdffsss\n",
            "두 번째 문자열 입력 : ssssffd\n",
            "True\n"
          ]
        }
      ]
    }
  ],
  "metadata": {
    "colab": {
      "provenance": []
    },
    "language_info": {
      "name": "python"
    },
    "kernelspec": {
      "name": "python3",
      "display_name": "Python 3"
    }
  },
  "nbformat": 4,
  "nbformat_minor": 5
}
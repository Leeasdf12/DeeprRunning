{
  "nbformat": 4,
  "nbformat_minor": 0,
  "metadata": {
    "colab": {
      "provenance": []
    },
    "kernelspec": {
      "name": "python3",
      "display_name": "Python 3"
    },
    "language_info": {
      "name": "python"
    }
  },
  "cells": [
    {
      "cell_type": "markdown",
      "source": [
        "# Q1. 홀수, 짝수 판별하기\n",
        "주어진 자연수가 홀수인지 짝수인지 판별해 주는 함수(is_odd)를 작성해 보자. is_odd 함수는 홀수이면 True, False를 리턴해야 한다."
      ],
      "metadata": {
        "id": "9WJi0jPZtbpV"
      }
    },
    {
      "cell_type": "code",
      "source": [
        "def is_odd(number):\n",
        "  if number % 2 == 1:\n",
        "    return True\n",
        "  else:\n",
        "    return False\n",
        "\n",
        "\n",
        "print(is_odd(1))\n",
        "print(is_odd(2))"
      ],
      "metadata": {
        "colab": {
          "base_uri": "https://localhost:8080/"
        },
        "id": "2soiqoB1tok0",
        "outputId": "bb08b455-ab48-4941-e36d-ed32866b6e6a"
      },
      "execution_count": null,
      "outputs": [
        {
          "output_type": "stream",
          "name": "stdout",
          "text": [
            "True\n",
            "False\n"
          ]
        }
      ]
    },
    {
      "cell_type": "markdown",
      "source": [
        "# Q2. 모든 입력의 평균값 구하기\n",
        "입력으로 들어오는 모든 수의 평균 값을 계산해 주는 함수를 작성해 보자.  \n",
        "단 입력으로 들어오는 수의 개수는 정해져 있지 않다."
      ],
      "metadata": {
        "id": "ymNnt0HPtsdU"
      }
    },
    {
      "cell_type": "code",
      "source": [
        "def avg_numbers(*args):\n",
        "  result = 0\n",
        "  for i in args:\n",
        "    result += i\n",
        "\n",
        "  return result / len(args)\n",
        "\n",
        "print(avg_numbers(1, 2))\n",
        "print(avg_numbers(1, 2, 3, 4, 5))"
      ],
      "metadata": {
        "colab": {
          "base_uri": "https://localhost:8080/"
        },
        "id": "4PAOW42PtvxM",
        "outputId": "aaea8a9a-93da-4908-a38c-ed914212c018"
      },
      "execution_count": null,
      "outputs": [
        {
          "output_type": "stream",
          "name": "stdout",
          "text": [
            "1.5\n",
            "3.0\n"
          ]
        }
      ]
    },
    {
      "cell_type": "markdown",
      "source": [
        "# Q3. 프로그램 오류 수정하기 1\n",
        "다음은 2개의 숫자를 입력받아 더한 후에 리턴하는 프로그램이다.\n",
        "\n",
        ">`input1 = input(\"첫번째 숫자를 입력하세요:\")`  \n",
        "`input2 = input(\"두번째 숫자를 입력하세요:\")`   \n",
        "  \n",
        ">`total = input1 + input2`  \n",
        "`print(\"두 수의 합은 %s 입니다\" % total)`  \n",
        "\n",
        "이 프로그램을 실행해 보자.  \n",
        "  \n",
        "  \n",
        ">첫번째 숫자를 입력하세요:3  \n",
        "두번째 숫자를 입력하세요:6  \n",
        "두 수의 합은 36 입니다  \n",
        "  \n",
        "3과 6을 입력 했을 때 9가 아닌 36이라는 결괏값이 출력되었다. 이 프로그램의 오류를 수정해 보자.  \n"
      ],
      "metadata": {
        "id": "nkVg2i1Pt_xU"
      }
    },
    {
      "cell_type": "code",
      "source": [
        "input1 = int(input(\"첫번째 숫자를 입력하세요:\"))\n",
        "input2 = int(input(\"두번째 숫자를 입력하세요:\"))\n",
        "\n",
        "total = input1 + input2\n",
        "print(\"두 수의 합은 %s 입니다\" % total)"
      ],
      "metadata": {
        "colab": {
          "base_uri": "https://localhost:8080/"
        },
        "id": "mvOO84M9257m",
        "outputId": "9acc1d84-46f8-44cb-8982-47e278013c4e"
      },
      "execution_count": null,
      "outputs": [
        {
          "output_type": "stream",
          "name": "stdout",
          "text": [
            "첫번째 숫자를 입력하세요:3\n",
            "두번째 숫자를 입력하세요:6\n",
            "두 수의 합은 9 입니다\n"
          ]
        }
      ]
    },
    {
      "cell_type": "markdown",
      "source": [
        "# Q4. 출력 결과가 다른 것은?\n",
        "다음 중 출력 결과가 다른 것 한 개를 골라 보자.  \n",
        "\n",
        ">\n",
        "1. `print(\"you\" \"need\" \"python\"`  \n",
        "2. `print(\"you\"+\"need\"+\"python\")`   \n",
        "3. `print(\"you\", \"need\", \"python\")`  \n",
        "4. `print(\"\".join([\"you\", \"need\", \"python\"]))`"
      ],
      "metadata": {
        "id": "quj0N-TquGpc"
      }
    },
    {
      "cell_type": "markdown",
      "source": [
        "\n",
        "3번 - 'you need python' 이 출력되고\n",
        "1, 2, 4 - 'youneedpython' 출력\n",
        "\n",
        "print문 안에서 문자열과 ',' 사용시 띄어쓰기가 들어간다"
      ],
      "metadata": {
        "id": "gra6le7Qupad"
      }
    },
    {
      "cell_type": "markdown",
      "source": [
        "# Q5. 프로그램 오류 수정하기 2\n",
        "다음은 파일(test.txt)에 \"Life is too short\" 문자열을 저장한 후 다시 그 파일을 읽어서 출력하는 프로그램이다.  \n",
        "  \n",
        ">`f1 = open(\"test.txt\", 'w')`  \n",
        "`f1.write(\"Life is too short\")`\n",
        "  \n",
        ">`f2 = open(\"test.txt\", 'r')`  \n",
        "`print(f2.read())`\n",
        "  \n",
        "이 프로그램은 우리가 예상한 \"Life is too short\"라는 문장을 출력하지 않는다. 우리가 예상한 값을 출력할 수 있도록 프로그램을 수정해 보자."
      ],
      "metadata": {
        "id": "lSiscQRXuHsk"
      }
    },
    {
      "cell_type": "code",
      "source": [
        "f1 = open(\"test.txt\", 'w')\n",
        "f1.write(\"Life is too short\")\n",
        "f1.close()\n",
        "\n",
        "f2 = open(\"test.txt\", 'r')\n",
        "print(f2.read())\n",
        "f2.close()"
      ],
      "metadata": {
        "colab": {
          "base_uri": "https://localhost:8080/"
        },
        "id": "fhN7sY683pf-",
        "outputId": "9c1f95dc-df56-4ac3-d9b0-0f6c05279aae"
      },
      "execution_count": null,
      "outputs": [
        {
          "output_type": "stream",
          "name": "stdout",
          "text": [
            "Life is too short\n"
          ]
        }
      ]
    },
    {
      "cell_type": "markdown",
      "source": [
        "# Q6. 사용자 입력 저장하기\n",
        "사용자의 입력을 파일(test.txt)에 저장하는 프로그램을 작성해 보자.  \n",
        "단 프로그램을 다시 실행하더라도 기존에 작성한 내용을 유지하고 새로 입력한 내용을 추가해야 한다."
      ],
      "metadata": {
        "id": "4IA37wmVuOg8"
      }
    },
    {
      "cell_type": "code",
      "source": [
        "use_input = input(\"저장할 내용을 입력하세요: \")\n",
        "f = open('test.txt', 'a')\n",
        "f.write(use_input)\n",
        "f.write('\\n')\n",
        "f.close()"
      ],
      "metadata": {
        "colab": {
          "base_uri": "https://localhost:8080/"
        },
        "id": "gE29N385u5BF",
        "outputId": "f37ed408-3805-4dff-bfab-ea0672048f4d"
      },
      "execution_count": null,
      "outputs": [
        {
          "name": "stdout",
          "output_type": "stream",
          "text": [
            "저장할 내용을 입력하세요: 내용 2\n"
          ]
        }
      ]
    },
    {
      "cell_type": "markdown",
      "source": [
        "# Q7. 파일의 문자열 바꾸기\n",
        "다음과 같은 내용을 지닌 파일 test.txt가 있다. 이 파일의 내용 중 \"java\"라는 문자열을 \"python\"으로 바꾸어 저장해 보자.  \n",
        "  \n",
        "> Life is too short  \n",
        "you need java"
      ],
      "metadata": {
        "id": "oZRmpy6OuhYV"
      }
    },
    {
      "cell_type": "code",
      "source": [
        "f = open('test1.txt', 'r')\n",
        "body = f.read()\n",
        "f.close()\n",
        "\n",
        "body = body.replace('java', 'python')\n",
        "\n",
        "f = open('test1.txt', 'w')\n",
        "f.write(body)\n",
        "f.close()"
      ],
      "metadata": {
        "id": "sd6Lkxvq5F1H"
      },
      "execution_count": null,
      "outputs": []
    },
    {
      "cell_type": "markdown",
      "source": [
        "# Q8 입력값을 모두 더해 출력하기\n",
        "다음과 같이 실행할 때 입력값을 모두 더해 출력하는 스크립트(C:\\doit\\myargv.py)를 작성해 보자.\n",
        "  \n",
        ">C: \\> cd doit  \n",
        "C: \\doit> python myargv.py 1 2 3 4 5 6 7 8 9 10  \n",
        "55"
      ],
      "metadata": {
        "id": "GQ8DCsHN51pn"
      }
    },
    {
      "cell_type": "code",
      "source": [
        "import sys\n",
        "\n",
        "args = sys.argv[1:]\n",
        "total = 0\n",
        "\n",
        "for arg in args:\n",
        "    total += int(arg)\n",
        "\n",
        "print(total)"
      ],
      "metadata": {
        "colab": {
          "base_uri": "https://localhost:8080/"
        },
        "id": "s2h-73tK6Q4o",
        "outputId": "eb9339dd-d9d7-40a2-d77c-3dbb19563a05"
      },
      "execution_count": null,
      "outputs": [
        {
          "output_type": "stream",
          "name": "stdout",
          "text": [
            "55\n"
          ]
        }
      ]
    }
  ]
}
{
  "nbformat": 4,
  "nbformat_minor": 0,
  "metadata": {
    "colab": {
      "provenance": []
    },
    "kernelspec": {
      "name": "python3",
      "display_name": "Python 3"
    },
    "language_info": {
      "name": "python"
    }
  },
  "cells": [
    {
      "cell_type": "markdown",
      "source": [
        "# API란 무엇인가?\n",
        "API는 서로 다른 소프트웨어 시스템 간에 정보를 주고받거나 기능을 사용할 수 있도록 도와주는 서비스임.\n",
        "쉽게 말하면,\"**요청하면 필요한 데이터를 보내주는 자동화된 시스템**\"\n",
        "\n",
        "\n",
        "---"
      ],
      "metadata": {
        "id": "NjA9fDkCedne"
      }
    },
    {
      "cell_type": "markdown",
      "source": [
        "# 1. 고양이 사진 API\n",
        "\n"
      ],
      "metadata": {
        "id": "-N_lMcJsegjl"
      }
    },
    {
      "cell_type": "code",
      "source": [
        "import requests\n",
        "from IPython.display import Image, display\n",
        "\n",
        "url = \"https://api.thecatapi.com/v1/images/search\"\n",
        "response = requests.get(url)\n",
        "data = response.json()\n",
        "cat_url = data[0]['url']\n",
        "\n",
        "print(\"오늘의 고양이 사진\")\n",
        "display(Image(url=cat_url))"
      ],
      "metadata": {
        "colab": {
          "base_uri": "https://localhost:8080/",
          "height": 319
        },
        "id": "M5DEgjDyfNpt",
        "outputId": "6727432f-a532-417c-86c3-96a29a4a3535"
      },
      "execution_count": 19,
      "outputs": [
        {
          "output_type": "stream",
          "name": "stdout",
          "text": [
            "오늘의 고양이 사진\n"
          ]
        },
        {
          "output_type": "display_data",
          "data": {
            "text/html": [
              "<img src=\"https://cdn2.thecatapi.com/images/3on.gif\"/>"
            ],
            "text/plain": [
              "<IPython.core.display.Image object>"
            ]
          },
          "metadata": {}
        }
      ]
    },
    {
      "cell_type": "markdown",
      "source": [
        "# 2. 날씨 정보 API"
      ],
      "metadata": {
        "id": "ckHScSjLhiLG"
      }
    },
    {
      "cell_type": "code",
      "source": [
        "import requests\n",
        "from datetime import datetime\n",
        "import json\n",
        "\n",
        "latitude = 37.5665\n",
        "longitude = 126.9780\n",
        "\n",
        "today = '2025-04-14'\n",
        "\n",
        "url = (\n",
        "  f\"https://api.open-meteo.com/v1/forecast?\"\n",
        "  f\"latitude={latitude}&longitude={longitude}\"\n",
        "  f\"&daily=temperature_2m_max,temperature_2m_min&timezone=Asia%2FSeoul\"\n",
        ")\n",
        "\n",
        "\n",
        "response = requests.get(url)\n",
        "data = response.json()\n",
        "\n",
        "print(json.dumps(data, indent = 3))\n",
        "\n",
        "dates = data['daily']['time']\n",
        "max_temps = data['daily']['temperature_2m_max']\n",
        "min_temps = data['daily']['temperature_2m_min']\n",
        "\n",
        "for date in dates:\n",
        "  if date == str(today):\n",
        "    i = dates.index(date)\n",
        "    print(f\"오늘({today}) 서울 날씨\")\n",
        "    print(f\"- 최고 기온: ({max_temps[i]}) C\")\n",
        "    print(f\"- 최저 기온: ({min_temps[i]}) C\")\n",
        "    break"
      ],
      "metadata": {
        "colab": {
          "base_uri": "https://localhost:8080/"
        },
        "id": "UjrtdhbKhoDe",
        "outputId": "2ec6c7c1-44a1-46c8-99ad-85d236abeef5"
      },
      "execution_count": 39,
      "outputs": [
        {
          "output_type": "stream",
          "name": "stdout",
          "text": [
            "{\n",
            "   \"latitude\": 37.55,\n",
            "   \"longitude\": 127.0,\n",
            "   \"generationtime_ms\": 0.035881996154785156,\n",
            "   \"utc_offset_seconds\": 32400,\n",
            "   \"timezone\": \"Asia/Seoul\",\n",
            "   \"timezone_abbreviation\": \"GMT+9\",\n",
            "   \"elevation\": 34.0,\n",
            "   \"daily_units\": {\n",
            "      \"time\": \"iso8601\",\n",
            "      \"temperature_2m_max\": \"\\u00b0C\",\n",
            "      \"temperature_2m_min\": \"\\u00b0C\"\n",
            "   },\n",
            "   \"daily\": {\n",
            "      \"time\": [\n",
            "         \"2025-04-14\",\n",
            "         \"2025-04-15\",\n",
            "         \"2025-04-16\",\n",
            "         \"2025-04-17\",\n",
            "         \"2025-04-18\",\n",
            "         \"2025-04-19\",\n",
            "         \"2025-04-20\"\n",
            "      ],\n",
            "      \"temperature_2m_max\": [\n",
            "         6.2,\n",
            "         13.1,\n",
            "         20.1,\n",
            "         22.3,\n",
            "         18.7,\n",
            "         18.5,\n",
            "         18.6\n",
            "      ],\n",
            "      \"temperature_2m_min\": [\n",
            "         1.9,\n",
            "         1.7,\n",
            "         4.5,\n",
            "         10.7,\n",
            "         10.0,\n",
            "         8.6,\n",
            "         11.3\n",
            "      ]\n",
            "   }\n",
            "}\n",
            "오늘(2025-04-14) 서울 날씨\n",
            "- 최고 기온: (6.2) C\n",
            "- 최저 기온: (1.9) C\n"
          ]
        }
      ]
    },
    {
      "cell_type": "markdown",
      "source": [
        "# 3. 명언 제공 API"
      ],
      "metadata": {
        "id": "oG3k-ygQllW_"
      }
    },
    {
      "cell_type": "code",
      "source": [
        "import requests\n",
        "import json\n",
        "\n",
        "url = \"https://zenquotes.io/api/random\"\n",
        "response = requests.get(url)\n",
        "data = response.json()\n",
        "\n",
        "print(json.dumps(data, indent = 3))\n",
        "\n",
        "quote = data[0]['q']\n",
        "author = data[0]['a']\n",
        "\n",
        "\n",
        "print(\"오늘의 명언:\")\n",
        "print(f'\"{quote}\" - {author}')"
      ],
      "metadata": {
        "colab": {
          "base_uri": "https://localhost:8080/"
        },
        "id": "OzvxHjhjlore",
        "outputId": "8a341f05-ddd1-4b53-f83c-e7d055bbe399"
      },
      "execution_count": 32,
      "outputs": [
        {
          "output_type": "stream",
          "name": "stdout",
          "text": [
            "[\n",
            "   {\n",
            "      \"q\": \"Presents are made for the pleasure of who gives them, not the merits of who receives them.\",\n",
            "      \"a\": \"Carlos Ruiz Zafon\",\n",
            "      \"h\": \"<blockquote>&ldquo;Presents are made for the pleasure of who gives them, not the merits of who receives them.&rdquo; &mdash; <footer>Carlos Ruiz Zafon</footer></blockquote>\"\n",
            "   }\n",
            "]\n",
            "오늘의 명언:\n",
            "\"Presents are made for the pleasure of who gives them, not the merits of who receives them.\" - Carlos Ruiz Zafon\n"
          ]
        }
      ]
    },
    {
      "cell_type": "markdown",
      "source": [
        "# 아침 루틴 만들기(Routine 클래스의 routine 메소드)\n",
        "1. 랜덤 고양이 사진 보여주기 (메소드)\n",
        "2. 오늘 서울 날씨 알려주기 (메소드)\n",
        "3. 오늘의 명언 출력하기 (메소드)\n",
        "4. 추가 기능 제공 (자율)"
      ],
      "metadata": {
        "id": "lwi7fq6Dr9GY"
      }
    },
    {
      "cell_type": "code",
      "source": [
        "import requests\n",
        "from IPython.display import Image, display\n",
        "from datetime import datetime\n",
        "import json\n",
        "import googletrans\n",
        "\n",
        "class Routine:\n",
        "    def cat():\n",
        "      url = \"https://api.thecatapi.com/v1/images/search\"\n",
        "      response = requests.get(url)\n",
        "      data = response.json()\n",
        "      cat_url = data[0]['url']\n",
        "\n",
        "      print(\"오늘의 고양이 사진\")\n",
        "      display(Image(url=cat_url))\n",
        "      print(\"\")\n",
        "\n",
        "    def weather(latitude, longitude):\n",
        "      today = '2025-04-14'\n",
        "\n",
        "      url = (\n",
        "          f\"https://api.open-meteo.com/v1/forecast?\"\n",
        "          f\"latitude={latitude}&longitude={longitude}\"\n",
        "          f\"&daily=temperature_2m_max,temperature_2m_min&timezone=Asia%2FSeoul\"\n",
        "      )\n",
        "\n",
        "      response = requests.get(url)\n",
        "      data = response.json()\n",
        "\n",
        "      dates = data['daily']['time']\n",
        "      max_temps = data['daily']['temperature_2m_max']\n",
        "      min_temps = data['daily']['temperature_2m_min']\n",
        "\n",
        "      for i, date in enumerate(dates):\n",
        "          if date == today:\n",
        "              print(f\"오늘({today}) 날씨\")\n",
        "              print(f\"- 최고 기온: {max_temps[i]} °C\")\n",
        "              print(f\"- 최저 기온: {min_temps[i]} °C\")\n",
        "              break\n",
        "      print(\"\")\n",
        "\n",
        "    def wise():\n",
        "      translator = googletrans.Translator()\n",
        "      url = \"https://zenquotes.io/api/random\"\n",
        "      response = requests.get(url)\n",
        "      data = response.json()\n",
        "\n",
        "      quote = data[0]['q']\n",
        "      author = data[0]['a']\n",
        "\n",
        "      outStr1 = translator.translate(quote, dest = 'ko', src = 'auto')\n",
        "      outStr2 = translator.translate(author, dest = 'ko', src = 'auto')\n",
        "      print(\"오늘의 명언:\")\n",
        "      print(f'\"{outStr1.text}\" - {outStr2.text}')\n",
        "      print(\"\")\n",
        "\n",
        "    def chuck():\n",
        "      translator = googletrans.Translator()\n",
        "      url = \"https://api.chucknorris.io/jokes/random\"\n",
        "      response = requests.get(url)\n",
        "      data = response.json()\n",
        "\n",
        "      joke = data['value']\n",
        "      outStr = translator.translate(joke, dest = 'ko', src = 'auto')\n",
        "      print(\"유머:\")\n",
        "      print(f\"- {outStr.text}\")\n",
        "      print(\"\")\n",
        "\n",
        "    def number():\n",
        "      translator = googletrans.Translator()\n",
        "      url = \"http://numbersapi.com/random?json\"\n",
        "      response = requests.get(url)\n",
        "      data = response.json()\n",
        "\n",
        "      text = data['text']\n",
        "      outStr = translator.translate(text, dest = 'ko', src = 'auto')\n",
        "      print(\"숫자 지식 : \")\n",
        "      print(f\"- {outStr.text}\")\n",
        "      print(\"\")\n",
        "\n",
        "\n",
        "    def routine(latitude, longitude, number):\n",
        "        Routine.cat()\n",
        "        Routine.weather(latitude, longitude)\n",
        "        Routine.wise()\n",
        "        Routine.chuck()\n",
        "        Routine.number()\n",
        "\n",
        "Routine.routine(37.5665, 126.9780, 12)"
      ],
      "metadata": {
        "colab": {
          "base_uri": "https://localhost:8080/",
          "height": 669
        },
        "id": "nOpGBSQ2wC8h",
        "outputId": "9c617242-b061-4bf6-c958-08ed3f4ebc96"
      },
      "execution_count": 25,
      "outputs": [
        {
          "output_type": "stream",
          "name": "stdout",
          "text": [
            "오늘의 고양이 사진\n"
          ]
        },
        {
          "output_type": "display_data",
          "data": {
            "text/html": [
              "<img src=\"https://cdn2.thecatapi.com/images/7ih.jpg\"/>"
            ],
            "text/plain": [
              "<IPython.core.display.Image object>"
            ]
          },
          "metadata": {}
        },
        {
          "output_type": "stream",
          "name": "stdout",
          "text": [
            "\n",
            "오늘(2025-04-14) 날씨\n",
            "- 최고 기온: 6.2 °C\n",
            "- 최저 기온: 1.9 °C\n",
            "\n",
            "오늘의 명언:\n",
            "\"성공의 길은 항상 건설 중입니다.\" - 스티브 하비\n",
            "\n",
            "유머:\n",
            "- Android는 Chuck Norris를위한 앱을 만들기 전에 앱을 만들었습니다.나는이 앱을 좋아하고 감사 할 것이다. :) http://nothingmuch.in/chucknorrisjokes.apk\n",
            "\n",
            "숫자 지식 : \n",
            "- 451은 책의 논문이 발화하는 온도로, Ray Bradbury의 소설 화씨 451에 이름을 부여합니다.\n",
            "\n"
          ]
        }
      ]
    },
    {
      "cell_type": "code",
      "source": [
        "pip install googletrans==4.0.0-rc1"
      ],
      "metadata": {
        "colab": {
          "base_uri": "https://localhost:8080/"
        },
        "id": "ofXv7IgEAs-0",
        "outputId": "12636b25-c424-479d-9a2c-be9ee13a3c6e"
      },
      "execution_count": 1,
      "outputs": [
        {
          "output_type": "stream",
          "name": "stdout",
          "text": [
            "Requirement already satisfied: googletrans==4.0.0-rc1 in /usr/local/lib/python3.11/dist-packages (4.0.0rc1)\n",
            "Requirement already satisfied: httpx==0.13.3 in /usr/local/lib/python3.11/dist-packages (from googletrans==4.0.0-rc1) (0.13.3)\n",
            "Requirement already satisfied: certifi in /usr/local/lib/python3.11/dist-packages (from httpx==0.13.3->googletrans==4.0.0-rc1) (2025.1.31)\n",
            "Requirement already satisfied: hstspreload in /usr/local/lib/python3.11/dist-packages (from httpx==0.13.3->googletrans==4.0.0-rc1) (2025.1.1)\n",
            "Requirement already satisfied: sniffio in /usr/local/lib/python3.11/dist-packages (from httpx==0.13.3->googletrans==4.0.0-rc1) (1.3.1)\n",
            "Requirement already satisfied: chardet==3.* in /usr/local/lib/python3.11/dist-packages (from httpx==0.13.3->googletrans==4.0.0-rc1) (3.0.4)\n",
            "Requirement already satisfied: idna==2.* in /usr/local/lib/python3.11/dist-packages (from httpx==0.13.3->googletrans==4.0.0-rc1) (2.10)\n",
            "Requirement already satisfied: rfc3986<2,>=1.3 in /usr/local/lib/python3.11/dist-packages (from httpx==0.13.3->googletrans==4.0.0-rc1) (1.5.0)\n",
            "Requirement already satisfied: httpcore==0.9.* in /usr/local/lib/python3.11/dist-packages (from httpx==0.13.3->googletrans==4.0.0-rc1) (0.9.1)\n",
            "Requirement already satisfied: h11<0.10,>=0.8 in /usr/local/lib/python3.11/dist-packages (from httpcore==0.9.*->httpx==0.13.3->googletrans==4.0.0-rc1) (0.9.0)\n",
            "Requirement already satisfied: h2==3.* in /usr/local/lib/python3.11/dist-packages (from httpcore==0.9.*->httpx==0.13.3->googletrans==4.0.0-rc1) (3.2.0)\n",
            "Requirement already satisfied: hyperframe<6,>=5.2.0 in /usr/local/lib/python3.11/dist-packages (from h2==3.*->httpcore==0.9.*->httpx==0.13.3->googletrans==4.0.0-rc1) (5.2.0)\n",
            "Requirement already satisfied: hpack<4,>=3.0 in /usr/local/lib/python3.11/dist-packages (from h2==3.*->httpcore==0.9.*->httpx==0.13.3->googletrans==4.0.0-rc1) (3.0.0)\n"
          ]
        }
      ]
    }
  ]
}
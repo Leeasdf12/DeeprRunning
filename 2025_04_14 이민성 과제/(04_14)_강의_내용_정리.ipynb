{
  "nbformat": 4,
  "nbformat_minor": 0,
  "metadata": {
    "colab": {
      "provenance": []
    },
    "kernelspec": {
      "name": "python3",
      "display_name": "Python 3"
    },
    "language_info": {
      "name": "python"
    }
  },
  "cells": [
    {
      "cell_type": "markdown",
      "source": [
        "# 파일 생성하기\n",
        "* `open(파일_이름, 파일_열기_모드)`를 사용한다.\n",
        "* 파일 열기 모드에는 `r, w, a`가 있다.\n",
        "  1. `'r'` : 읽기 모드: 파일을 읽기만 할 때 사용한다.\n",
        "  2. `'w'` : 쓰기 모드: 파일에 내용을 쓸 때 사용한다.\n",
        "  3. `'a'` : 추가 모드: 파일의 마지막에 새로운 내용을 추가할 때 사용한다.\n",
        "* 쓰기 모드(`'w'`)로 열면 파일이 없으면 새로 만들고, 있으면 내용이 지워진다."
      ],
      "metadata": {
        "id": "2MNNTweEn_Xk"
      }
    },
    {
      "cell_type": "code",
      "source": [
        "# f = open(파일이름, 파일 열기 모드(w: write, 쓰기 모드로 열기))\n",
        "f = open(\"새파일.txt\", 'w')\n",
        "f.close()"
      ],
      "metadata": {
        "id": "tfrHnDHRoNtL"
      },
      "execution_count": null,
      "outputs": []
    },
    {
      "cell_type": "markdown",
      "source": [
        "* 경로를 적을 때는 `/` 또는 `W` 또는 `r**`을 사용해야 한다.\n",
        "* f.close()는 열려 있는 파일 객체를 닫아 주는 역할을 한다.\n",
        "  (이 문장은 생략 가능, 프로그램을 종료할 때 파이썬 프로그램이 열려 있는 파일의 객체를 자동으로 닫아줌)\n",
        "* 쓰기모드로 열었던 파일을 닫지 않고 다시 사용하려고 하면 오류가 발생 한다.\n"
      ],
      "metadata": {
        "id": "b7eCAsQWoTMT"
      }
    },
    {
      "cell_type": "code",
      "source": [
        "# 다른 디렉토리에 있는 파일을 열 때에는 경로를 직접 지정\n",
        "f = open(\"새폴더//새파일.txt\",'w')\n",
        "f.close()"
      ],
      "metadata": {
        "id": "i94snmEioa2L"
      },
      "execution_count": null,
      "outputs": []
    },
    {
      "cell_type": "markdown",
      "source": [
        "###파일 경로와 슬래시(/)\n",
        "파이썬 코드에서 파일 경로를 표시할 때 `\"C:/doit/새파일.txt\"`처럼 슬래시(/)를 사용할 수 있다.  \n",
        " 만약 역슬래시(\\)를 사용한다면 `\"C:\\\\\\doit\\\\\\새파일.txt\"`처럼 역슬래시를 2개 사용하거나 `r\"C:\\doit\\새파일.txt\"`와 같이 문자열 앞에 r 문자(raw string)를 덧붙여 사용해야 한다. 왜냐하면 `\"C:\\note\\test.txt\"`처럼 파일 경로에 `\\n`과 같은 이스케이프 문자가 있을 경우, 줄바꿈 문자로 해석되어 의도했던 파일 경로와 달라지기 때문이다."
      ],
      "metadata": {
        "id": "UvsfV8P9IUfN"
      }
    },
    {
      "cell_type": "markdown",
      "source": [
        "# 파일을 쓰기 모드로 열어 내용 쓰기"
      ],
      "metadata": {
        "id": "Bj8TiOyEoi3c"
      }
    },
    {
      "cell_type": "code",
      "source": [
        "# 1. 동일 디렉토리에 있는 새파일.txt 쓰기 모드로 열기\n",
        "f = open(\"새파일.txt\", 'w')\n",
        "\n",
        "# 반복문 실행(1~10)\n",
        "for i in range(1, 11):\n",
        "  # data에 값 넣기\n",
        "  data = f\"{i}번째 줄입니다. \\n\"\n",
        "  # 파일에 data 내용 쓰기\n",
        "  f.write(data)\n",
        "\n",
        "f.write(\"문자열 파일에 쓰기\")\n",
        "f.close()"
      ],
      "metadata": {
        "id": "PtH1GGclolWr"
      },
      "execution_count": null,
      "outputs": []
    },
    {
      "cell_type": "markdown",
      "source": [
        "해당 코드를 완성 한뒤 `새파일.txt`을 확인해보면 반복문 실행 횟수(1~10) 만큼 텍스트가 출력 된걸 확인 할 수 있다."
      ],
      "metadata": {
        "id": "QC-DTq0NIywy"
      }
    },
    {
      "cell_type": "markdown",
      "source": [
        "# 파일을 읽는 여러 가지 방법"
      ],
      "metadata": {
        "id": "LLzJwVJXpc6s"
      }
    },
    {
      "cell_type": "markdown",
      "source": [
        "# readline 함수 이용하기\n",
        "* readline()은 한 줄씩 읽는다.\n",
        "* 반복문과 함께 사용 가능하다."
      ],
      "metadata": {
        "id": "JlUSqfOLpe4U"
      }
    },
    {
      "cell_type": "code",
      "source": [
        "f = open(\"새파일.txt\", 'r')\n",
        "line =f.readline()\n",
        "print(line)\n",
        "\n",
        "line = f.readline()\n",
        "print(line)\n",
        "\n",
        "line = f.readline()\n",
        "print(line)\n",
        "\n",
        "line = f.readline()\n",
        "print(line)\n",
        "\n",
        "f.close()"
      ],
      "metadata": {
        "colab": {
          "base_uri": "https://localhost:8080/"
        },
        "id": "V6TThLgHpxyd",
        "outputId": "1632377b-c018-4cf9-86a6-c827198be3e9"
      },
      "execution_count": null,
      "outputs": [
        {
          "output_type": "stream",
          "name": "stdout",
          "text": [
            "1번째 줄입니다. \n",
            "\n",
            "2번째 줄입니다. \n",
            "\n",
            "3번째 줄입니다. \n",
            "\n",
            "4번째 줄입니다. \n",
            "\n"
          ]
        }
      ]
    },
    {
      "cell_type": "markdown",
      "source": [
        "# readlines 함수 사용하기\n",
        "* readlines() 는 파일의 모든 줄을 리스트로 반환한다."
      ],
      "metadata": {
        "id": "1YEwsudZp6-k"
      }
    },
    {
      "cell_type": "code",
      "source": [
        "f = open(\"새파일.txt\", 'r')\n",
        "lines = f.readlines()\n",
        "\n",
        "for line in lines:\n",
        "  print(line)\n",
        "\n",
        "f.close()"
      ],
      "metadata": {
        "colab": {
          "base_uri": "https://localhost:8080/"
        },
        "id": "f_CNVspqqMm9",
        "outputId": "1a5c7110-75b9-446f-d979-96978cd1ac4c"
      },
      "execution_count": null,
      "outputs": [
        {
          "output_type": "stream",
          "name": "stdout",
          "text": [
            "1번째 줄입니다. \n",
            "\n",
            "2번째 줄입니다. \n",
            "\n",
            "3번째 줄입니다. \n",
            "\n",
            "4번째 줄입니다. \n",
            "\n",
            "5번째 줄입니다. \n",
            "\n",
            "6번째 줄입니다. \n",
            "\n",
            "7번째 줄입니다. \n",
            "\n",
            "8번째 줄입니다. \n",
            "\n",
            "9번째 줄입니다. \n",
            "\n",
            "10번째 줄입니다. \n",
            "\n"
          ]
        }
      ]
    },
    {
      "cell_type": "markdown",
      "source": [
        "* 위 예에서 lines는 리스트 `[\"1번째 줄입니다.\\n\", \"2번째 줄입니다.\\n\", ..., \"10번째 줄입니다.\\n\"]`가 된다."
      ],
      "metadata": {
        "id": "VbjYVMvAJnra"
      }
    },
    {
      "cell_type": "markdown",
      "source": [
        "# read 함수 사용하기\n",
        "* read()는 파일의 전체 내용을 문자열로 반환한다."
      ],
      "metadata": {
        "id": "xxfIcgaOqhIU"
      }
    },
    {
      "cell_type": "code",
      "source": [
        "f = open(\"새파일.txt\", 'r')\n",
        "data = f.read()\n",
        "print(data)\n",
        "\n",
        "f.close();"
      ],
      "metadata": {
        "colab": {
          "base_uri": "https://localhost:8080/"
        },
        "id": "1o5qe-03qtLk",
        "outputId": "094d9aad-fb03-46f8-bc50-bb3ce4a3197c"
      },
      "execution_count": null,
      "outputs": [
        {
          "output_type": "stream",
          "name": "stdout",
          "text": [
            "1번째 줄입니다. \n",
            "2번째 줄입니다. \n",
            "3번째 줄입니다. \n",
            "4번째 줄입니다. \n",
            "5번째 줄입니다. \n",
            "6번째 줄입니다. \n",
            "7번째 줄입니다. \n",
            "8번째 줄입니다. \n",
            "9번째 줄입니다. \n",
            "10번째 줄입니다. \n",
            "\n"
          ]
        }
      ]
    },
    {
      "cell_type": "markdown",
      "source": [
        "# 파일 객체를 for 문과 함께 사용한다.\n",
        "* 파일 객체 자체를 for문에 넣으면 자동으로 한 줄씩 읽는다."
      ],
      "metadata": {
        "id": "1H1rczaDqpE8"
      }
    },
    {
      "cell_type": "code",
      "source": [
        "f = open(\"새파일.txt\", 'r')\n",
        "for line in f:\n",
        "  print(line)\n",
        "f.close()"
      ],
      "metadata": {
        "colab": {
          "base_uri": "https://localhost:8080/"
        },
        "id": "3CiscREKq9os",
        "outputId": "f24c6c62-4793-4b45-fc11-7a7225f87198"
      },
      "execution_count": null,
      "outputs": [
        {
          "output_type": "stream",
          "name": "stdout",
          "text": [
            "1번째 줄입니다. \n",
            "\n",
            "2번째 줄입니다. \n",
            "\n",
            "3번째 줄입니다. \n",
            "\n",
            "4번째 줄입니다. \n",
            "\n",
            "5번째 줄입니다. \n",
            "\n",
            "6번째 줄입니다. \n",
            "\n",
            "7번째 줄입니다. \n",
            "\n",
            "8번째 줄입니다. \n",
            "\n",
            "9번째 줄입니다. \n",
            "\n",
            "10번째 줄입니다. \n",
            "\n"
          ]
        }
      ]
    },
    {
      "cell_type": "markdown",
      "source": [
        "# 파일에 새로운 내용 추가하기\n",
        "* `'a'` 모드로 열면 기존 내용 뒤에 추가된다."
      ],
      "metadata": {
        "id": "h8q411lsrDC0"
      }
    },
    {
      "cell_type": "code",
      "source": [
        "f = open(\"새파일.txt\", 'a')\n",
        "\n",
        "for i in range(11, 20):\n",
        "  data = f\"{i}번째 줄입니다. \\n\"\n",
        "  f.write(data)\n",
        "\n",
        "f.close()"
      ],
      "metadata": {
        "id": "pUecQapJrHl0"
      },
      "execution_count": null,
      "outputs": []
    },
    {
      "cell_type": "markdown",
      "source": [
        "* 쓰기 모드(`'w'`)로 파일을 열 때 이미 존재하는 파일을 열면 그 파일의 내용이 모두 사라지게 된다.\n",
        "* 원래 있던 값을 유지하면서 새로운 값을 추가 하기 위해선 추가 모드(`'a'`)로 열면 된다."
      ],
      "metadata": {
        "id": "dz9uu7--rU4k"
      }
    },
    {
      "cell_type": "markdown",
      "source": [
        "# with 문과 함께 사용하기\n",
        "* with open()을 사용하면 close()를 따로 호출하지 않아도 된다."
      ],
      "metadata": {
        "id": "VZ-XNuj3rXYc"
      }
    },
    {
      "cell_type": "code",
      "source": [
        "with open(\"foo.txt\", 'w') as f:\n",
        "  f.write(\"Life is too short, you need python\")"
      ],
      "metadata": {
        "id": "nx1DI0v_rm9V"
      },
      "execution_count": null,
      "outputs": []
    },
    {
      "cell_type": "markdown",
      "source": [
        "위와 같이 with 문을 사용하면 with 블록(with 문에 속해 있는 문장)을 벗어나는 순간, 열린 파일 객체 f가 자동으로 닫힌다."
      ],
      "metadata": {
        "id": "fzjylMFgKoBT"
      }
    },
    {
      "cell_type": "markdown",
      "source": [
        "# 클래스(Class)\n",
        "* 관련 있는 변수(데이터)와 함수(기능)를 하나로 묶은 것\n",
        "* \"비슷한 데이터 + 기능\"을 묶어서, 프로그램을 더 체계적이고 깔끔하게 만드는 도구\n"
      ],
      "metadata": {
        "id": "TvQyrDuc_nBI"
      }
    },
    {
      "cell_type": "markdown",
      "source": [
        "# 클래스는 왜 필요한가?\n",
        "프로그램이 커지거나 복잡해지면, 데이터 관리가 힘들고 오류가 발생하기 쉬움.  \n",
        "클래스를  사용하면 서로 독립적인 객체를 만들 수 있고, 깔끔하고 유지보수하기 쉬운 프로그램을 만들 수 있음"
      ],
      "metadata": {
        "id": "kiOIdQMU_0Xo"
      }
    },
    {
      "cell_type": "markdown",
      "source": [
        "# 계산기 프로그램을 만들며 클래스 알아보기\n",
        "* 전역변수(result)를 사용해서 결괏값을 유지하는 방식"
      ],
      "metadata": {
        "id": "nwqezu9qAAyI"
      }
    },
    {
      "cell_type": "code",
      "source": [
        "result = 0\n",
        "\n",
        "def add(num):\n",
        "  global result\n",
        "  result += num\n",
        "  return result\n",
        "\n",
        "print(add(3))\n",
        "print(add(4))"
      ],
      "metadata": {
        "colab": {
          "base_uri": "https://localhost:8080/"
        },
        "id": "FL4kwVcuAJY4",
        "outputId": "c34e17bf-3ebd-4090-acee-24b9420025e8"
      },
      "execution_count": 22,
      "outputs": [
        {
          "output_type": "stream",
          "name": "stdout",
          "text": [
            "3\n",
            "7\n"
          ]
        }
      ]
    },
    {
      "cell_type": "markdown",
      "source": [
        "* 계산기가 2대 이상 필요한 경우, 함수를 여러 개 만들어야 하는 단점이 있다."
      ],
      "metadata": {
        "id": "mmfWWe0xAVhQ"
      }
    },
    {
      "cell_type": "code",
      "source": [
        "result1 = 0\n",
        "result2 = 0\n",
        "\n",
        "def add1(num):\n",
        "  global result1\n",
        "  result1 += num\n",
        "  return result1\n",
        "\n",
        "def add2(num):\n",
        "  global result2\n",
        "  result1 += num\n",
        "  return result2\n",
        "\n",
        "print(add1(3))\n",
        "print(add1(4))\n",
        "print(add2(3))\n",
        "print(add2(7))"
      ],
      "metadata": {
        "id": "EJFcGOijAbOQ"
      },
      "execution_count": null,
      "outputs": []
    },
    {
      "cell_type": "markdown",
      "source": [
        "* 똑같은 일을 하는 add1과 add2 함수를 만들고 각 함수에서 계산한 결괏값을 유지하면서 저장하는 전역 변수 result1과 result2를 정의했다.\n",
        "\n",
        "* 계산기 1의 결괏값이 계산기 2에 아무런 영향을 끼치지 않는다는 것을 확인할 수 있다"
      ],
      "metadata": {
        "id": "ijPAtVWZLQ5z"
      }
    },
    {
      "cell_type": "markdown",
      "source": [
        "# 클래스와 객체\n",
        "* 클래스를 사용하면 객체별로 독립적인 값을 유지할 수 있다."
      ],
      "metadata": {
        "id": "q6w4c3ThApmJ"
      }
    },
    {
      "cell_type": "code",
      "source": [
        "class Calculator:\n",
        "  def __init__(self):\n",
        "    self.result = 0\n",
        "\n",
        "  def add(self, num):\n",
        "    self.result += num\n",
        "    return self.result\n",
        "\n",
        "\n",
        "car1 = Calculator()\n",
        "car2 = Calculator()\n",
        "\n",
        "\n",
        "print(car1.add(3))\n",
        "print(car1.add(4))\n",
        "print(car2.add(3))\n",
        "print(car2.add(7))"
      ],
      "metadata": {
        "colab": {
          "base_uri": "https://localhost:8080/"
        },
        "id": "Gu5eA-UUAuxY",
        "outputId": "24c21b0b-3513-456d-d105-633ba33c94ea"
      },
      "execution_count": 25,
      "outputs": [
        {
          "output_type": "stream",
          "name": "stdout",
          "text": [
            "3\n",
            "7\n",
            "3\n",
            "10\n"
          ]
        }
      ]
    },
    {
      "cell_type": "markdown",
      "source": [
        "* 클래스를 사용하지 않았을때는 계산기 대수가 늘어 남에 따라 함수의 수도 늘어나 코드가 길어졌지만, 객체로만들어 각각의 독립적인 값을 가진 계산기들을 만들 수 있다."
      ],
      "metadata": {
        "id": "bt69oyZ2LzsL"
      }
    },
    {
      "cell_type": "markdown",
      "source": [
        "#  사칙 연산 클래스 만들기"
      ],
      "metadata": {
        "id": "-D_vMlGaBe3Y"
      }
    },
    {
      "cell_type": "code",
      "source": [
        "class FourCal:\n",
        "  # 에러 발생을 줄이기 위해, 매개변수를 사전 초기화 해놓는 경우가 많음.\n",
        "  def __init__(self, first = 0, second = 1):\n",
        "    self.first = first\n",
        "    self.second = second\n",
        "  # def setdata(self, first, second):\n",
        "\n",
        "\n",
        "  def add(self):\n",
        "    return self.first + self.second\n",
        "\n",
        "  def mul(self):\n",
        "    return self.first * self.second\n",
        "\n",
        "  def sub(self):\n",
        "    return self.first - self.second\n",
        "\n",
        "  def div(self):\n",
        "    return self.first / self.second\n",
        "\n",
        "a = FourCal(10, 5)\n",
        "\n",
        "# a.setdata(4, 2)\n",
        "\n",
        "print(a.add())\n",
        "print(a.mul())\n",
        "print(a.sub())\n",
        "print(a.div())"
      ],
      "metadata": {
        "colab": {
          "base_uri": "https://localhost:8080/"
        },
        "id": "PC6YEWc4Bp_h",
        "outputId": "b90064a8-5b68-4469-d9e2-28f974630239"
      },
      "execution_count": 30,
      "outputs": [
        {
          "output_type": "stream",
          "name": "stdout",
          "text": [
            "15\n",
            "50\n",
            "5\n",
            "2.0\n"
          ]
        }
      ]
    },
    {
      "cell_type": "markdown",
      "source": [
        "* `def__init__()`은 있어도 되고 없어도 됨. 있으면 무조건 실행됨.\n",
        "* 함수 규칙을 똑같이 따름. 미리 초기화 가능"
      ],
      "metadata": {
        "id": "RsR88pV8CYUh"
      }
    },
    {
      "cell_type": "markdown",
      "source": [
        "# 생성자\n",
        "* `__init__` 메서드를 생성자(Constructor)라고 부른다.\n",
        "* 객체가 생성될때 자동 호출된다."
      ],
      "metadata": {
        "id": "5VDL0MZyDdWS"
      }
    },
    {
      "cell_type": "code",
      "source": [
        "class FourCal:\n",
        "  def __init__(self, first, second):\n",
        "    self.first = first\n",
        "    self.second = second\n",
        "    print(\"객체 생성!\")\n",
        "\n",
        "  def add(self):\n",
        "    return self.first + self.second\n",
        "\n",
        "a = FourCal(4, 2)"
      ],
      "metadata": {
        "colab": {
          "base_uri": "https://localhost:8080/"
        },
        "id": "f8jsUtheDnKg",
        "outputId": "47acf173-8520-446d-aff0-868308ae9ee4"
      },
      "execution_count": 35,
      "outputs": [
        {
          "output_type": "stream",
          "name": "stdout",
          "text": [
            "객체 생성!\n",
            "<__main__.FourCal object at 0x7d9982223350>\n"
          ]
        }
      ]
    },
    {
      "cell_type": "markdown",
      "source": [
        "* 객체가 생성되는 단계에서 자동으로 실행된다."
      ],
      "metadata": {
        "id": "TTWOkkoJD8SR"
      }
    },
    {
      "cell_type": "markdown",
      "source": [
        "# 클래스의 상속\n",
        "* 상속받으면 기존 클래스(FourCal)의 기능을 그대로 사용할 수 있다."
      ],
      "metadata": {
        "id": "JINSRyeiEGxY"
      }
    },
    {
      "cell_type": "code",
      "source": [
        "class MoreFourCal(FourCal):\n",
        "  def pow(self):\n",
        "    return self.first ** self.second\n",
        "\n",
        "b = MoreFourCal(4, 2)\n",
        "print(b.pow())\n",
        "print(b.add())"
      ],
      "metadata": {
        "colab": {
          "base_uri": "https://localhost:8080/"
        },
        "id": "hv6jIcEwETPR",
        "outputId": "fcc3a74c-9649-4ec0-a67f-ef0df366da67"
      },
      "execution_count": 36,
      "outputs": [
        {
          "output_type": "stream",
          "name": "stdout",
          "text": [
            "객체 생성!\n",
            "16\n",
            "6\n"
          ]
        }
      ]
    },
    {
      "cell_type": "markdown",
      "source": [
        "# 메서드 오버라이딩\n",
        "* 상속한 후 메서드를 재정의하면 오버라이딩(overriding)이라고 한다.\n"
      ],
      "metadata": {
        "id": "fp3Cdh46FWVB"
      }
    },
    {
      "cell_type": "code",
      "source": [
        "class SafeFourCal(FourCal):\n",
        "  def div(self):\n",
        "    if self.second == 0:\n",
        "      return 0\n",
        "    else:\n",
        "      return self.first / self.second\n",
        "\n",
        "c = SafeFourCal(4, 0)\n",
        "print(c.div())\n",
        "\n",
        "d = FourCal(4, 0)ㅇ\n",
        "print(d.div())"
      ],
      "metadata": {
        "colab": {
          "base_uri": "https://localhost:8080/",
          "height": 238
        },
        "id": "xUsT1cepFgfx",
        "outputId": "3a3e5ac7-6d13-455c-e620-4fa9fd4adf4b"
      },
      "execution_count": 39,
      "outputs": [
        {
          "output_type": "stream",
          "name": "stdout",
          "text": [
            "객체 생성!\n",
            "0\n",
            "객체 생성!\n"
          ]
        },
        {
          "output_type": "error",
          "ename": "AttributeError",
          "evalue": "'FourCal' object has no attribute 'div'",
          "traceback": [
            "\u001b[0;31m---------------------------------------------------------------------------\u001b[0m",
            "\u001b[0;31mAttributeError\u001b[0m                            Traceback (most recent call last)",
            "\u001b[0;32m<ipython-input-39-b65bb0788341>\u001b[0m in \u001b[0;36m<cell line: 0>\u001b[0;34m()\u001b[0m\n\u001b[1;32m     10\u001b[0m \u001b[0;34m\u001b[0m\u001b[0m\n\u001b[1;32m     11\u001b[0m \u001b[0md\u001b[0m \u001b[0;34m=\u001b[0m \u001b[0mFourCal\u001b[0m\u001b[0;34m(\u001b[0m\u001b[0;36m4\u001b[0m\u001b[0;34m,\u001b[0m \u001b[0;36m0\u001b[0m\u001b[0;34m)\u001b[0m\u001b[0;34m\u001b[0m\u001b[0;34m\u001b[0m\u001b[0m\n\u001b[0;32m---> 12\u001b[0;31m \u001b[0mprint\u001b[0m\u001b[0;34m(\u001b[0m\u001b[0md\u001b[0m\u001b[0;34m.\u001b[0m\u001b[0mdiv\u001b[0m\u001b[0;34m(\u001b[0m\u001b[0;34m)\u001b[0m\u001b[0;34m)\u001b[0m\u001b[0;34m\u001b[0m\u001b[0;34m\u001b[0m\u001b[0m\n\u001b[0m",
            "\u001b[0;31mAttributeError\u001b[0m: 'FourCal' object has no attribute 'div'"
          ]
        }
      ]
    }
  ]
}
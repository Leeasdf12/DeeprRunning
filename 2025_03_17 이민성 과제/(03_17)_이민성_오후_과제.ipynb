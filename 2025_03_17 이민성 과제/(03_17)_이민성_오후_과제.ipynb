{
  "nbformat": 4,
  "nbformat_minor": 0,
  "metadata": {
    "colab": {
      "provenance": []
    },
    "kernelspec": {
      "name": "python3",
      "display_name": "Python 3"
    },
    "language_info": {
      "name": "python"
    }
  },
  "cells": [
    {
      "cell_type": "code",
      "execution_count": null,
      "metadata": {
        "id": "-BNjY2tqR1MT"
      },
      "outputs": [],
      "source": []
    },
    {
      "cell_type": "markdown",
      "source": [
        "# > 제곱 문제\n",
        "사용자에게 입력받은 수의 제곱을 계산하여 출력하는 코드를 작성하시오\n",
        "\n",
        "*   a=3, 결과 -> 9 출력\n",
        "*   b=5, 결과 -> 25 출력\n",
        "\n"
      ],
      "metadata": {
        "id": "V9WKV3jyStTK"
      }
    },
    {
      "cell_type": "code",
      "source": [
        "a = int(input(\"a의 숫자를 입력하세요: \"))\n",
        "print(\"a의 제곱은 %d 입니다\" %(a ** 2))\n",
        "\n",
        "b = int(input(\"b의 숫자를 입력하세요: \"))\n",
        "print(\"b의 제곱은 %d 입니다\" %(b ** 2))"
      ],
      "metadata": {
        "colab": {
          "base_uri": "https://localhost:8080/"
        },
        "id": "jOsysWIQTtoB",
        "outputId": "452c87a7-0835-46cd-d088-f1e29df7c1b3"
      },
      "execution_count": 20,
      "outputs": [
        {
          "output_type": "stream",
          "name": "stdout",
          "text": [
            "a의 숫자를 입력하세요: 3\n",
            "a의 제곱은 9 입니다\n",
            "b의 숫자를 입력하세요: 5\n",
            "b의 제곱은 25 입니다\n"
          ]
        }
      ]
    },
    {
      "cell_type": "markdown",
      "source": [
        "# > 문자열 인덱싱 문제\n",
        "문자열 인덱싱 또는 슬라이싱을 사용하여 년 월일 날씨를 출력하시오.\n",
        "\n",
        "*   text = '20230601sunnyy'\n",
        "*   year = '2023'\n",
        "*   day = '01'\n",
        "*   weather = 'sunny'"
      ],
      "metadata": {
        "id": "AdhObAJwSc4Z"
      }
    },
    {
      "cell_type": "code",
      "source": [
        "text = '20230601sunny'\n",
        "year = text[:4]\n",
        "day = text[4:8]\n",
        "weather = text[8:]\n",
        "\n",
        "print(\"text = %s\"% text)\n",
        "print(\"year = %s\"% year)\n",
        "print(\"day = %s\"% day)\n",
        "print(\"weather = %s\"% weather)"
      ],
      "metadata": {
        "colab": {
          "base_uri": "https://localhost:8080/"
        },
        "id": "hpctkNd5U09y",
        "outputId": "4f1037ca-ab32-442e-ed67-7a2cb0b29ac3"
      },
      "execution_count": 21,
      "outputs": [
        {
          "output_type": "stream",
          "name": "stdout",
          "text": [
            "text = 20230601sunny\n",
            "year = 2023\n",
            "day = 0601\n",
            "weather = sunny\n"
          ]
        }
      ]
    },
    {
      "cell_type": "markdown",
      "source": [
        "# > 전화번호 형식 바꾸기 문제\n",
        "010-1234-5678의 형식으로 저장된 전화번호를 '-'을 제거해 01012345678의 형식으로 바꿔보시오.\n",
        "\n",
        "*   문자열 내장 함수를 사용하면 해결할 수 있습니다.\n",
        "*   문자열 슬라이싱을 이용해도 상관없습니다.\n",
        "\n"
      ],
      "metadata": {
        "id": "m66DIXzPSoJx"
      }
    },
    {
      "cell_type": "code",
      "source": [
        "num = '010-1234-5678'\n",
        "\n",
        "result = num.replace(\"-\",\"\")\n",
        "print(result)"
      ],
      "metadata": {
        "colab": {
          "base_uri": "https://localhost:8080/"
        },
        "id": "2kTW-U2SWZC6",
        "outputId": "662b875a-3ef2-4a30-cf97-a6f1571802f1"
      },
      "execution_count": 18,
      "outputs": [
        {
          "output_type": "stream",
          "name": "stdout",
          "text": [
            "01012345678\n"
          ]
        }
      ]
    },
    {
      "cell_type": "markdown",
      "source": [
        "# > 제목글 변환 문제\n",
        "사용자에게 영어로된 문자열을 입력받고, 첫 문자만 대문자로 변경하시오.\n",
        "입력 : i am a boy\n",
        "출력 : I am a boy"
      ],
      "metadata": {
        "id": "u0M1FJS_Tc5K"
      }
    },
    {
      "cell_type": "code",
      "source": [
        "str = input(\"문자열 입력 : \")\n",
        "print(\"변경된 문자열 : %s\" % str.capitalize())"
      ],
      "metadata": {
        "colab": {
          "base_uri": "https://localhost:8080/"
        },
        "id": "My_FS286W87S",
        "outputId": "b7686426-7ed2-4dac-ccbd-61cf0cda80d2"
      },
      "execution_count": 24,
      "outputs": [
        {
          "output_type": "stream",
          "name": "stdout",
          "text": [
            "문자열 입력 : i am a boy\n",
            "변경된 문자열 : I am a boy\n"
          ]
        }
      ]
    },
    {
      "cell_type": "markdown",
      "source": [
        "# > 문자열 분할 문제(split)\n",
        "\n",
        "카카오톡의 대화 정보는 다음과 같이 저장된다.\n",
        "\"2023년 1월 2일 오후 9:52, 유연휘 : 일단\"\n",
        "위 문장을, 날짜, 시간, 이름, 내용별로 분할해보자.\n"
      ],
      "metadata": {
        "id": "0MC-4IY1ToyZ"
      }
    },
    {
      "cell_type": "code",
      "source": [
        "kakaotalk = \"2023년 1월 2일 오후 9:52, 유연휘 : 일단\"\n",
        "\n",
        "kakaotalk = kakaotalk.replace(\",\",\"\")\n",
        "kt = kakaotalk.split()\n",
        "\n",
        "print(\"년 = %s\" % kt[0])\n",
        "print(\"월 = %s\" % kt[1])\n",
        "print(\"일 = %s\" % kt[2])\n",
        "print(\"시간 = %s\" % kt[3:5])\n",
        "print(\"이름 = %s\" % kt[5])\n",
        "print(\"내용 = %s\" % kt[7])"
      ],
      "metadata": {
        "colab": {
          "base_uri": "https://localhost:8080/"
        },
        "id": "PiSnG6vBYV0a",
        "outputId": "9cbf5c3b-6a07-4edf-d285-9f132465fb6f"
      },
      "execution_count": 40,
      "outputs": [
        {
          "output_type": "stream",
          "name": "stdout",
          "text": [
            "년 = 2023년\n",
            "월 = 1월\n",
            "일 = 2일\n",
            "시간 = ['오후', '9:52']\n",
            "이름 = 유연휘\n",
            "내용 = 일단\n"
          ]
        }
      ]
    }
  ]
}
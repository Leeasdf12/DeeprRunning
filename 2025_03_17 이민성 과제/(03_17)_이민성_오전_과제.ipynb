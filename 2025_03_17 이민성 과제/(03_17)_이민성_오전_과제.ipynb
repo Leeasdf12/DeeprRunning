{
  "nbformat": 4,
  "nbformat_minor": 0,
  "metadata": {
    "colab": {
      "provenance": []
    },
    "kernelspec": {
      "name": "python3",
      "display_name": "Python 3"
    },
    "language_info": {
      "name": "python"
    }
  },
  "cells": [
    {
      "cell_type": "markdown",
      "source": [
        "# 변수\n",
        "\n",
        "값을 저장하는 공간\n"
      ],
      "metadata": {
        "id": "iPfdqR2z3cQw"
      }
    },
    {
      "cell_type": "markdown",
      "source": [
        "\n",
        "# *숫자형*\n",
        "*  '='는 변수에 대입"
      ],
      "metadata": {
        "id": "vR-2MI9Fc3XT"
      }
    },
    {
      "cell_type": "code",
      "source": [
        "#정수형\n",
        "a = 123\n",
        "\n",
        "#실수형\n",
        "a = 1.2\n",
        "\n",
        "#8진수\n",
        "a = 0o177\n",
        "\n",
        "#16진수\n",
        "a = 0x8ff"
      ],
      "metadata": {
        "id": "kN5eH2bhdL6K"
      },
      "execution_count": 7,
      "outputs": []
    },
    {
      "cell_type": "markdown",
      "source": [
        " * 정수, 실수, 8진수와 16진수로 나뉨\n",
        "\n"
      ],
      "metadata": {
        "id": "54sKSFXDdi-a"
      }
    },
    {
      "cell_type": "code",
      "source": [
        "a = 3\n",
        "b = 4\n",
        "print(a + b)\n",
        "print(a - b)\n",
        "print(a * b)\n",
        "print(a / b)\n",
        "print(a ** b)\n",
        "print(a % b)\n",
        "print(a // b)"
      ],
      "metadata": {
        "colab": {
          "base_uri": "https://localhost:8080/"
        },
        "id": "xGsMNxaldtWS",
        "outputId": "d60c527b-375a-4449-f208-5c2aa007ff86"
      },
      "execution_count": 8,
      "outputs": [
        {
          "output_type": "stream",
          "name": "stdout",
          "text": [
            "7\n",
            "-1\n",
            "12\n",
            "0.75\n",
            "81\n",
            "3\n",
            "0\n"
          ]
        }
      ]
    },
    {
      "cell_type": "markdown",
      "source": [
        "*  사칙 연산(+, -, *, /)\n",
        "* 제곱 (**), 나눗셈(%), 나눗셈 후 몫 리턴 (//) 등이 있음\n",
        "* 복합연산자(+=, -=, *=, /=, //=, %=, **=)도 있음\n",
        "\n"
      ],
      "metadata": {
        "id": "jCAdMq-Yd64y"
      }
    },
    {
      "cell_type": "markdown",
      "source": [
        "# *문자열*"
      ],
      "metadata": {
        "id": "dCjVjVbic6aK"
      }
    },
    {
      "cell_type": "code",
      "source": [
        "\"Hello World\"\n",
        "'Python is fun'\n",
        "\"\"\"Life is too short, You need python\"\"\"\n",
        "'''Life is too short, You need python'''"
      ],
      "metadata": {
        "id": "7HMEy0V4ep1D"
      },
      "execution_count": null,
      "outputs": []
    },
    {
      "cell_type": "markdown",
      "source": [
        "*   (\"\", '', \"\"\",''') 로 문자열 생성"
      ],
      "metadata": {
        "id": "UQvHvTIAevci"
      }
    },
    {
      "cell_type": "code",
      "source": [
        "multiline = \"Life is too short\\nYou need python\"\n",
        "print(multiline)"
      ],
      "metadata": {
        "colab": {
          "base_uri": "https://localhost:8080/"
        },
        "id": "wGl1YV83ewiS",
        "outputId": "f5250a5e-ca7e-4636-b699-c837736d4060"
      },
      "execution_count": 10,
      "outputs": [
        {
          "output_type": "stream",
          "name": "stdout",
          "text": [
            "Life is too short\n",
            "You need python\n"
          ]
        }
      ]
    },
    {
      "cell_type": "markdown",
      "source": [
        "\n",
        "*   이스케이프 코드 (\\n, \\t, \\\\, \\', \\\") 사용하여 보기 좋게 출력 가능"
      ],
      "metadata": {
        "id": "gTKBTUvhfCiq"
      }
    },
    {
      "cell_type": "code",
      "source": [
        "head = \"Python\"\n",
        "tail = \" is fun!\"\n",
        "print(head + tail)"
      ],
      "metadata": {
        "colab": {
          "base_uri": "https://localhost:8080/"
        },
        "id": "0gWu4hAOfJQM",
        "outputId": "40c2c60c-d5f3-4672-950e-cf50dd97cd2d"
      },
      "execution_count": 11,
      "outputs": [
        {
          "output_type": "stream",
          "name": "stdout",
          "text": [
            "Python is fun!\n"
          ]
        }
      ]
    },
    {
      "cell_type": "markdown",
      "source": [
        "*   변수에 저장한 문자열 (+)로 더하기 가능"
      ],
      "metadata": {
        "id": "xYaT8l2BfR66"
      }
    },
    {
      "cell_type": "code",
      "source": [
        "a = \"python\"\n",
        "a * 2\n",
        "print(a)"
      ],
      "metadata": {
        "id": "Xgv-CUicfSk6"
      },
      "execution_count": null,
      "outputs": []
    },
    {
      "cell_type": "markdown",
      "source": [
        "*   변수에 저장한 문자열 (*)로 곱하기 가능"
      ],
      "metadata": {
        "id": "O55sl0sufXny"
      }
    },
    {
      "cell_type": "code",
      "source": [
        "a = \"Life is too short\"\n",
        "len(a)"
      ],
      "metadata": {
        "colab": {
          "base_uri": "https://localhost:8080/"
        },
        "id": "9v9wMOr_fbF6",
        "outputId": "c747045c-fb37-40f8-c387-469cc54eec9e"
      },
      "execution_count": 12,
      "outputs": [
        {
          "output_type": "execute_result",
          "data": {
            "text/plain": [
              "17"
            ]
          },
          "metadata": {},
          "execution_count": 12
        }
      ]
    },
    {
      "cell_type": "markdown",
      "source": [
        "* 문자열 길이(len) 추출"
      ],
      "metadata": {
        "id": "ZlJGvrEyfr3q"
      }
    },
    {
      "cell_type": "code",
      "source": [
        "a = \"Life is too short, You need Python\"\n",
        "print(a[0])\n",
        "print(a[12])\n",
        "print(a[-1])"
      ],
      "metadata": {
        "colab": {
          "base_uri": "https://localhost:8080/"
        },
        "id": "9_OmpjwHfsPC",
        "outputId": "d930e1b7-11cf-4b44-8af3-c1605505d244"
      },
      "execution_count": 13,
      "outputs": [
        {
          "output_type": "stream",
          "name": "stdout",
          "text": [
            "L\n",
            "s\n",
            "n\n"
          ]
        }
      ]
    },
    {
      "cell_type": "markdown",
      "source": [
        "*   문자열 인덱싱같은 경우 공백을 포함한 배열로 생각하면 된다 파이썬의 경우 (-)로 역순 가능"
      ],
      "metadata": {
        "id": "AduCqHtEf5ly"
      }
    },
    {
      "cell_type": "code",
      "source": [
        "a = \"Life is too short, You need Python\"\n",
        "print(a[0:4])\n",
        "print(a[:17])"
      ],
      "metadata": {
        "colab": {
          "base_uri": "https://localhost:8080/"
        },
        "id": "S9D4N4Mtf-_y",
        "outputId": "b529c310-c194-4524-f501-b15926ab58d2"
      },
      "execution_count": 15,
      "outputs": [
        {
          "output_type": "stream",
          "name": "stdout",
          "text": [
            "Life\n",
            "Life is too short\n"
          ]
        }
      ]
    },
    {
      "cell_type": "markdown",
      "source": [
        "*   슬라이싱\n",
        "  1.   0부터 표현하고 싶은 문자 위치+1로 가능 (a[0:5])\n",
        "  2.   공백을 줄 경우 처음 or 마지막 까지 ([:5])"
      ],
      "metadata": {
        "id": "uWJSrH4QgLoL"
      }
    },
    {
      "cell_type": "markdown",
      "source": [
        "\n",
        "# *포매팅*"
      ],
      "metadata": {
        "id": "kJRYzqMFc9Za"
      }
    },
    {
      "cell_type": "code",
      "source": [
        "#숫자 바로 대입\n",
        "print(\"I eat %d apples.\" % 3)\n",
        "\n",
        "#문자열 바로 대입\n",
        "print(\"I eat %s apples.\" % \"five\")\n",
        "\n",
        "#숫자 변수로 대입\n",
        "number = 3\n",
        "print(\"I eat %d apples.\" % number)"
      ],
      "metadata": {
        "colab": {
          "base_uri": "https://localhost:8080/"
        },
        "id": "rM1oOpiIvR_m",
        "outputId": "baf1607c-a602-4b46-f6eb-59da21229513"
      },
      "execution_count": 18,
      "outputs": [
        {
          "output_type": "stream",
          "name": "stdout",
          "text": [
            "I eat 3 apples.\n",
            "I eat five apples.\n",
            "I eat 3 apples.\n"
          ]
        }
      ]
    },
    {
      "cell_type": "markdown",
      "source": [
        "*  문자열(%s), 문자(%c), 정수(%d), 부동소수(%f), 8진수(%o), 16진수(%x)\n",
        "   문자 % 자체출력(%%)\n",
        "*  실사용에선 %s로 만능 사용 가능"
      ],
      "metadata": {
        "id": "0UJBs518hWBT"
      }
    },
    {
      "cell_type": "code",
      "source": [
        "\"%0.4f\" % 3.42134234"
      ],
      "metadata": {
        "colab": {
          "base_uri": "https://localhost:8080/",
          "height": 35
        },
        "id": "bAtYON7RhcqT",
        "outputId": "b5662c1b-78b6-4f08-d90d-9c8e501fc2fd"
      },
      "execution_count": 19,
      "outputs": [
        {
          "output_type": "execute_result",
          "data": {
            "text/plain": [
              "'3.4213'"
            ],
            "application/vnd.google.colaboratory.intrinsic+json": {
              "type": "string"
            }
          },
          "metadata": {},
          "execution_count": 19
        }
      ]
    },
    {
      "cell_type": "markdown",
      "source": [
        "*  소수점 자릿수 표현방식 (0.4)는 소숫점 네번째 자리까지라는 의미"
      ],
      "metadata": {
        "id": "qVeDo5JiheFK"
      }
    },
    {
      "cell_type": "code",
      "source": [
        "\"I eat {0} apples\".format(3)"
      ],
      "metadata": {
        "colab": {
          "base_uri": "https://localhost:8080/",
          "height": 35
        },
        "id": "NTD6kYxzhqNS",
        "outputId": "f642e44b-2be4-416e-dc2d-90ad933bc261"
      },
      "execution_count": 20,
      "outputs": [
        {
          "output_type": "execute_result",
          "data": {
            "text/plain": [
              "'I eat 3 apples'"
            ],
            "application/vnd.google.colaboratory.intrinsic+json": {
              "type": "string"
            }
          },
          "metadata": {},
          "execution_count": 20
        }
      ]
    },
    {
      "cell_type": "markdown",
      "source": [
        "*  format 함수로도 포매팅 가능"
      ],
      "metadata": {
        "id": "U3hy2Lqmh2H7"
      }
    },
    {
      "cell_type": "code",
      "source": [
        "#왼쪽 정렬\n",
        "print(\"{0:<10}\".format(\"hi\"))\n",
        "#오른쪽 정렬\n",
        "print(\"{0:>10}\".format(\"hi\"))\n",
        "#가운 정렬\n",
        "print(\"{0:^10}\".format(\"hi\"))"
      ],
      "metadata": {
        "colab": {
          "base_uri": "https://localhost:8080/"
        },
        "id": "Ya8bqGt7iMXT",
        "outputId": "b507d4c8-4fc1-4ce2-820c-441235332b45"
      },
      "execution_count": 21,
      "outputs": [
        {
          "output_type": "stream",
          "name": "stdout",
          "text": [
            "hi        \n",
            "        hi\n",
            "    hi    \n"
          ]
        }
      ]
    },
    {
      "cell_type": "markdown",
      "source": [
        "* 출력시 줄맞출때 용이한 정렬"
      ],
      "metadata": {
        "id": "sMeBugZqiehz"
      }
    },
    {
      "cell_type": "code",
      "source": [
        "#!로 공백 채우기\n",
        "print(\"{0:!<20}\".format('안녕'))"
      ],
      "metadata": {
        "id": "uvtnueNCx1GP",
        "colab": {
          "base_uri": "https://localhost:8080/"
        },
        "outputId": "2f09f2bc-6563-4432-bf57-858e7df50a4e"
      },
      "execution_count": 23,
      "outputs": [
        {
          "output_type": "stream",
          "name": "stdout",
          "text": [
            "안녕!!!!!!!!!!!!!!!!!!\n"
          ]
        }
      ]
    },
    {
      "cell_type": "markdown",
      "source": [
        "*  특정 문자로 공백 채우기 가능"
      ],
      "metadata": {
        "id": "Pan-GqgCi4rz"
      }
    },
    {
      "cell_type": "code",
      "source": [
        "name = '홍길동'\n",
        "age = 30\n",
        "print(f\"나의 이름은 {name}입니다. 나이는 {age}입니다.\")"
      ],
      "metadata": {
        "colab": {
          "base_uri": "https://localhost:8080/"
        },
        "id": "IG3PLx-Nyda3",
        "outputId": "083a714a-7120-4ad3-a95b-d78fac5ffb40"
      },
      "execution_count": null,
      "outputs": [
        {
          "output_type": "stream",
          "name": "stdout",
          "text": [
            "나의 이름은 홍길동입니다. 나이는 30입니다.\n"
          ]
        }
      ]
    },
    {
      "cell_type": "markdown",
      "source": [
        "*   f 문자열 포매팅\n",
        "  1.   문자열 앞에 f를 붙혀 생성할 수 있다.\n",
        "  2.   위와 같이 변숫값을 바로 참조 할 수 있다."
      ],
      "metadata": {
        "id": "cwK1zejpjPEC"
      }
    },
    {
      "cell_type": "markdown",
      "source": [
        "# *문자열 관련 함수*"
      ],
      "metadata": {
        "id": "WqgKKCtEj7-D"
      }
    },
    {
      "cell_type": "code",
      "source": [
        "a = \"hobby\"\n",
        "a.count('b')"
      ],
      "metadata": {
        "colab": {
          "base_uri": "https://localhost:8080/"
        },
        "id": "GNBqaB9rkGj7",
        "outputId": "c80f5512-66db-492f-e499-725e6f19b1b9"
      },
      "execution_count": 24,
      "outputs": [
        {
          "output_type": "execute_result",
          "data": {
            "text/plain": [
              "2"
            ]
          },
          "metadata": {},
          "execution_count": 24
        }
      ]
    },
    {
      "cell_type": "markdown",
      "source": [
        "* 특정 문자의 개수를 셀 수 있다."
      ],
      "metadata": {
        "id": "2BJIbrnYkK3i"
      }
    },
    {
      "cell_type": "code",
      "source": [
        "a = \"Python is the best choice\"\n",
        "print(a.find('b'))\n",
        "print(a.find('k'))"
      ],
      "metadata": {
        "colab": {
          "base_uri": "https://localhost:8080/"
        },
        "id": "a0aqQbF1kQyj",
        "outputId": "b106521e-6445-4015-e91b-a4db2672e172"
      },
      "execution_count": 26,
      "outputs": [
        {
          "output_type": "stream",
          "name": "stdout",
          "text": [
            "14\n",
            "-1\n"
          ]
        }
      ]
    },
    {
      "cell_type": "markdown",
      "source": [
        "* 특정 문자의 위치를 알수 있고 존재하지 않으면 -1 반환. (index 방식은 오류를 발생시킴)"
      ],
      "metadata": {
        "id": "V8VwIdCRke8z"
      }
    },
    {
      "cell_type": "code",
      "source": [
        "\",\".join('abcd')"
      ],
      "metadata": {
        "colab": {
          "base_uri": "https://localhost:8080/",
          "height": 35
        },
        "id": "FhClFOhnkx5j",
        "outputId": "1f8162f6-9891-4100-9f24-552c81dcdcd0"
      },
      "execution_count": 27,
      "outputs": [
        {
          "output_type": "execute_result",
          "data": {
            "text/plain": [
              "'a,b,c,d'"
            ],
            "application/vnd.google.colaboratory.intrinsic+json": {
              "type": "string"
            }
          },
          "metadata": {},
          "execution_count": 27
        }
      ]
    },
    {
      "cell_type": "markdown",
      "source": [
        "* 문자 사이에 특정 문자를 넣을 수 있다."
      ],
      "metadata": {
        "id": "QV9WkJGdkzyj"
      }
    },
    {
      "cell_type": "code",
      "source": [
        "#소문자를 대문자로\n",
        "a = \"hi\"\n",
        "print(a)\n",
        "print(a.upper())\n",
        "print(\"\\n\")\n",
        "\n",
        "#대문자를 소문자로\n",
        "a = \"HI\"\n",
        "print(a)\n",
        "print(a.lower())\n",
        "print(\"\\n\")\n",
        "\n",
        "#왼쪽 공백 지우기\n",
        "a = \" hi \"\n",
        "print(a)\n",
        "print(a.lstrip())\n",
        "print(\"\\n\")\n",
        "\n",
        "#오른쪽 공백 지우기\n",
        "a = \" hi \"\n",
        "print(a)\n",
        "print(a.rstrip())\n",
        "print(\"\\n\")\n",
        "\n",
        "#양쪽 공백 지우기\n",
        "a = \" hi \"\n",
        "print(a)\n",
        "print(a.strip())\n",
        "print(\"\\n\")"
      ],
      "metadata": {
        "colab": {
          "base_uri": "https://localhost:8080/"
        },
        "id": "JvxwxiVNk567",
        "outputId": "d14ad21c-753b-4d3a-a2df-6176e26395a1"
      },
      "execution_count": 29,
      "outputs": [
        {
          "output_type": "stream",
          "name": "stdout",
          "text": [
            "hi\n",
            "HI\n",
            "\n",
            "\n",
            "HI\n",
            "hi\n",
            "\n",
            "\n",
            " hi \n",
            "hi \n",
            "\n",
            "\n",
            " hi \n",
            " hi\n",
            "\n",
            "\n",
            " hi \n",
            "hi\n",
            "\n",
            "\n"
          ]
        }
      ]
    },
    {
      "cell_type": "markdown",
      "source": [
        "* 상황에 맞게 유용하게 사용할 수 있는 함수들"
      ],
      "metadata": {
        "id": "OqvfkOaDmNJb"
      }
    },
    {
      "cell_type": "code",
      "source": [
        "#문자열 바꾸기\n",
        "a = \"Life is too short\"\n",
        "print(a)\n",
        "print(a.replace(\"Life\", \"Your leg\"))"
      ],
      "metadata": {
        "colab": {
          "base_uri": "https://localhost:8080/"
        },
        "id": "1ZioEGdqmGVL",
        "outputId": "59962a93-fe64-4501-e47c-14ef11c88b92"
      },
      "execution_count": 30,
      "outputs": [
        {
          "output_type": "stream",
          "name": "stdout",
          "text": [
            "Life is too short\n",
            "Your leg is too short\n"
          ]
        }
      ]
    },
    {
      "cell_type": "markdown",
      "source": [
        "* 특정 문자열을 바꿀 때 사용할 수 있다."
      ],
      "metadata": {
        "id": "BY9RY8LCmWqz"
      }
    },
    {
      "cell_type": "code",
      "source": [
        "a = \"Life is too short\"\n",
        "a.split()"
      ],
      "metadata": {
        "colab": {
          "base_uri": "https://localhost:8080/"
        },
        "id": "x8zB3nhDmlND",
        "outputId": "33961cba-35c4-4a0f-bf60-96ca400f5072"
      },
      "execution_count": 31,
      "outputs": [
        {
          "output_type": "execute_result",
          "data": {
            "text/plain": [
              "['Life', 'is', 'too', 'short']"
            ]
          },
          "metadata": {},
          "execution_count": 31
        }
      ]
    },
    {
      "cell_type": "markdown",
      "source": [
        "* 아무것도 넣지 않으면 공백을 기준으로 문자열을 나누어 준다"
      ],
      "metadata": {
        "id": "bUOhre6imt-z"
      }
    },
    {
      "cell_type": "code",
      "source": [
        "b = \"a:b:c:d\"\n",
        "b.split(':')"
      ],
      "metadata": {
        "colab": {
          "base_uri": "https://localhost:8080/"
        },
        "id": "1BpVqkZUmq5j",
        "outputId": "a81a760a-910e-40f9-a02a-61778d2c6cfc"
      },
      "execution_count": 32,
      "outputs": [
        {
          "output_type": "execute_result",
          "data": {
            "text/plain": [
              "['a', 'b', 'c', 'd']"
            ]
          },
          "metadata": {},
          "execution_count": 32
        }
      ]
    },
    {
      "cell_type": "markdown",
      "source": [
        "* (:)를 기준으로 문자열을 나누어 주었다."
      ],
      "metadata": {
        "id": "udZRGXbUmyiT"
      }
    },
    {
      "cell_type": "code",
      "source": [
        "a = input()\n",
        "\n",
        "print(\"입력한 내용 : %s\" % a)"
      ],
      "metadata": {
        "colab": {
          "base_uri": "https://localhost:8080/"
        },
        "id": "mqtp-I3Em42L",
        "outputId": "41c37cb4-a970-43e4-b7bf-4cc06e79a516"
      },
      "execution_count": 36,
      "outputs": [
        {
          "output_type": "stream",
          "name": "stdout",
          "text": [
            "가지\n",
            "입력한 내용 : 가지\n"
          ]
        }
      ]
    },
    {
      "cell_type": "markdown",
      "source": [
        "* input() 함수로 사용자에게 입력 받을 수 있다\n",
        "* input() 안에 문자열을 넣는 것으로 안내 문구를 적을 수 있다."
      ],
      "metadata": {
        "id": "7pHSglkInSyj"
      }
    }
  ]
}
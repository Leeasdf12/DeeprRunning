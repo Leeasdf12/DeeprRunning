{
  "nbformat": 4,
  "nbformat_minor": 0,
  "metadata": {
    "colab": {
      "provenance": []
    },
    "kernelspec": {
      "name": "python3",
      "display_name": "Python 3"
    },
    "language_info": {
      "name": "python"
    }
  },
  "cells": [
    {
      "cell_type": "markdown",
      "source": [
        "# WHILE 반복문"
      ],
      "metadata": {
        "id": "7GRL4dWn-0Bu"
      }
    },
    {
      "cell_type": "markdown",
      "source": [
        "# 1. 제곱 출력하기\n",
        "\n",
        "## 요구 사항\n",
        "- 사용자로부터 하나의 정수를 입력받는다.  \n",
        "- 입력된 정수 `num`까지의 숫자에 대해 다음을 수행한다:  \n",
        "  - `while` 문을 이용하여 1부터 `num`까지 각 수의 제곱을 출력한다.  \n",
        "  - `for` 문을 이용하여 1부터 `num`까지 각 수의 제곱을 출력한다.  \n",
        "- 두 반복문 모두 `1^2`, `2^2`, ..., `num^2`까지의 결과를 출력해야 한다.\n"
      ],
      "metadata": {
        "id": "VL9bEF_o7raP"
      }
    },
    {
      "cell_type": "code",
      "execution_count": null,
      "metadata": {
        "id": "IzD2l4je7Iiy",
        "colab": {
          "base_uri": "https://localhost:8080/"
        },
        "outputId": "037fb911-d1cf-4640-b31e-3d13443e9d53"
      },
      "outputs": [
        {
          "output_type": "stream",
          "name": "stdout",
          "text": [
            "5\n",
            "1 ^ 2 = 1\n",
            "2 ^ 2 = 4\n",
            "3 ^ 2 = 9\n",
            "4 ^ 2 = 16\n",
            "5 ^ 2 = 25\n",
            "\n",
            "1 ^ 2 = 1\n",
            "2 ^ 2 = 4\n",
            "3 ^ 2 = 9\n",
            "4 ^ 2 = 16\n",
            "5 ^ 2 = 25\n"
          ]
        }
      ],
      "source": [
        "num = int(input())\n",
        "\n",
        "wh_i = 0\n",
        "\n",
        "while wh_i < num:\n",
        "  wh_i += 1\n",
        "  print('%d ^ 2 = %d' % (wh_i, wh_i*wh_i))\n",
        "\n",
        "print()\n",
        "\n",
        "for fo_i in range(1, num+1):\n",
        "  print('%d ^ 2 = %d' % (fo_i, (fo_i*fo_i)))"
      ]
    },
    {
      "cell_type": "markdown",
      "source": [
        "# 2. 공 튀기기 시뮬레이션\n",
        "\n",
        "## 요구 사항\n",
        "- 사용자로부터 하나의 정수를 입력받는다.  \n",
        "- 공의 초기 높이는 100cm이다.  \n",
        "- 공은 한 번 튈 때마다 이전 높이의 3/5만큼 튄다.  \n",
        "- 입력한 횟수만큼 공이 튄 후, 최종 높이를 출력한다.  \n",
        "- 최종 출력 형식은 `\"최종 높이: ○○\"`와 같이 표시한다.\n"
      ],
      "metadata": {
        "id": "jOdlXldp7vLq"
      }
    },
    {
      "cell_type": "code",
      "source": [
        "num = int(input(\"횟수 입력 : \"))\n",
        "\n",
        "i = 0\n",
        "ball = 100\n",
        "\n",
        "while (i < num):\n",
        "  ball = ball * 0.6\n",
        "  i += 1\n",
        "\n",
        "print(\"최종 높이: %f\" % ball)"
      ],
      "metadata": {
        "id": "6zpvovlM77OL",
        "colab": {
          "base_uri": "https://localhost:8080/"
        },
        "outputId": "84d3b7bb-655c-476c-dd1e-7fa92990f20b"
      },
      "execution_count": 102,
      "outputs": [
        {
          "output_type": "stream",
          "name": "stdout",
          "text": [
            "횟수 입력 : 5\n",
            "최종 높이: 7.776000\n"
          ]
        }
      ]
    },
    {
      "cell_type": "markdown",
      "source": [
        "# 3. 별찍기 문제\n",
        "## 요구사항(4입력 예시)\n",
        "- 패턴 1: 정방향 삼각형\n",
        "- 패턴 2: 오른쪽 정렬 정방향 삼각형\n",
        "- 패턴 3: 역삼각형\n",
        "- 패턴 4: 오른쪽 정렬 역삼각형\n",
        "- 패턴 5: 피라미드"
      ],
      "metadata": {
        "id": "IpHw--7F7-La"
      }
    },
    {
      "cell_type": "code",
      "source": [
        "# 패턴 1\n",
        "\"\"\"\n",
        "*\n",
        "**\n",
        "***\n",
        "****\n",
        "\"\"\""
      ],
      "metadata": {
        "id": "79itg32R88Ik",
        "colab": {
          "base_uri": "https://localhost:8080/",
          "height": 35
        },
        "outputId": "59bed2c9-389f-4a1b-fabf-31f2b8d37c77"
      },
      "execution_count": null,
      "outputs": [
        {
          "output_type": "execute_result",
          "data": {
            "text/plain": [
              "'\\n*\\n**\\n***\\n****\\n'"
            ],
            "application/vnd.google.colaboratory.intrinsic+json": {
              "type": "string"
            }
          },
          "metadata": {},
          "execution_count": 11
        }
      ]
    },
    {
      "cell_type": "code",
      "source": [
        "i = 0\n",
        "\n",
        "while (i < 4):\n",
        "  i += 1\n",
        "  print(\"*\" * i)"
      ],
      "metadata": {
        "colab": {
          "base_uri": "https://localhost:8080/"
        },
        "id": "kJCfA3aacz4T",
        "outputId": "542d8722-88a7-4962-e7b1-ad428f48b400"
      },
      "execution_count": 96,
      "outputs": [
        {
          "output_type": "stream",
          "name": "stdout",
          "text": [
            "*\n",
            "**\n",
            "***\n",
            "****\n"
          ]
        }
      ]
    },
    {
      "cell_type": "code",
      "source": [
        "# 패턴 2\n",
        "\"\"\"\n",
        "   *\n",
        "  **\n",
        " ***\n",
        "****\n",
        "\"\"\""
      ],
      "metadata": {
        "id": "J9hXAWkm9Q0l"
      },
      "execution_count": null,
      "outputs": []
    },
    {
      "cell_type": "code",
      "source": [
        "i = 0\n",
        "\n",
        "while (i < 4):\n",
        "  i += 1\n",
        "  print((\" \"*(5 - i))+(\"*\"*i))"
      ],
      "metadata": {
        "colab": {
          "base_uri": "https://localhost:8080/"
        },
        "id": "5328yCCFdNtK",
        "outputId": "74b12310-6e85-43f9-9636-3b807121a006"
      },
      "execution_count": null,
      "outputs": [
        {
          "output_type": "stream",
          "name": "stdout",
          "text": [
            "    *\n",
            "   **\n",
            "  ***\n",
            " ****\n"
          ]
        }
      ]
    },
    {
      "cell_type": "code",
      "source": [
        "# 패턴 3\n",
        "\"\"\"\n",
        "****\n",
        "***\n",
        "**\n",
        "*\n",
        "\"\"\""
      ],
      "metadata": {
        "id": "yMcUN0jg9SbG"
      },
      "execution_count": null,
      "outputs": []
    },
    {
      "cell_type": "code",
      "source": [
        "i = 0\n",
        "\n",
        "while (i < 4):\n",
        "  i += 1\n",
        "  print(\"*\"*(5 - i))"
      ],
      "metadata": {
        "colab": {
          "base_uri": "https://localhost:8080/"
        },
        "id": "la_WedS2d7PL",
        "outputId": "70152f23-ef2c-4cbe-9296-9df01803d869"
      },
      "execution_count": null,
      "outputs": [
        {
          "output_type": "stream",
          "name": "stdout",
          "text": [
            "****\n",
            "***\n",
            "**\n",
            "*\n"
          ]
        }
      ]
    },
    {
      "cell_type": "code",
      "source": [
        "# 패턴 4\n",
        "\"\"\"\n",
        "****\n",
        " ***\n",
        "  **\n",
        "   *\n",
        "\"\"\""
      ],
      "metadata": {
        "id": "sIpKYsJB9ZFH"
      },
      "execution_count": null,
      "outputs": []
    },
    {
      "cell_type": "code",
      "source": [
        "i = 0\n",
        "\n",
        "while (i < 4):\n",
        "  i += 1\n",
        "  print((\" \"*i)+(\"*\"*(5 - i)))"
      ],
      "metadata": {
        "colab": {
          "base_uri": "https://localhost:8080/"
        },
        "id": "zwgZDdYReOHr",
        "outputId": "2bdd8722-48fd-4db1-a1e6-4e1503dc35f5"
      },
      "execution_count": null,
      "outputs": [
        {
          "output_type": "stream",
          "name": "stdout",
          "text": [
            " ****\n",
            "  ***\n",
            "   **\n",
            "    *\n"
          ]
        }
      ]
    },
    {
      "cell_type": "code",
      "source": [
        "# 패턴 5\n",
        "\"\"\"\n",
        "   *\n",
        "  ***\n",
        " *****\n",
        "*******\n",
        "\"\"\""
      ],
      "metadata": {
        "id": "pEldwTBd9Z0g"
      },
      "execution_count": null,
      "outputs": []
    },
    {
      "cell_type": "code",
      "source": [
        "i = 7\n",
        "j = 1\n",
        "while j <= i:\n",
        "    print(' ' * (i - j) + '*' * (2 * j - 1))\n",
        "    j += 1"
      ],
      "metadata": {
        "id": "rz9DYLHIebXD",
        "colab": {
          "base_uri": "https://localhost:8080/"
        },
        "outputId": "71b85252-92d4-4f08-d046-6d9c52d7482e"
      },
      "execution_count": 97,
      "outputs": [
        {
          "output_type": "stream",
          "name": "stdout",
          "text": [
            "      *\n",
            "     ***\n",
            "    *****\n",
            "   *******\n",
            "  *********\n",
            " ***********\n",
            "*************\n"
          ]
        }
      ]
    },
    {
      "cell_type": "markdown",
      "source": [
        "# 4. 커피 자판기 시뮬레이션\n",
        "\n",
        "## 요구 사항\n",
        "- 사용자에게 커피 개수를 입력받는다.\n",
        "- 사용자가 돈을 넣으면 다음 조건에 따라 처리한다:\n",
        "  - 커피 값은 300원이다.\n",
        "  - 300원을 넣으면 \"커피를 줍니다.\"를 출력하고 커피를 1개 줄인다.  \n",
        "  - 300원보다 많이 넣으면 \"거스름돈 ○○원을 주고 커피를 줍니다.\"를 출력하고 커피를 1개 줄인다.  \n",
        "  - 300원보다 적게 넣으면 \"돈을 다시 돌려주고 커피를 주지 않습니다.\"를 출력하고, 남은 커피 수를 출력한다.  \n",
        "- 커피가 0개가 되면 \"커피가 다 떨어졌습니다. 판매를 중지합니다.\"를 출력하고 반복을 종료한다.\n"
      ],
      "metadata": {
        "id": "Gq2KACYx7fm6"
      }
    },
    {
      "cell_type": "code",
      "source": [
        "coffee_count = int(input(\"커피 개수 입력 : \"))\n",
        "\n",
        "while (coffee_count > 0):\n",
        "  money = int(input(\"돈을 넣으세요(한잔당 300원) : \"))\n",
        "  if money == 300:\n",
        "    print(\"커피를 줍니다.\")\n",
        "    coffee_count -= 1\n",
        "    print(\"남은 커피 수 %d\" % coffee_count)\n",
        "  elif money > 300:\n",
        "    print(\"거스름돈 %d원을 주고 커피를 줍니다.\" % (money-300))\n",
        "    coffee_count -= 1\n",
        "    print(\"남은 커피 수 %d\" % coffee_count)\n",
        "  else:\n",
        "    print(\"돈을 다시 돌려주고 커피를 주지 않습니다.\")\n",
        "    print(\"남은 커피 수 %d\" % coffee_count)\n",
        "\n",
        "print(\"판매가 완료되었습니다.\")"
      ],
      "metadata": {
        "id": "A7yBYTA0BbzJ",
        "colab": {
          "base_uri": "https://localhost:8080/"
        },
        "outputId": "b7d239f8-ca29-4010-a23b-58a6f401fe61"
      },
      "execution_count": null,
      "outputs": [
        {
          "output_type": "stream",
          "name": "stdout",
          "text": [
            "커피 개수 입력 : 3\n",
            "돈을 넣으세요(한잔당 300원) : 300\n",
            "커피를 줍니다.\n",
            "남은 커피 수 2\n",
            "돈을 넣으세요(한잔당 300원) : 500\n",
            "거스름돈 200원을 주고 커피를 줍니다.\n",
            "남은 커피 수 1\n",
            "돈을 넣으세요(한잔당 300원) : 100\n",
            "돈을 다시 돌려주고 커피를 주지 않습니다.\n",
            "남은 커피 수 1\n",
            "돈을 넣으세요(한잔당 300원) : 100\n",
            "돈을 다시 돌려주고 커피를 주지 않습니다.\n",
            "남은 커피 수 1\n",
            "돈을 넣으세요(한잔당 300원) : 0\n",
            "돈을 다시 돌려주고 커피를 주지 않습니다.\n",
            "남은 커피 수 1\n",
            "돈을 넣으세요(한잔당 300원) : 9000\n",
            "거스름돈 8700원을 주고 커피를 줍니다.\n",
            "남은 커피 수 0\n",
            "판매가 완료되었습니다.\n"
          ]
        }
      ]
    },
    {
      "cell_type": "markdown",
      "source": [
        "# FOR 반복문"
      ],
      "metadata": {
        "id": "n0mQVW2N-3Vl"
      }
    },
    {
      "cell_type": "markdown",
      "source": [
        "# 1. 문자열 내 알파벳 빈도수 출력\n",
        "\n",
        "## 요구 사항\n",
        "- 사용자로부터 문자열을 입력받는다.  \n",
        "- 입력된 문자열에서 알파벳(a~z, A~Z)의 빈도수를 출력한다.  \n",
        "- 대소문자는 구분하지 않는다.  \n",
        "- 알파벳이 아닌 문자는 무시한다.  \n",
        "- 알파벳은 오름차순으로 정렬하여 출력한다.\n",
        "\n",
        "### 예시 입력\n",
        "Hello, Python!\n",
        "\n",
        "### 예시 출력\n",
        "- e: 1\n",
        "- h: 2\n",
        "- l: 2\n",
        "- n: 1\n",
        "- o: 2\n",
        "- p: 1\n",
        "- t: 1\n",
        "- y: 1"
      ],
      "metadata": {
        "id": "fNIEwHGq-FW0"
      }
    },
    {
      "cell_type": "code",
      "source": [
        "s = input()\n",
        "\n",
        "dic = {}\n",
        "\n",
        "for c in s:\n",
        "    if c.encode().isalpha():\n",
        "        c = c.lower()\n",
        "        if c in dic:\n",
        "            dic[c] += 1\n",
        "        else:\n",
        "            dic[c] = 1\n",
        "\n",
        "for c in sorted(dic):\n",
        "    print(\"%c: %s\" % (c, dic[c]))"
      ],
      "metadata": {
        "id": "MlLM7eI4-HmF",
        "colab": {
          "base_uri": "https://localhost:8080/"
        },
        "outputId": "2af80a80-969f-4739-9511-a8f978922aef"
      },
      "execution_count": 100,
      "outputs": [
        {
          "output_type": "stream",
          "name": "stdout",
          "text": [
            "saf2fwfad1\n",
            "a: 2\n",
            "d: 1\n",
            "f: 3\n",
            "s: 1\n",
            "w: 1\n"
          ]
        }
      ]
    },
    {
      "cell_type": "markdown",
      "source": [
        "# 2. 계단식 숫자 출력\n",
        "\n",
        "## 요구 사항\n",
        "- 사용자로부터 정수 n을 입력받는다.  \n",
        "- `for` 반복문을 이용해 다음과 같은 숫자 계단을 출력한다.  \n",
        "- 각 줄에는 1부터 해당 줄 번호까지의 숫자를 공백과 함께 출력한다. 단, 마지막에는 공백이 있어선 안된다.\n",
        "- 줄 수는 입력한 정수만큼 출력한다.\n",
        "\n",
        "### 예시 출력 (입력: 5)\n",
        "- 1\n",
        "- 1 2\n",
        "- 1 2 3\n",
        "- 1 2 3 4\n",
        "- 1 2 3 4 5"
      ],
      "metadata": {
        "id": "dmCzBSoE-QSz"
      }
    },
    {
      "cell_type": "code",
      "source": [
        "num = int(input(\"정수 입력 : \"))\n",
        "\n",
        "for i in range(1, num+1): # 1 ~ 5 까지 열\n",
        "  for j in range(1, num+1): #1 ~ 5 까지 행\n",
        "    if i >= j:\n",
        "      if j != num:\n",
        "        print(\"%d\"%j, end = ' ')\n",
        "      else:\n",
        "        print(\"%d\"%j, end = '')\n",
        "    else:\n",
        "      if j != num:\n",
        "        print(\" \", end = ' ')\n",
        "      else:\n",
        "        print(\"\", end = '')\n",
        "  print()"
      ],
      "metadata": {
        "id": "1EYvV-20-T0i",
        "colab": {
          "base_uri": "https://localhost:8080/"
        },
        "outputId": "546727cc-f6ff-49c7-caa9-b61af0e16e51"
      },
      "execution_count": 94,
      "outputs": [
        {
          "output_type": "stream",
          "name": "stdout",
          "text": [
            "정수 입력 : 5\n",
            "1       \n",
            "1 2     \n",
            "1 2 3   \n",
            "1 2 3 4 \n",
            "1 2 3 4 5\n"
          ]
        }
      ]
    },
    {
      "cell_type": "markdown",
      "source": [
        "# 3. 1부터 500까지 3과 5의 공배수 출력\n",
        "\n",
        "## 요구 사항\n",
        "- 1부터 500까지 숫자 중에서 **3과 5의 공배수**만 출력한다.  \n",
        "- 출력 결과는 한 줄에 5개씩 출력되도록 한다.  \n",
        "- 줄바꿈은 5개를 출력할 때마다 적용한다.  \n",
        "- 각 숫자는 가독성을 위해 일정한 간격으로 정렬한다.\n",
        "\n",
        "### 예시 출력\n",
        "15 30 45 60 75\n",
        "\n",
        "90 ..."
      ],
      "metadata": {
        "id": "o6dcEJ_g-U-J"
      }
    },
    {
      "cell_type": "code",
      "source": [
        "count = 0\n",
        "\n",
        "for i in range(1,500):\n",
        "  if (i%3==0 and i%5==0):\n",
        "    print('%3d' % i, end = ' ')\n",
        "    count += 1\n",
        "    if (count%5 == 0): print()"
      ],
      "metadata": {
        "id": "q0RslUBz-bA4",
        "colab": {
          "base_uri": "https://localhost:8080/"
        },
        "outputId": "cb5f609e-3b1f-4553-f268-ec9fe63fdee5"
      },
      "execution_count": 63,
      "outputs": [
        {
          "output_type": "stream",
          "name": "stdout",
          "text": [
            " 15  30  45  60  75 \n",
            " 90 105 120 135 150 \n",
            "165 180 195 210 225 \n",
            "240 255 270 285 300 \n",
            "315 330 345 360 375 \n",
            "390 405 420 435 450 \n",
            "465 480 495 "
          ]
        }
      ]
    },
    {
      "cell_type": "markdown",
      "source": [
        "# 4. 구구단 2단부터 9단까지 출력하기\n",
        "\n",
        "## 요구 사항\n",
        "- `for` 반복문을 중첩 사용하여 **2단부터 9단까지**의 구구단을 출력한다.  \n",
        "- 각 단은 `단 제목`을 먼저 출력한 후, 그 단의 곱셈 결과를 1부터 9까지 출력한다.  \n",
        "- 출력 형식은 `2 x 1 = 2`, `3 x 2 = 6`과 같은 형태로 출력한다."
      ],
      "metadata": {
        "id": "FVHiSyUmG8ir"
      }
    },
    {
      "cell_type": "code",
      "source": [
        "for i in range(2,10):\n",
        "  print()\n",
        "  print(\"구구단 %d단\" % i)\n",
        "  print()\n",
        "  for j in range(1,10):\n",
        "    print(\"%d X %d = %d\" %(i,j,i*j))"
      ],
      "metadata": {
        "id": "FaxSmP_hHLrd",
        "colab": {
          "base_uri": "https://localhost:8080/"
        },
        "outputId": "faf16d48-0db7-4994-dfef-c7b670beb8b0"
      },
      "execution_count": null,
      "outputs": [
        {
          "output_type": "stream",
          "name": "stdout",
          "text": [
            "\n",
            "구구단 2단\n",
            "\n",
            "2 X 1 = 2\n",
            "2 X 2 = 4\n",
            "2 X 3 = 6\n",
            "2 X 4 = 8\n",
            "2 X 5 = 10\n",
            "2 X 6 = 12\n",
            "2 X 7 = 14\n",
            "2 X 8 = 16\n",
            "2 X 9 = 18\n",
            "\n",
            "구구단 3단\n",
            "\n",
            "3 X 1 = 3\n",
            "3 X 2 = 6\n",
            "3 X 3 = 9\n",
            "3 X 4 = 12\n",
            "3 X 5 = 15\n",
            "3 X 6 = 18\n",
            "3 X 7 = 21\n",
            "3 X 8 = 24\n",
            "3 X 9 = 27\n",
            "\n",
            "구구단 4단\n",
            "\n",
            "4 X 1 = 4\n",
            "4 X 2 = 8\n",
            "4 X 3 = 12\n",
            "4 X 4 = 16\n",
            "4 X 5 = 20\n",
            "4 X 6 = 24\n",
            "4 X 7 = 28\n",
            "4 X 8 = 32\n",
            "4 X 9 = 36\n",
            "\n",
            "구구단 5단\n",
            "\n",
            "5 X 1 = 5\n",
            "5 X 2 = 10\n",
            "5 X 3 = 15\n",
            "5 X 4 = 20\n",
            "5 X 5 = 25\n",
            "5 X 6 = 30\n",
            "5 X 7 = 35\n",
            "5 X 8 = 40\n",
            "5 X 9 = 45\n",
            "\n",
            "구구단 6단\n",
            "\n",
            "6 X 1 = 6\n",
            "6 X 2 = 12\n",
            "6 X 3 = 18\n",
            "6 X 4 = 24\n",
            "6 X 5 = 30\n",
            "6 X 6 = 36\n",
            "6 X 7 = 42\n",
            "6 X 8 = 48\n",
            "6 X 9 = 54\n",
            "\n",
            "구구단 7단\n",
            "\n",
            "7 X 1 = 7\n",
            "7 X 2 = 14\n",
            "7 X 3 = 21\n",
            "7 X 4 = 28\n",
            "7 X 5 = 35\n",
            "7 X 6 = 42\n",
            "7 X 7 = 49\n",
            "7 X 8 = 56\n",
            "7 X 9 = 63\n",
            "\n",
            "구구단 8단\n",
            "\n",
            "8 X 1 = 8\n",
            "8 X 2 = 16\n",
            "8 X 3 = 24\n",
            "8 X 4 = 32\n",
            "8 X 5 = 40\n",
            "8 X 6 = 48\n",
            "8 X 7 = 56\n",
            "8 X 8 = 64\n",
            "8 X 9 = 72\n",
            "\n",
            "구구단 9단\n",
            "\n",
            "9 X 1 = 9\n",
            "9 X 2 = 18\n",
            "9 X 3 = 27\n",
            "9 X 4 = 36\n",
            "9 X 5 = 45\n",
            "9 X 6 = 54\n",
            "9 X 7 = 63\n",
            "9 X 8 = 72\n",
            "9 X 9 = 81\n"
          ]
        }
      ]
    }
  ]
}
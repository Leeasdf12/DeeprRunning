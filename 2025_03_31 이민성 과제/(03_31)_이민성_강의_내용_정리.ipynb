{
  "nbformat": 4,
  "nbformat_minor": 0,
  "metadata": {
    "colab": {
      "provenance": []
    },
    "kernelspec": {
      "name": "python3",
      "display_name": "Python 3"
    },
    "language_info": {
      "name": "python"
    }
  },
  "cells": [
    {
      "cell_type": "markdown",
      "source": [
        "# **반복문**\n",
        "\n",
        "* **반복문은 일정한 조건이 만족될 때까지 코드를 반복 실행하는 구문**\n",
        "* **파이썬에서는 주로 for와 while 반복문을 사용**"
      ],
      "metadata": {
        "id": "INukBVZth91X"
      }
    },
    {
      "cell_type": "markdown",
      "source": [
        "# WHILE 반복문\n",
        "주어진 조건이 True(참)인 동안 코드를 반복적을 실행하는 제어문\n",
        "\n",
        "while 조건:\n",
        "조건이 참인 경우 실행되는 문장.\n",
        "조건이 참인 경우 실행되는 문장"
      ],
      "metadata": {
        "id": "I0YSNSHQh9QB"
      }
    },
    {
      "cell_type": "code",
      "source": [
        "#while문 외부에서 조건을 위한 변수 선언\n",
        "num = 1\n",
        "\n",
        "while num <= 5:\n",
        "  # 조건이 참인 경우 실행되는 문장\n",
        "  print(num)\n",
        "  # 조건을 변경시키는 문장을 항상 while문 내부에 포함시켜야 함.\n",
        "  num += 1\n",
        "\n",
        "print(\"while문이 종료된 후 num은 %d입니다.\" % num)\n",
        "\n",
        "# 위 코드는 1 ~ 5까지 증가하며 num을 출력하고 최종적으로 num이 6이 되면서 조건이 끝나는 예제이다"
      ],
      "metadata": {
        "colab": {
          "base_uri": "https://localhost:8080/"
        },
        "id": "r0nb4LtpiRMQ",
        "outputId": "63d27f06-38c3-43ea-ef29-61baf9f4cd2f"
      },
      "execution_count": null,
      "outputs": [
        {
          "output_type": "stream",
          "name": "stdout",
          "text": [
            "1\n",
            "2\n",
            "3\n",
            "4\n",
            "5\n",
            "while문이 종료된 후 num은 6입니다.\n"
          ]
        }
      ]
    },
    {
      "cell_type": "markdown",
      "source": [
        "* while 반복문은 조건을 변경시키는 문장이 없으면 무한루프에 빠지게 된다"
      ],
      "metadata": {
        "id": "Qxi5MctgjJVp"
      }
    },
    {
      "cell_type": "code",
      "source": [
        "while True:\n",
        "  print(\"안녕하세요\")"
      ],
      "metadata": {
        "id": "faSm7OBukIJA"
      },
      "execution_count": null,
      "outputs": []
    },
    {
      "cell_type": "markdown",
      "source": [
        "# Break문\n",
        "* while문을 조건과 관계없이 강제로 탈출하는 명령어"
      ],
      "metadata": {
        "id": "xtxgXz03kbow"
      }
    },
    {
      "cell_type": "code",
      "source": [
        "while True:\n",
        "  print(\"안녕하세요\")\n",
        "  break"
      ],
      "metadata": {
        "id": "LpdZPDcBki9A"
      },
      "execution_count": null,
      "outputs": []
    },
    {
      "cell_type": "code",
      "source": [
        "num = 1\n",
        "\n",
        "while True:\n",
        "  print(num)\n",
        "  num += 1\n",
        "\n",
        "  if num > 5:\n",
        "    break"
      ],
      "metadata": {
        "colab": {
          "base_uri": "https://localhost:8080/"
        },
        "id": "J3qAjHEmkq0I",
        "outputId": "5d8090ad-78de-4a6a-9ad2-821db2003588"
      },
      "execution_count": null,
      "outputs": [
        {
          "output_type": "stream",
          "name": "stdout",
          "text": [
            "1\n",
            "2\n",
            "3\n",
            "4\n",
            "5\n"
          ]
        }
      ]
    },
    {
      "cell_type": "markdown",
      "source": [
        "* while문의 조건 이외에 방법으로 반복문을 탈출하고 싶을때 사용"
      ],
      "metadata": {
        "id": "kS5grieJp0oS"
      }
    },
    {
      "cell_type": "markdown",
      "source": [
        "#CONTINUE 명령어\n",
        "* while 문의 맨 처음으로 돌아가는 명령어\n",
        "* while문을 continue 아래의 문장을 무시하고 다음 루프로 실행시키는 코드 -> continue를 만나는 순간 즉시 조건을 검색하러 간다."
      ],
      "metadata": {
        "id": "gHTcsjKfloWY"
      }
    },
    {
      "cell_type": "code",
      "source": [
        "num = 0\n",
        "while num <=10:\n",
        "\n",
        "  num += 1\n",
        "\n",
        "  if num < 5:\n",
        "    continue\n",
        "\n",
        "  print(num)"
      ],
      "metadata": {
        "colab": {
          "base_uri": "https://localhost:8080/"
        },
        "id": "IeTKvbQbl3HR",
        "outputId": "8483457f-b71d-43a5-b7db-4fc6c4092b91"
      },
      "execution_count": null,
      "outputs": [
        {
          "output_type": "stream",
          "name": "stdout",
          "text": [
            "5\n",
            "6\n",
            "7\n",
            "8\n",
            "9\n",
            "10\n",
            "11\n"
          ]
        }
      ]
    },
    {
      "cell_type": "markdown",
      "source": [
        "# 예제1) n보다 작거나 같은 3의 배수 합 구하기 예제\n",
        "\n",
        "  **요구 사항**  \n",
        "    * 사용자로부터 정수 n을 입력받는다.\n",
        "    * while 반복문을 사용하여 1부터 n까지의 숫자 중 3의 배수만 더한 합계를 출력한다."
      ],
      "metadata": {
        "id": "15Z8sluOm8ua"
      }
    },
    {
      "cell_type": "code",
      "source": [
        "i = 1;\n",
        "sum = 0;\n",
        "\n",
        "n = int(input())\n",
        "\n",
        "while i <= n:\n",
        "  if((i % 3) == 0):\n",
        "    sum += i\n",
        "\n",
        "  i += 1\n",
        "\n",
        "print(sum)"
      ],
      "metadata": {
        "colab": {
          "base_uri": "https://localhost:8080/"
        },
        "id": "dZY79I2InQaR",
        "outputId": "0780c50d-4d9e-41cf-b008-1e6587742616"
      },
      "execution_count": null,
      "outputs": [
        {
          "output_type": "stream",
          "name": "stdout",
          "text": [
            "12\n",
            "30\n"
          ]
        }
      ]
    },
    {
      "cell_type": "markdown",
      "source": [
        "# 예제2) 1부터 입력한 수까지 호수만 출력하되, 100보다 크면 종료하는 예제\n",
        "\n",
        "요구 사항\n",
        "  * 사용자로부터 정수 n을 입력받는다.\n",
        "  * while 반복문을 사용하여 1부터 n까지의 숫자 중 홀수만 출력한다.\n",
        "  * 단, 숫자가 100보다 크면 더 이상 출력하지 않고 반복문을 종료한다.\n",
        "  * continue는 짝수를 건너뛸 때 사용하고, break는 100 초과 시 종료할 때 사용한다.  \n"
      ],
      "metadata": {
        "id": "OGPdbUD_qY7S"
      }
    },
    {
      "cell_type": "code",
      "source": [
        "i = 1;\n",
        "\n",
        "n = int(input())\n",
        "\n",
        "while i <= n:\n",
        "  if i % 2 == 0:\n",
        "    i += 1\n",
        "    continue\n",
        "\n",
        "  if i > 100: break\n",
        "\n",
        "  print(i)\n",
        "  i += 1"
      ],
      "metadata": {
        "colab": {
          "base_uri": "https://localhost:8080/"
        },
        "id": "caSR8D73qz_Z",
        "outputId": "1adbb9fa-fbe8-4738-a4a5-ac7c6acd5635"
      },
      "execution_count": null,
      "outputs": [
        {
          "output_type": "stream",
          "name": "stdout",
          "text": [
            "8\n",
            "1\n",
            "3\n",
            "5\n",
            "7\n"
          ]
        }
      ]
    },
    {
      "cell_type": "markdown",
      "source": [
        "# FOR 반복문\n",
        "\n",
        "* while문은 조건에 의해 실행됐다면 for문은 시퀀스 자료형에 대해서 코드를 반복 실행하는 구문\n",
        "* continue, break문 사용 가능  \n",
        "* for문의 시퀀스  \n",
        "  for 변수 in 리스트(또는 튜플, 문자열):  \n",
        "    수행할_문장1  \n",
        "    수행할_문장2  \n",
        "    ...  "
      ],
      "metadata": {
        "id": "nsFkf7_WvZSL"
      }
    },
    {
      "cell_type": "code",
      "source": [
        "list1 = ['one', 'two', 'three','four', 'five']\n",
        "\n",
        "count = 1\n",
        "\n",
        "for i in list1:\n",
        "  print(str(count)+'회차 i의 값: ', end = '')\n",
        "  print(i)\n",
        "  count = count + 1\n",
        "\n",
        "# 1: i = list[0]('one') -> for문 안에 있는 문장 실행\n",
        "# 2: i = list[1]('two') -> for문 안에 있는 문장 실행\n",
        "# 3: i = list[2]('three') -> for문 안에 있는 문장 실행\n",
        "# 4: i = list[3]('four') -> for문 안에 있는 문장 실행\n",
        "# 5: i = list[5]('five) -> for문 안에 있는 문장 실행\n",
        "\n",
        "# for문에서 2가지 이상의 값을 제어하는 방법\n",
        "# (1, 1)\n",
        "# (2, 2)\n",
        "# (3, 3)\n",
        "a = [(1, 1),(2, 2),(3, 3)]\n",
        "\n",
        "for (b,c) in a:\n",
        "  print(b + c)"
      ],
      "metadata": {
        "colab": {
          "base_uri": "https://localhost:8080/"
        },
        "id": "_1A_exBZvncU",
        "outputId": "f6e3b640-c5fd-46f1-f71b-1d44903b602a"
      },
      "execution_count": null,
      "outputs": [
        {
          "output_type": "stream",
          "name": "stdout",
          "text": [
            "one\n",
            "two\n",
            "three\n",
            "four\n",
            "five\n",
            "2\n",
            "4\n",
            "6\n"
          ]
        }
      ]
    },
    {
      "cell_type": "markdown",
      "source": [
        "* 파이썬에선 조건문 반복문에서 선언된 변수는 전역 변수 취급된다.\n",
        "* 파이썬에선 한번에 2가지 값을 컨트롤 할 수 있다."
      ],
      "metadata": {
        "id": "p3wmnYLvxLl7"
      }
    },
    {
      "cell_type": "markdown",
      "source": [
        "# 학생들의 점수 출력 예제\n",
        "\n",
        "## 요구 사항\n",
        "  * 아래와 같이 (이름, 점수) 형태의 튜플이 담긴 리스트가 주어진다.   \n",
        "    students = [('철수', 85), ('영희', 92), ('민수', 78)]\n",
        "  * for 반복문을 사용하여 다음과 같이 각 학생의 이름과 점수를 출력한다."
      ],
      "metadata": {
        "id": "nAt521_EyFEs"
      }
    },
    {
      "cell_type": "code",
      "source": [
        "students = [('철수', 85), ('영희', 92), ('민수', 78)]\n",
        "\n",
        "for name, score in students:\n",
        "  print(f\"{name}의 점수는 {store}점입니다.\")"
      ],
      "metadata": {
        "id": "QblxRmzbyiw7"
      },
      "execution_count": null,
      "outputs": []
    },
    {
      "cell_type": "markdown",
      "source": [
        "# Range 함수\n",
        "숫자 시퀀스를 자동으로 만들어주는 함수\n",
        "  * range(번호)"
      ],
      "metadata": {
        "id": "3NcmwAw-y4Xz"
      }
    },
    {
      "cell_type": "code",
      "source": [
        "# range : 번호\n",
        "for i in range(10):\n",
        "  print(i)\n",
        "\n",
        "print()\n",
        "\n",
        "for i in range(-10, 12, 2): # 마지막 번호는 포함이 되지 않음(시작번호 이상 ~ 마지막번호 미만)\n",
        "  print(i)\n",
        "\n",
        "a = range(5)"
      ],
      "metadata": {
        "colab": {
          "base_uri": "https://localhost:8080/"
        },
        "id": "0oD4KxtRzBUk",
        "outputId": "5172f9fb-68c6-4ff0-8e48-815d0cf45dc5"
      },
      "execution_count": null,
      "outputs": [
        {
          "output_type": "stream",
          "name": "stdout",
          "text": [
            "0\n",
            "1\n",
            "2\n",
            "3\n",
            "4\n",
            "5\n",
            "6\n",
            "7\n",
            "8\n",
            "9\n",
            "\n",
            "-10\n",
            "-8\n",
            "-6\n",
            "-4\n",
            "-2\n",
            "0\n",
            "2\n",
            "4\n",
            "6\n",
            "8\n",
            "10\n"
          ]
        }
      ]
    },
    {
      "cell_type": "markdown",
      "source": [
        "* range(시작번호, 마지막번호, Step) 형태로 사용할 수 있다\n",
        "* Step 생략시 1과 같음"
      ],
      "metadata": {
        "id": "V-YDj7vX9_zO"
      }
    },
    {
      "cell_type": "markdown",
      "source": [
        "## 구구단 9단 출력 예제"
      ],
      "metadata": {
        "id": "UTkLC2Nqzpfc"
      }
    },
    {
      "cell_type": "code",
      "source": [
        "#for i in range(1, 10):\n",
        "#  print('9 X %d = %d' % (i, i*9))\n",
        "\n",
        "for i in range(1, 10):\n",
        "  print(f'9 X {i} = {i*9}')"
      ],
      "metadata": {
        "colab": {
          "base_uri": "https://localhost:8080/"
        },
        "id": "OUUGLf9sz2hM",
        "outputId": "e5f191d1-5e31-41b2-cdb4-95b0239bad71"
      },
      "execution_count": null,
      "outputs": [
        {
          "output_type": "stream",
          "name": "stdout",
          "text": [
            "9 X 1 = 9\n",
            "9 X 2 = 18\n",
            "9 X 3 = 27\n",
            "9 X 4 = 36\n",
            "9 X 5 = 45\n",
            "9 X 6 = 54\n",
            "9 X 7 = 63\n",
            "9 X 8 = 72\n",
            "9 X 9 = 81\n"
          ]
        }
      ]
    },
    {
      "cell_type": "markdown",
      "source": [
        "# 학생 점수에 따라 합격/불합격 판별 예제\n",
        "\n",
        "##요구 사항  \n",
        "  * 학생들의 점수 리스트 'scores = [15, 50, 46, 86, 94]'가 주어진다.\n",
        "  * 'for' 반복문을 이용하여 리스트의 각 점수를 확인하며 다음 조건을 따른다.\n",
        "    1.  'num'이라는 번호를 1번부터 증가시킨다.\n",
        "    2.  번호가 짝수일 경우 'continue' 를 사용하여 건너뛴다.\n",
        "    3.  번호가 5가 되면 break를 사용하여 반복을 중단한다.\n",
        "    4.  그 외에는 점수가 50점 이상이면 '0번 학생 합격!', 그렇지 않으면 '0번 학생 불합격!'을 출력한다."
      ],
      "metadata": {
        "id": "pQFp0BaT0xtU"
      }
    },
    {
      "cell_type": "code",
      "source": [
        "scores = [15, 50, 46, 86, 94]\n",
        "\n",
        "num = 0;\n",
        "\n",
        "for score in scores:\n",
        "  num += 1\n",
        "\n",
        "  if num == 5 : break\n",
        "  if num % 2 == 0: continue\n",
        "\n",
        "  if score >= 50:\n",
        "    print(f'{num}번 학생 합격!')\n",
        "  else:\n",
        "    print(f'{num}번 학생 불합격!')"
      ],
      "metadata": {
        "colab": {
          "base_uri": "https://localhost:8080/"
        },
        "id": "Lrj287XE1mkE",
        "outputId": "3f7514ec-9999-4553-838b-487b36f45a8b"
      },
      "execution_count": null,
      "outputs": [
        {
          "output_type": "stream",
          "name": "stdout",
          "text": [
            "1번 학생 불합격!\n",
            "3번 학생 불합격!\n"
          ]
        }
      ]
    },
    {
      "cell_type": "markdown",
      "source": [
        "# 예제 심화\n",
        "\n",
        "##요구 사항  \n",
        "  * 학생들의 점수 리스트가 'scores = [15, 50, 46, 86, 94, 100, 51, 60]'가 주어진다.\n",
        "  * 'for' 반복문을 활용하여 다음 작업을 수행한다\n",
        "    1.  각 학생에게 번호(1번부터)를 부여한다.\n",
        "    2.  홀수 번호 학생만 검사하며, 점수가 60점 이상이면 \"0번 학생, 합격!\", 그렇지 않으면 '0번 학생 불합격!'을 출력한다.\n",
        "    3.  불합격한 홀수 번호 학생들의 점수를 누적하여 평균을 계산한다.\n",
        "    4.  반복이 끝난 후, 불합격자들의 평균 점수를 '불합격 받은 학생의 평균 점수는 : 00입니다.\" 형식으로 출력한다."
      ],
      "metadata": {
        "id": "dSQo0Fo376Pd"
      }
    },
    {
      "cell_type": "code",
      "source": [
        "scores = [15, 50, 46, 86, 94, 100, 51, 60]\n",
        "\n",
        "num = 0;\n",
        "sum = 0;\n",
        "count = 0;\n",
        "\n",
        "for score in scores:\n",
        "  num += 1\n",
        "\n",
        "  if num % 2 == 0: continue\n",
        "\n",
        "  if score >= 60:\n",
        "    print(f'{num}번 학생 합격!')\n",
        "  else:\n",
        "    print(f'{num}번 학생 불합격!')\n",
        "    sum += score\n",
        "    count += 1\n",
        "\n",
        "print(f'불합격 받은 학생의 평균 점수는 : %d입니다.' % (sum / count))"
      ],
      "metadata": {
        "colab": {
          "base_uri": "https://localhost:8080/"
        },
        "id": "5FNN_VpE8rjG",
        "outputId": "2f81d96b-d013-45d3-842c-dfd73239acbb"
      },
      "execution_count": null,
      "outputs": [
        {
          "output_type": "stream",
          "name": "stdout",
          "text": [
            "1번 학생 불합격!\n",
            "3번 학생 불합격!\n",
            "5번 학생 합격!\n",
            "7번 학생 불합격!\n",
            "불합격 받은 학생의 평균 점수는 : 37입니다.\n"
          ]
        }
      ]
    },
    {
      "cell_type": "code",
      "source": [
        "# 3번 반복 1회차 때. 내부에 있는 for문이 끝날 때 까지 기다린다.\n",
        "         # 2회차 때, 다시 한번 +5개 출력\n",
        "         # 3회차 때, * 5개 출력 -> 엔터 -> 종료\n",
        "for i in range(3):\n",
        "  # 5번 반복\n",
        "  for j in range(5):\n",
        "    print('*', end=\"\")\n",
        "\n",
        "  print()"
      ],
      "metadata": {
        "colab": {
          "base_uri": "https://localhost:8080/"
        },
        "id": "fqcyGlvX_WCf",
        "outputId": "003142e1-88bf-4e26-b13f-5e0f95fd85b5"
      },
      "execution_count": null,
      "outputs": [
        {
          "output_type": "stream",
          "name": "stdout",
          "text": [
            "*****\n",
            "*****\n",
            "*****\n"
          ]
        }
      ]
    }
  ]
}
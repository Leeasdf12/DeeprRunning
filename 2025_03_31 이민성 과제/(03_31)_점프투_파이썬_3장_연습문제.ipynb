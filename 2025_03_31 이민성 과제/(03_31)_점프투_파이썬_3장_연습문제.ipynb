{
  "nbformat": 4,
  "nbformat_minor": 0,
  "metadata": {
    "colab": {
      "provenance": []
    },
    "kernelspec": {
      "name": "python3",
      "display_name": "Python 3"
    },
    "language_info": {
      "name": "python"
    }
  },
  "cells": [
    {
      "cell_type": "markdown",
      "source": [
        "# Q1. 조건문의 참과 거짓\n",
        "다음 코드의 결괏값은 무엇일까?  \n",
        "\n",
        "a = \"Life is too short, you need python\"  \n",
        "  \n",
        "if \"wife\" in a: print(\"wife\")  \n",
        "elif \"python\" in and \"you\" not in a: print(\"python\")  \n",
        "elif \"shirt\" not in a: print(\"shirt\")  \n",
        "elif \"need\" in a: print(\"need\")  \n",
        "else: print(\"none\")  "
      ],
      "metadata": {
        "id": "_a2SN3q5BDNW"
      }
    },
    {
      "cell_type": "code",
      "source": [
        "a = \"Life is too short, you need python\"\n",
        "\n",
        "if \"wife\" in a: print(\"wife\")\n",
        "elif \"python\" in a and \"you\" not in a: print(\"python\")\n",
        "elif \"shirt\" not in a: print(\"shirt\")\n",
        "elif \"need\" in a: print(\"need\")\n",
        "else: print(\"none\")"
      ],
      "metadata": {
        "colab": {
          "base_uri": "https://localhost:8080/"
        },
        "id": "LxxmhQRKBbHe",
        "outputId": "6ccd5d06-9540-48ba-b1f6-ef90271fceed"
      },
      "execution_count": null,
      "outputs": [
        {
          "output_type": "stream",
          "name": "stdout",
          "text": [
            "shirt\n"
          ]
        }
      ]
    },
    {
      "cell_type": "markdown",
      "source": [
        "# Q2. 3의 배수의 합 구하기\n",
        "while 문을 사용해 1부터 1000까지의 자연수 중 3의 배수의 합을 구해 보자."
      ],
      "metadata": {
        "id": "kdbpQaWtBiJu"
      }
    },
    {
      "cell_type": "code",
      "source": [
        "result = 0\n",
        "i = 1\n",
        "\n",
        "while i <= 1000:\n",
        "  if i%3==0:\n",
        "    result += i\n",
        "  i += 1\n",
        "\n",
        "print(result)"
      ],
      "metadata": {
        "colab": {
          "base_uri": "https://localhost:8080/"
        },
        "id": "jj4EMRa0Bx0e",
        "outputId": "8b156cbc-1e0e-4232-c728-bae8061cffab"
      },
      "execution_count": null,
      "outputs": [
        {
          "output_type": "stream",
          "name": "stdout",
          "text": [
            "166833\n"
          ]
        }
      ]
    },
    {
      "cell_type": "markdown",
      "source": [
        "# Q3. 별 표시하기\n",
        "while 문을 사용하여 다음과 같이 별(*)을 표시하는 프로그램을 작성해 보자."
      ],
      "metadata": {
        "id": "0nWkWJlECE02"
      }
    },
    {
      "cell_type": "code",
      "source": [
        "i = 0\n",
        "while True:\n",
        "  i += 1\n",
        "  if i > 5: break\n",
        "  print(i * '*')"
      ],
      "metadata": {
        "colab": {
          "base_uri": "https://localhost:8080/"
        },
        "id": "xeD0odMUCM8m",
        "outputId": "921707a3-216f-4a59-b877-1573bd17f9cf"
      },
      "execution_count": null,
      "outputs": [
        {
          "output_type": "stream",
          "name": "stdout",
          "text": [
            "*\n",
            "**\n",
            "***\n",
            "****\n",
            "*****\n"
          ]
        }
      ]
    },
    {
      "cell_type": "markdown",
      "source": [
        "# Q4. 1부터 100까지 출력하기\n",
        "for 문을 사용해 1부터 100까지의 숫자를 출력해 보자."
      ],
      "metadata": {
        "id": "Lk_XmY5aC2b9"
      }
    },
    {
      "cell_type": "code",
      "source": [
        "for i in range(1,101):\n",
        "  print(i)"
      ],
      "metadata": {
        "colab": {
          "base_uri": "https://localhost:8080/"
        },
        "id": "SwJ42r6JC--u",
        "outputId": "e09ef1fe-4268-44fc-fc47-40ed566ec6eb"
      },
      "execution_count": null,
      "outputs": [
        {
          "output_type": "stream",
          "name": "stdout",
          "text": [
            "1\n",
            "2\n",
            "3\n",
            "4\n",
            "5\n",
            "6\n",
            "7\n",
            "8\n",
            "9\n",
            "10\n",
            "11\n",
            "12\n",
            "13\n",
            "14\n",
            "15\n",
            "16\n",
            "17\n",
            "18\n",
            "19\n",
            "20\n",
            "21\n",
            "22\n",
            "23\n",
            "24\n",
            "25\n",
            "26\n",
            "27\n",
            "28\n",
            "29\n",
            "30\n",
            "31\n",
            "32\n",
            "33\n",
            "34\n",
            "35\n",
            "36\n",
            "37\n",
            "38\n",
            "39\n",
            "40\n",
            "41\n",
            "42\n",
            "43\n",
            "44\n",
            "45\n",
            "46\n",
            "47\n",
            "48\n",
            "49\n",
            "50\n",
            "51\n",
            "52\n",
            "53\n",
            "54\n",
            "55\n",
            "56\n",
            "57\n",
            "58\n",
            "59\n",
            "60\n",
            "61\n",
            "62\n",
            "63\n",
            "64\n",
            "65\n",
            "66\n",
            "67\n",
            "68\n",
            "69\n",
            "70\n",
            "71\n",
            "72\n",
            "73\n",
            "74\n",
            "75\n",
            "76\n",
            "77\n",
            "78\n",
            "79\n",
            "80\n",
            "81\n",
            "82\n",
            "83\n",
            "84\n",
            "85\n",
            "86\n",
            "87\n",
            "88\n",
            "89\n",
            "90\n",
            "91\n",
            "92\n",
            "93\n",
            "94\n",
            "95\n",
            "96\n",
            "97\n",
            "98\n",
            "99\n",
            "100\n"
          ]
        }
      ]
    },
    {
      "cell_type": "markdown",
      "source": [
        "# Q5. 평균 점수 구하기\n",
        "A 학급에 총 10명의 학생이 있다. 이 학생들의 중간고사 점수는 다음과 같다.  \n",
        "[70,60,55,75,95,90,80,80,85,100]  \n",
        "for 문을 사용하여 A 학급의 평균 점수를 구해 보자."
      ],
      "metadata": {
        "id": "dYaDIYaPDF0O"
      }
    },
    {
      "cell_type": "code",
      "source": [
        "A = [70,60,55,75,95,90,80,80,85,100]\n",
        "total = 0\n",
        "for score in A:\n",
        "  total += score\n",
        "average = total / len(A)\n",
        "print(average)"
      ],
      "metadata": {
        "colab": {
          "base_uri": "https://localhost:8080/"
        },
        "id": "nH5-CH7BDH42",
        "outputId": "7d0c0595-e5a8-4ecf-9422-5fda5014986b"
      },
      "execution_count": null,
      "outputs": [
        {
          "output_type": "stream",
          "name": "stdout",
          "text": [
            "10\n",
            "79.0\n"
          ]
        }
      ]
    }
  ]
}